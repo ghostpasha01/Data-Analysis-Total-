{
  "cells": [
    {
      "cell_type": "markdown",
      "metadata": {
        "id": "view-in-github",
        "colab_type": "text"
      },
      "source": [
        "<a href=\"https://colab.research.google.com/github/ghostpasha01/Data_Analysis/blob/main/Unicorn_Companies_Analysis.ipynb\" target=\"_parent\"><img src=\"https://colab.research.google.com/assets/colab-badge.svg\" alt=\"Open In Colab\"/></a>"
      ]
    },
    {
      "cell_type": "code",
      "execution_count": null,
      "id": "ec998e29",
      "metadata": {
        "id": "ec998e29"
      },
      "outputs": [],
      "source": [
        "import numpy as np\n",
        "import pandas as pd\n",
        "import scipy.stats as stats\n",
        "import re as re\n",
        "import seaborn as sns\n",
        "import matplotlib.pyplot as plt\n",
        "import plotly\n",
        "import plotly.express as px\n",
        "from matplotlib.pyplot import figure \n",
        "from plotly.offline import init_notebook_mode,iplot\n",
        "import plotly.graph_objects as go\n",
        "\n",
        "%matplotlib inline"
      ]
    },
    {
      "cell_type": "code",
      "execution_count": null,
      "id": "6bc6aebf",
      "metadata": {
        "id": "6bc6aebf",
        "outputId": "e04f2e2d-cc9c-4267-9d2e-7cc818394228"
      },
      "outputs": [
        {
          "data": {
            "text/html": [
              "<div>\n",
              "<style scoped>\n",
              "    .dataframe tbody tr th:only-of-type {\n",
              "        vertical-align: middle;\n",
              "    }\n",
              "\n",
              "    .dataframe tbody tr th {\n",
              "        vertical-align: top;\n",
              "    }\n",
              "\n",
              "    .dataframe thead th {\n",
              "        text-align: right;\n",
              "    }\n",
              "</style>\n",
              "<table border=\"1\" class=\"dataframe\">\n",
              "  <thead>\n",
              "    <tr style=\"text-align: right;\">\n",
              "      <th></th>\n",
              "      <th>Company</th>\n",
              "      <th>Valuation</th>\n",
              "      <th>Date Joined</th>\n",
              "      <th>Industry</th>\n",
              "      <th>City</th>\n",
              "      <th>Country</th>\n",
              "      <th>Continent</th>\n",
              "      <th>Year Founded</th>\n",
              "      <th>Funding</th>\n",
              "      <th>Select Investors</th>\n",
              "    </tr>\n",
              "  </thead>\n",
              "  <tbody>\n",
              "    <tr>\n",
              "      <th>0</th>\n",
              "      <td>Bytedance</td>\n",
              "      <td>$180B</td>\n",
              "      <td>2017-04-07</td>\n",
              "      <td>Artificial intelligence</td>\n",
              "      <td>Beijing</td>\n",
              "      <td>China</td>\n",
              "      <td>Asia</td>\n",
              "      <td>2012</td>\n",
              "      <td>$8B</td>\n",
              "      <td>Sequoia Capital China, SIG Asia Investments, S...</td>\n",
              "    </tr>\n",
              "    <tr>\n",
              "      <th>1</th>\n",
              "      <td>SpaceX</td>\n",
              "      <td>$100B</td>\n",
              "      <td>2012-12-01</td>\n",
              "      <td>Other</td>\n",
              "      <td>Hawthorne</td>\n",
              "      <td>United States</td>\n",
              "      <td>North America</td>\n",
              "      <td>2002</td>\n",
              "      <td>$7B</td>\n",
              "      <td>Founders Fund, Draper Fisher Jurvetson, Rothen...</td>\n",
              "    </tr>\n",
              "    <tr>\n",
              "      <th>2</th>\n",
              "      <td>SHEIN</td>\n",
              "      <td>$100B</td>\n",
              "      <td>2018-07-03</td>\n",
              "      <td>E-commerce &amp; direct-to-consumer</td>\n",
              "      <td>Shenzhen</td>\n",
              "      <td>China</td>\n",
              "      <td>Asia</td>\n",
              "      <td>2008</td>\n",
              "      <td>$2B</td>\n",
              "      <td>Tiger Global Management, Sequoia Capital China...</td>\n",
              "    </tr>\n",
              "    <tr>\n",
              "      <th>3</th>\n",
              "      <td>Stripe</td>\n",
              "      <td>$95B</td>\n",
              "      <td>2014-01-23</td>\n",
              "      <td>Fintech</td>\n",
              "      <td>San Francisco</td>\n",
              "      <td>United States</td>\n",
              "      <td>North America</td>\n",
              "      <td>2010</td>\n",
              "      <td>$2B</td>\n",
              "      <td>Khosla Ventures, LowercaseCapital, capitalG</td>\n",
              "    </tr>\n",
              "    <tr>\n",
              "      <th>4</th>\n",
              "      <td>Klarna</td>\n",
              "      <td>$46B</td>\n",
              "      <td>2011-12-12</td>\n",
              "      <td>Fintech</td>\n",
              "      <td>Stockholm</td>\n",
              "      <td>Sweden</td>\n",
              "      <td>Europe</td>\n",
              "      <td>2005</td>\n",
              "      <td>$4B</td>\n",
              "      <td>Institutional Venture Partners, Sequoia Capita...</td>\n",
              "    </tr>\n",
              "  </tbody>\n",
              "</table>\n",
              "</div>"
            ],
            "text/plain": [
              "     Company Valuation Date Joined                         Industry  \\\n",
              "0  Bytedance     $180B  2017-04-07          Artificial intelligence   \n",
              "1     SpaceX     $100B  2012-12-01                            Other   \n",
              "2      SHEIN     $100B  2018-07-03  E-commerce & direct-to-consumer   \n",
              "3     Stripe      $95B  2014-01-23                          Fintech   \n",
              "4     Klarna      $46B  2011-12-12                          Fintech   \n",
              "\n",
              "            City        Country      Continent  Year Founded Funding  \\\n",
              "0        Beijing          China           Asia          2012     $8B   \n",
              "1      Hawthorne  United States  North America          2002     $7B   \n",
              "2       Shenzhen          China           Asia          2008     $2B   \n",
              "3  San Francisco  United States  North America          2010     $2B   \n",
              "4      Stockholm         Sweden         Europe          2005     $4B   \n",
              "\n",
              "                                    Select Investors  \n",
              "0  Sequoia Capital China, SIG Asia Investments, S...  \n",
              "1  Founders Fund, Draper Fisher Jurvetson, Rothen...  \n",
              "2  Tiger Global Management, Sequoia Capital China...  \n",
              "3        Khosla Ventures, LowercaseCapital, capitalG  \n",
              "4  Institutional Venture Partners, Sequoia Capita...  "
            ]
          },
          "execution_count": 2,
          "metadata": {},
          "output_type": "execute_result"
        }
      ],
      "source": [
        "df=pd.read_csv(\"C://Users//Hp//Desktop//Veri setler(Yeni Site)//UnicornChallenge//Unicorn_Companies.csv\")\n",
        "df.head()"
      ]
    },
    {
      "cell_type": "code",
      "execution_count": null,
      "id": "2920bf45",
      "metadata": {
        "id": "2920bf45",
        "outputId": "7231972d-525c-4479-d774-101d2d8b29ec"
      },
      "outputs": [
        {
          "name": "stdout",
          "output_type": "stream",
          "text": [
            "<class 'pandas.core.frame.DataFrame'>\n",
            "RangeIndex: 1074 entries, 0 to 1073\n",
            "Data columns (total 10 columns):\n",
            " #   Column            Non-Null Count  Dtype \n",
            "---  ------            --------------  ----- \n",
            " 0   Company           1074 non-null   object\n",
            " 1   Valuation         1074 non-null   object\n",
            " 2   Date Joined       1074 non-null   object\n",
            " 3   Industry          1074 non-null   object\n",
            " 4   City              1058 non-null   object\n",
            " 5   Country           1074 non-null   object\n",
            " 6   Continent         1074 non-null   object\n",
            " 7   Year Founded      1074 non-null   int64 \n",
            " 8   Funding           1074 non-null   object\n",
            " 9   Select Investors  1073 non-null   object\n",
            "dtypes: int64(1), object(9)\n",
            "memory usage: 84.0+ KB\n"
          ]
        }
      ],
      "source": [
        "#dataset summary\n",
        "df.info(verbose=True)"
      ]
    },
    {
      "cell_type": "code",
      "execution_count": null,
      "id": "be610097",
      "metadata": {
        "id": "be610097",
        "outputId": "4ad8894f-26fd-4669-e886-a978e01d64c0"
      },
      "outputs": [
        {
          "data": {
            "text/html": [
              "<div>\n",
              "<style scoped>\n",
              "    .dataframe tbody tr th:only-of-type {\n",
              "        vertical-align: middle;\n",
              "    }\n",
              "\n",
              "    .dataframe tbody tr th {\n",
              "        vertical-align: top;\n",
              "    }\n",
              "\n",
              "    .dataframe thead th {\n",
              "        text-align: right;\n",
              "    }\n",
              "</style>\n",
              "<table border=\"1\" class=\"dataframe\">\n",
              "  <thead>\n",
              "    <tr style=\"text-align: right;\">\n",
              "      <th></th>\n",
              "      <th>Company</th>\n",
              "      <th>Valuation</th>\n",
              "      <th>Date Joined</th>\n",
              "      <th>Industry</th>\n",
              "      <th>City</th>\n",
              "      <th>Country</th>\n",
              "      <th>Continent</th>\n",
              "      <th>Year Founded</th>\n",
              "      <th>Funding</th>\n",
              "      <th>Select Investors</th>\n",
              "    </tr>\n",
              "  </thead>\n",
              "  <tbody>\n",
              "    <tr>\n",
              "      <th>count</th>\n",
              "      <td>1074</td>\n",
              "      <td>1074</td>\n",
              "      <td>1074</td>\n",
              "      <td>1074</td>\n",
              "      <td>1058</td>\n",
              "      <td>1074</td>\n",
              "      <td>1074</td>\n",
              "      <td>1074.000000</td>\n",
              "      <td>1074</td>\n",
              "      <td>1073</td>\n",
              "    </tr>\n",
              "    <tr>\n",
              "      <th>unique</th>\n",
              "      <td>1073</td>\n",
              "      <td>30</td>\n",
              "      <td>639</td>\n",
              "      <td>16</td>\n",
              "      <td>256</td>\n",
              "      <td>46</td>\n",
              "      <td>6</td>\n",
              "      <td>NaN</td>\n",
              "      <td>539</td>\n",
              "      <td>1058</td>\n",
              "    </tr>\n",
              "    <tr>\n",
              "      <th>top</th>\n",
              "      <td>Bolt</td>\n",
              "      <td>$1B</td>\n",
              "      <td>2021-07-13</td>\n",
              "      <td>Fintech</td>\n",
              "      <td>San Francisco</td>\n",
              "      <td>United States</td>\n",
              "      <td>North America</td>\n",
              "      <td>NaN</td>\n",
              "      <td>$1B</td>\n",
              "      <td>Sequoia Capital</td>\n",
              "    </tr>\n",
              "    <tr>\n",
              "      <th>freq</th>\n",
              "      <td>2</td>\n",
              "      <td>471</td>\n",
              "      <td>9</td>\n",
              "      <td>224</td>\n",
              "      <td>152</td>\n",
              "      <td>562</td>\n",
              "      <td>589</td>\n",
              "      <td>NaN</td>\n",
              "      <td>60</td>\n",
              "      <td>3</td>\n",
              "    </tr>\n",
              "    <tr>\n",
              "      <th>mean</th>\n",
              "      <td>NaN</td>\n",
              "      <td>NaN</td>\n",
              "      <td>NaN</td>\n",
              "      <td>NaN</td>\n",
              "      <td>NaN</td>\n",
              "      <td>NaN</td>\n",
              "      <td>NaN</td>\n",
              "      <td>2012.895717</td>\n",
              "      <td>NaN</td>\n",
              "      <td>NaN</td>\n",
              "    </tr>\n",
              "    <tr>\n",
              "      <th>std</th>\n",
              "      <td>NaN</td>\n",
              "      <td>NaN</td>\n",
              "      <td>NaN</td>\n",
              "      <td>NaN</td>\n",
              "      <td>NaN</td>\n",
              "      <td>NaN</td>\n",
              "      <td>NaN</td>\n",
              "      <td>5.698573</td>\n",
              "      <td>NaN</td>\n",
              "      <td>NaN</td>\n",
              "    </tr>\n",
              "    <tr>\n",
              "      <th>min</th>\n",
              "      <td>NaN</td>\n",
              "      <td>NaN</td>\n",
              "      <td>NaN</td>\n",
              "      <td>NaN</td>\n",
              "      <td>NaN</td>\n",
              "      <td>NaN</td>\n",
              "      <td>NaN</td>\n",
              "      <td>1919.000000</td>\n",
              "      <td>NaN</td>\n",
              "      <td>NaN</td>\n",
              "    </tr>\n",
              "    <tr>\n",
              "      <th>25%</th>\n",
              "      <td>NaN</td>\n",
              "      <td>NaN</td>\n",
              "      <td>NaN</td>\n",
              "      <td>NaN</td>\n",
              "      <td>NaN</td>\n",
              "      <td>NaN</td>\n",
              "      <td>NaN</td>\n",
              "      <td>2011.000000</td>\n",
              "      <td>NaN</td>\n",
              "      <td>NaN</td>\n",
              "    </tr>\n",
              "    <tr>\n",
              "      <th>50%</th>\n",
              "      <td>NaN</td>\n",
              "      <td>NaN</td>\n",
              "      <td>NaN</td>\n",
              "      <td>NaN</td>\n",
              "      <td>NaN</td>\n",
              "      <td>NaN</td>\n",
              "      <td>NaN</td>\n",
              "      <td>2014.000000</td>\n",
              "      <td>NaN</td>\n",
              "      <td>NaN</td>\n",
              "    </tr>\n",
              "    <tr>\n",
              "      <th>75%</th>\n",
              "      <td>NaN</td>\n",
              "      <td>NaN</td>\n",
              "      <td>NaN</td>\n",
              "      <td>NaN</td>\n",
              "      <td>NaN</td>\n",
              "      <td>NaN</td>\n",
              "      <td>NaN</td>\n",
              "      <td>2016.000000</td>\n",
              "      <td>NaN</td>\n",
              "      <td>NaN</td>\n",
              "    </tr>\n",
              "    <tr>\n",
              "      <th>max</th>\n",
              "      <td>NaN</td>\n",
              "      <td>NaN</td>\n",
              "      <td>NaN</td>\n",
              "      <td>NaN</td>\n",
              "      <td>NaN</td>\n",
              "      <td>NaN</td>\n",
              "      <td>NaN</td>\n",
              "      <td>2021.000000</td>\n",
              "      <td>NaN</td>\n",
              "      <td>NaN</td>\n",
              "    </tr>\n",
              "  </tbody>\n",
              "</table>\n",
              "</div>"
            ],
            "text/plain": [
              "       Company Valuation Date Joined Industry           City        Country  \\\n",
              "count     1074      1074        1074     1074           1058           1074   \n",
              "unique    1073        30         639       16            256             46   \n",
              "top       Bolt       $1B  2021-07-13  Fintech  San Francisco  United States   \n",
              "freq         2       471           9      224            152            562   \n",
              "mean       NaN       NaN         NaN      NaN            NaN            NaN   \n",
              "std        NaN       NaN         NaN      NaN            NaN            NaN   \n",
              "min        NaN       NaN         NaN      NaN            NaN            NaN   \n",
              "25%        NaN       NaN         NaN      NaN            NaN            NaN   \n",
              "50%        NaN       NaN         NaN      NaN            NaN            NaN   \n",
              "75%        NaN       NaN         NaN      NaN            NaN            NaN   \n",
              "max        NaN       NaN         NaN      NaN            NaN            NaN   \n",
              "\n",
              "            Continent  Year Founded Funding Select Investors  \n",
              "count            1074   1074.000000    1074             1073  \n",
              "unique              6           NaN     539             1058  \n",
              "top     North America           NaN     $1B  Sequoia Capital  \n",
              "freq              589           NaN      60                3  \n",
              "mean              NaN   2012.895717     NaN              NaN  \n",
              "std               NaN      5.698573     NaN              NaN  \n",
              "min               NaN   1919.000000     NaN              NaN  \n",
              "25%               NaN   2011.000000     NaN              NaN  \n",
              "50%               NaN   2014.000000     NaN              NaN  \n",
              "75%               NaN   2016.000000     NaN              NaN  \n",
              "max               NaN   2021.000000     NaN              NaN  "
            ]
          },
          "execution_count": 4,
          "metadata": {},
          "output_type": "execute_result"
        }
      ],
      "source": [
        "#descriptive statistics\n",
        "df.describe(include='all')"
      ]
    },
    {
      "cell_type": "markdown",
      "id": "e0ea434a",
      "metadata": {
        "id": "e0ea434a"
      },
      "source": [
        "# Data Preprocessing"
      ]
    },
    {
      "cell_type": "code",
      "execution_count": null,
      "id": "208fc665",
      "metadata": {
        "id": "208fc665",
        "outputId": "a4302843-2cf7-4763-c29f-1433e3e76258"
      },
      "outputs": [
        {
          "data": {
            "text/plain": [
              "0"
            ]
          },
          "execution_count": 5,
          "metadata": {},
          "output_type": "execute_result"
        }
      ],
      "source": [
        "#check for duoplicated rows\n",
        "df.duplicated().sum()"
      ]
    },
    {
      "cell_type": "code",
      "execution_count": null,
      "id": "aab75973",
      "metadata": {
        "id": "aab75973"
      },
      "outputs": [],
      "source": [
        "#fill null values\n",
        "values={\"City\":\"Not Listed\",\"Select Investors\":\"Not Listed\"}\n",
        "df=df.fillna(value=values)"
      ]
    },
    {
      "cell_type": "code",
      "execution_count": null,
      "id": "4bc480f0",
      "metadata": {
        "id": "4bc480f0"
      },
      "outputs": [],
      "source": [
        "#incorrect data replacement\n",
        "df.replace({'Industry': r'Artificial intelligence'},{'Industry':'Artifical Intelligence'},regex=True,inplace=True)"
      ]
    },
    {
      "cell_type": "code",
      "execution_count": null,
      "id": "30ccd5eb",
      "metadata": {
        "id": "30ccd5eb"
      },
      "outputs": [],
      "source": [
        "df.loc[714,'Year Founded']=2013\n"
      ]
    },
    {
      "cell_type": "code",
      "execution_count": null,
      "id": "a34e0ae8",
      "metadata": {
        "id": "a34e0ae8"
      },
      "outputs": [],
      "source": [
        "#date column conversion\n",
        "df[\"Date Joined\"] = pd.to_datetime(df[\"Date Joined\"])"
      ]
    },
    {
      "cell_type": "code",
      "execution_count": null,
      "id": "eccc6a1d",
      "metadata": {
        "id": "eccc6a1d"
      },
      "outputs": [],
      "source": [
        "#year joined\n",
        "df['Year Joined'] = pd.DatetimeIndex(df['Date Joined']).year"
      ]
    },
    {
      "cell_type": "code",
      "execution_count": null,
      "id": "232a1ada",
      "metadata": {
        "id": "232a1ada"
      },
      "outputs": [],
      "source": [
        "# timespan between being a unicorn and being founded\n",
        "df['Timespan'] = df['Year Joined']-df['Year Founded']"
      ]
    },
    {
      "cell_type": "code",
      "execution_count": null,
      "id": "f5b78aa3",
      "metadata": {
        "id": "f5b78aa3"
      },
      "outputs": [],
      "source": [
        "#remove currency sysmbols from valuation for easier calculation\n",
        "def find_number_valuation(text):\n",
        "    num = re.findall(r'[0-9]+',text)\n",
        "    return \" \".join(num)\n",
        "df['Valuation']=df['Valuation'].apply(lambda x: find_number_valuation(x))\n",
        "df[\"Valuation\"] = pd.to_numeric(df[\"Valuation\"])"
      ]
    },
    {
      "cell_type": "code",
      "execution_count": null,
      "id": "ee96aaff",
      "metadata": {
        "id": "ee96aaff"
      },
      "outputs": [],
      "source": [
        "#remove currency symbols from funding column for easier calculation\n",
        "def find_number_funding(text):\n",
        "    mul = 1\n",
        "    if text == \"Unknown\":\n",
        "        return 0\n",
        "    if text[-1] == 'M':\n",
        "        mul = 0.001\n",
        "    else :\n",
        "        mul = 1\n",
        "    num = re.findall(r'[0-9]+',text) \n",
        "    num = int(num[0])\n",
        "    return num*mul\n",
        "df['Funding']=df['Funding'].apply(lambda x: find_number_funding(x))"
      ]
    },
    {
      "cell_type": "code",
      "execution_count": null,
      "id": "ce88be6b",
      "metadata": {
        "id": "ce88be6b",
        "outputId": "105b56a5-8c0e-4d39-a851-66655d32a2cf"
      },
      "outputs": [
        {
          "data": {
            "text/html": [
              "<div>\n",
              "<style scoped>\n",
              "    .dataframe tbody tr th:only-of-type {\n",
              "        vertical-align: middle;\n",
              "    }\n",
              "\n",
              "    .dataframe tbody tr th {\n",
              "        vertical-align: top;\n",
              "    }\n",
              "\n",
              "    .dataframe thead th {\n",
              "        text-align: right;\n",
              "    }\n",
              "</style>\n",
              "<table border=\"1\" class=\"dataframe\">\n",
              "  <thead>\n",
              "    <tr style=\"text-align: right;\">\n",
              "      <th></th>\n",
              "      <th>Company</th>\n",
              "      <th>Valuation</th>\n",
              "      <th>Date Joined</th>\n",
              "      <th>Industry</th>\n",
              "      <th>City</th>\n",
              "      <th>Country</th>\n",
              "      <th>Continent</th>\n",
              "      <th>Year Founded</th>\n",
              "      <th>Funding</th>\n",
              "      <th>Select Investors</th>\n",
              "      <th>Year Joined</th>\n",
              "      <th>Timespan</th>\n",
              "    </tr>\n",
              "  </thead>\n",
              "  <tbody>\n",
              "    <tr>\n",
              "      <th>0</th>\n",
              "      <td>Bytedance</td>\n",
              "      <td>180</td>\n",
              "      <td>2017-04-07</td>\n",
              "      <td>Artifical Intelligence</td>\n",
              "      <td>Beijing</td>\n",
              "      <td>China</td>\n",
              "      <td>Asia</td>\n",
              "      <td>2012</td>\n",
              "      <td>8.0</td>\n",
              "      <td>Sequoia Capital China, SIG Asia Investments, S...</td>\n",
              "      <td>2017</td>\n",
              "      <td>5</td>\n",
              "    </tr>\n",
              "    <tr>\n",
              "      <th>1</th>\n",
              "      <td>SpaceX</td>\n",
              "      <td>100</td>\n",
              "      <td>2012-12-01</td>\n",
              "      <td>Other</td>\n",
              "      <td>Hawthorne</td>\n",
              "      <td>United States</td>\n",
              "      <td>North America</td>\n",
              "      <td>2002</td>\n",
              "      <td>7.0</td>\n",
              "      <td>Founders Fund, Draper Fisher Jurvetson, Rothen...</td>\n",
              "      <td>2012</td>\n",
              "      <td>10</td>\n",
              "    </tr>\n",
              "    <tr>\n",
              "      <th>2</th>\n",
              "      <td>SHEIN</td>\n",
              "      <td>100</td>\n",
              "      <td>2018-07-03</td>\n",
              "      <td>E-commerce &amp; direct-to-consumer</td>\n",
              "      <td>Shenzhen</td>\n",
              "      <td>China</td>\n",
              "      <td>Asia</td>\n",
              "      <td>2008</td>\n",
              "      <td>2.0</td>\n",
              "      <td>Tiger Global Management, Sequoia Capital China...</td>\n",
              "      <td>2018</td>\n",
              "      <td>10</td>\n",
              "    </tr>\n",
              "    <tr>\n",
              "      <th>3</th>\n",
              "      <td>Stripe</td>\n",
              "      <td>95</td>\n",
              "      <td>2014-01-23</td>\n",
              "      <td>Fintech</td>\n",
              "      <td>San Francisco</td>\n",
              "      <td>United States</td>\n",
              "      <td>North America</td>\n",
              "      <td>2010</td>\n",
              "      <td>2.0</td>\n",
              "      <td>Khosla Ventures, LowercaseCapital, capitalG</td>\n",
              "      <td>2014</td>\n",
              "      <td>4</td>\n",
              "    </tr>\n",
              "    <tr>\n",
              "      <th>4</th>\n",
              "      <td>Klarna</td>\n",
              "      <td>46</td>\n",
              "      <td>2011-12-12</td>\n",
              "      <td>Fintech</td>\n",
              "      <td>Stockholm</td>\n",
              "      <td>Sweden</td>\n",
              "      <td>Europe</td>\n",
              "      <td>2005</td>\n",
              "      <td>4.0</td>\n",
              "      <td>Institutional Venture Partners, Sequoia Capita...</td>\n",
              "      <td>2011</td>\n",
              "      <td>6</td>\n",
              "    </tr>\n",
              "  </tbody>\n",
              "</table>\n",
              "</div>"
            ],
            "text/plain": [
              "     Company  Valuation Date Joined                         Industry  \\\n",
              "0  Bytedance        180  2017-04-07           Artifical Intelligence   \n",
              "1     SpaceX        100  2012-12-01                            Other   \n",
              "2      SHEIN        100  2018-07-03  E-commerce & direct-to-consumer   \n",
              "3     Stripe         95  2014-01-23                          Fintech   \n",
              "4     Klarna         46  2011-12-12                          Fintech   \n",
              "\n",
              "            City        Country      Continent  Year Founded  Funding  \\\n",
              "0        Beijing          China           Asia          2012      8.0   \n",
              "1      Hawthorne  United States  North America          2002      7.0   \n",
              "2       Shenzhen          China           Asia          2008      2.0   \n",
              "3  San Francisco  United States  North America          2010      2.0   \n",
              "4      Stockholm         Sweden         Europe          2005      4.0   \n",
              "\n",
              "                                    Select Investors  Year Joined  Timespan  \n",
              "0  Sequoia Capital China, SIG Asia Investments, S...         2017         5  \n",
              "1  Founders Fund, Draper Fisher Jurvetson, Rothen...         2012        10  \n",
              "2  Tiger Global Management, Sequoia Capital China...         2018        10  \n",
              "3        Khosla Ventures, LowercaseCapital, capitalG         2014         4  \n",
              "4  Institutional Venture Partners, Sequoia Capita...         2011         6  "
            ]
          },
          "execution_count": 14,
          "metadata": {},
          "output_type": "execute_result"
        }
      ],
      "source": [
        "df.head()"
      ]
    },
    {
      "cell_type": "code",
      "execution_count": null,
      "id": "190b8c3d",
      "metadata": {
        "id": "190b8c3d"
      },
      "outputs": [],
      "source": [
        "#We create a new dataset \n",
        "#This dataset consists of valuation data for each company an individual venture capitalist firm invested in\n",
        "investors = df['Select Investors']\n",
        "value = df['Valuation']\n",
        "companies_list = set()\n",
        "df_Investors = pd.DataFrame(columns=[\"investor\", \"valuation\"])\n",
        "for ind,inv in enumerate(investors):\n",
        "    single_array = inv.split(', ')\n",
        "    for val in single_array:\n",
        "        obj = {'investor': val, 'valuation':  value[ind]}\n",
        "        df_Investors = df_Investors.append(obj, ignore_index = True)\n",
        "\n",
        "df_Investors[\"valuation\"] = pd.to_numeric(df_Investors[\"valuation\"])\n",
        "print(df_Investors.head())"
      ]
    },
    {
      "cell_type": "markdown",
      "id": "a1d1ca81",
      "metadata": {
        "id": "a1d1ca81"
      },
      "source": [
        "# Exploratorty Data Analysis"
      ]
    },
    {
      "cell_type": "code",
      "execution_count": null,
      "id": "fcd8d357",
      "metadata": {
        "colab": {
          "base_uri": "https://localhost:8080/",
          "height": 235
        },
        "id": "fcd8d357",
        "outputId": "df20a06c-68fb-4344-eac3-bfce21544a86"
      },
      "outputs": [
        {
          "output_type": "error",
          "ename": "NameError",
          "evalue": "ignored",
          "traceback": [
            "\u001b[0;31m---------------------------------------------------------------------------\u001b[0m",
            "\u001b[0;31mNameError\u001b[0m                                 Traceback (most recent call last)",
            "\u001b[0;32m<ipython-input-1-cbaac40c2b26>\u001b[0m in \u001b[0;36m<module>\u001b[0;34m\u001b[0m\n\u001b[1;32m      1\u001b[0m \u001b[0;31m#top 50 companies with highest valuation\u001b[0m\u001b[0;34m\u001b[0m\u001b[0;34m\u001b[0m\u001b[0;34m\u001b[0m\u001b[0m\n\u001b[0;32m----> 2\u001b[0;31m \u001b[0mdataset\u001b[0m \u001b[0;34m=\u001b[0m \u001b[0mdf\u001b[0m\u001b[0;34m.\u001b[0m\u001b[0msort_values\u001b[0m\u001b[0;34m(\u001b[0m\u001b[0;34m'Valuation'\u001b[0m\u001b[0;34m,\u001b[0m \u001b[0mascending\u001b[0m\u001b[0;34m=\u001b[0m\u001b[0;32mFalse\u001b[0m\u001b[0;34m)\u001b[0m\u001b[0;34m\u001b[0m\u001b[0;34m\u001b[0m\u001b[0m\n\u001b[0m\u001b[1;32m      3\u001b[0m \u001b[0;34m\u001b[0m\u001b[0m\n\u001b[1;32m      4\u001b[0m \u001b[0mplt\u001b[0m\u001b[0;34m.\u001b[0m\u001b[0mfigure\u001b[0m\u001b[0;34m(\u001b[0m\u001b[0mfigsize\u001b[0m\u001b[0;34m=\u001b[0m\u001b[0;34m(\u001b[0m\u001b[0;36m12\u001b[0m\u001b[0;34m,\u001b[0m\u001b[0;36m9\u001b[0m\u001b[0;34m)\u001b[0m\u001b[0;34m)\u001b[0m\u001b[0;34m\u001b[0m\u001b[0;34m\u001b[0m\u001b[0m\n\u001b[1;32m      5\u001b[0m \u001b[0mplt\u001b[0m\u001b[0;34m.\u001b[0m\u001b[0mxticks\u001b[0m\u001b[0;34m(\u001b[0m\u001b[0mrotation\u001b[0m\u001b[0;34m=\u001b[0m\u001b[0;36m90\u001b[0m\u001b[0;34m)\u001b[0m\u001b[0;34m\u001b[0m\u001b[0;34m\u001b[0m\u001b[0m\n",
            "\u001b[0;31mNameError\u001b[0m: name 'df' is not defined"
          ]
        }
      ],
      "source": [
        "#top 50 companies with highest valuation\n",
        "dataset = df.sort_values('Valuation', ascending=False)\n",
        "\n",
        "plt.figure(figsize=(12,9))\n",
        "plt.xticks(rotation=90)\n",
        "g = sns.barplot(x = 'Company', y= 'Valuation', data = dataset[:50])\n",
        "g.set( xlabel = \"Companies\", ylabel = \"Valuation(in billion $)\", title= 'Top 50 Unicorns (according to Valuation)')\n",
        "[Text(0.5, 0, 'Companies'),\n",
        " Text(0, 0.5, 'Valuation(in billion $)'),\n",
        " Text(0.5, 1.0, 'Top 50 Unicorns (according to Valuation)')]"
      ]
    },
    {
      "cell_type": "code",
      "execution_count": null,
      "id": "63acf1f1",
      "metadata": {
        "id": "63acf1f1"
      },
      "outputs": [],
      "source": [
        "# top 50 companies highest funding\n",
        "dataset_funding = df.sort_values('Funding', ascending=False).reset_index()\n",
        "plt.figure(figsize=(12,9))\n",
        "plt.xticks(rotation=90)\n",
        "g = sns.barplot(x = 'Company', y= 'Funding', data = dataset_funding[:50])\n",
        "g.set( xlabel = \"Companies\", ylabel = \"Funding(in billion $)\", title= 'Top 50 Unicorns (according to Funding)')"
      ]
    },
    {
      "cell_type": "code",
      "execution_count": null,
      "id": "4f6169e1",
      "metadata": {
        "id": "4f6169e1"
      },
      "outputs": [],
      "source": [
        "#proportion of funding to valuation top 50 companies valuation\n",
        "plt.figure(figsize=(12,9))\n",
        "plt.xticks(rotation=90)\n",
        "plt.yticks(np.arange(0, dataset['Valuation'].max() + 1, 5))\n",
        "sns.lineplot(data = dataset[:50], x = dataset\n",
        "             ['Company'][:50], y = dataset['Valuation'][:50] ,color=\"b\")\n",
        "sns.lineplot(data = dataset[:50], x = dataset['Company'][:50], y = dataset['Funding'][:50] ,color=\"r\")\n",
        "\n",
        "plt.title('Proportion of Funding to Valuation(top 50 companies vaaluation)')\n",
        "plt.ylabel('Amount in billion $')\n",
        "plt.fill_between(dataset['Company'][:50], dataset['Valuation'][:50], color=\"blue\", alpha=0.5)\n",
        "plt.fill_between(dataset['Company'][:50], dataset['Funding'][:50], color=\"red\", alpha=0.5)\n",
        "plt.legend(labels=['Valuation','','Funding',''])\n",
        "plt.show()"
      ]
    },
    {
      "cell_type": "code",
      "execution_count": null,
      "id": "da680000",
      "metadata": {
        "id": "da680000"
      },
      "outputs": [],
      "source": [
        "#unicorns per country\n",
        "df_ = dataset.groupby('Country')['Company'].count().reset_index()\n",
        "length = max(df_['Company'])\n",
        "plt.figure(figsize=(12,9))\n",
        "plt.xticks(rotation=90)\n",
        "plt.yticks(np.arange(0, length + 1, 15))\n",
        "g = sns.barplot(x = 'Country', y= 'Company', data = df_)\n",
        "g.set( xlabel = \"Country\", ylabel = \"Company Count\", title= 'Unicorns Per Country')"
      ]
    },
    {
      "cell_type": "code",
      "execution_count": null,
      "id": "e93e202a",
      "metadata": {
        "id": "e93e202a"
      },
      "outputs": [],
      "source": [
        "#unicorns per continent\n",
        "df_ = dataset.groupby('Continent')['Company'].count().reset_index()\n",
        "Continent_array = df_['Continent'].to_numpy()\n",
        "pie, ax = plt.subplots(figsize=[15,15])\n",
        "labels = Continent_array\n",
        "plt.pie(x=df_['Company'], autopct=lambda p: '{:.1f}% ({:.0f})'.format(p,p*df_['Company'].sum()/100.0), labels=labels, pctdistance=0.5)\n",
        "plt.title(\"Unicorns Per Continent \", fontsize=10);"
      ]
    },
    {
      "cell_type": "code",
      "execution_count": null,
      "id": "71f7f7f9",
      "metadata": {
        "id": "71f7f7f9"
      },
      "outputs": [],
      "source": [
        "#unicorns per industry\n",
        "df_ = dataset.groupby('Industry')['Company'].count().reset_index()\n",
        "length = max(df_['Company'])\n",
        "plt.figure(figsize=(12,9))\n",
        "plt.xticks(rotation=90)\n",
        "plt.yticks(np.arange(0, length + 1, 5))\n",
        "g = sns.barplot(x = 'Industry', y= 'Company', data = df_)\n",
        "g.set( xlabel = \"Industry\", ylabel = \"Company Count\", title= 'Unicorns Per Industry')"
      ]
    },
    {
      "cell_type": "code",
      "execution_count": null,
      "id": "060d9a95",
      "metadata": {
        "id": "060d9a95"
      },
      "outputs": [],
      "source": [
        "#Unicorns Valuation by industry\n",
        "df_ = dataset.groupby('Industry')['Valuation'].sum().reset_index()\n",
        "length = max(df_['Valuation'])\n",
        "plt.figure(figsize=(12,9))\n",
        "plt.xticks(rotation=90)\n",
        "plt.yticks(np.arange(0, length + 1, 100))\n",
        "g = sns.barplot(x = 'Industry', y= 'Valuation', data = df_)\n",
        "g.set( xlabel = \"Industry\", ylabel = \"Valuation (billion $)\", title= 'Unicorns Valuation Per Industry')"
      ]
    },
    {
      "cell_type": "code",
      "execution_count": null,
      "id": "8c666095",
      "metadata": {
        "id": "8c666095"
      },
      "outputs": [],
      "source": [
        "#Unicorns Funding per industry\n",
        "df_ = dataset.groupby('Industry')['Funding'].sum().reset_index()\n",
        "length = max(df_['Funding'])\n",
        "plt.figure(figsize=(12,9))\n",
        "plt.xticks(rotation=90)\n",
        "plt.yticks(np.arange(0, length + 1, 5))\n",
        "g = sns.barplot(x = 'Industry', y= 'Funding', data = df_)\n",
        "g.set( xlabel = \"Industry\", ylabel = \"Funding (billion $)\", title= 'Unicorns Funding Per Industry')"
      ]
    },
    {
      "cell_type": "code",
      "execution_count": null,
      "id": "24ba3b2b",
      "metadata": {
        "id": "24ba3b2b"
      },
      "outputs": [],
      "source": [
        "#unicorn funding  per country\n",
        "df_ = dataset.groupby('Country')['Funding'].sum().reset_index()\n",
        "length = max(df_['Funding'])\n",
        "plt.figure(figsize=(12,9))\n",
        "plt.xticks(rotation=90)\n",
        "plt.yticks(np.arange(0, length + 1, 5))\n",
        "g = sns.barplot(x = 'Country', y= 'Funding', data = df_)\n",
        "g.set( xlabel = \"Country\", ylabel = \"Funding (billion $)\", title= 'Unicorns funding Per Country')"
      ]
    },
    {
      "cell_type": "code",
      "execution_count": null,
      "id": "94d139ed",
      "metadata": {
        "id": "94d139ed"
      },
      "outputs": [],
      "source": [
        "#top 50 cities where unicorns are\n",
        "df_ = dataset.groupby('City').size().reset_index()\n",
        "df_ = df_.sort_values(0, ascending=False)\n",
        "\n",
        "length = max(df_[0])\n",
        "plt.figure(figsize=(12,9))\n",
        "plt.xticks(rotation=90)\n",
        "plt.yticks(np.arange(0, length + 1, 5))\n",
        "g = sns.barplot(x = 'City', y= 0, data = df_[:50])\n",
        "g.set( xlabel = \"City\", ylabel = \"Count\", title= 'Unicorns per City(Top 50)')"
      ]
    },
    {
      "cell_type": "code",
      "execution_count": null,
      "id": "1b2eaa8b",
      "metadata": {
        "id": "1b2eaa8b"
      },
      "outputs": [],
      "source": [
        "#Average timespan to achieve unicorn status per industry\n",
        "df_ = dataset.groupby('Industry')['Timespan'].mean().reset_index()\n",
        "length = max(df_['Timespan'])\n",
        "plt.figure(figsize=(12,9))\n",
        "plt.xticks(rotation=90)\n",
        "plt.yticks(np.arange(0, length + 1, 1))\n",
        "g = sns.barplot(x = 'Industry', y= 'Timespan', data = df_)\n",
        "g.set( xlabel = \"Industry\", ylabel = \"Time(yrs)\", title= 'Average Timespan per Industry(Unicorn status)')"
      ]
    },
    {
      "cell_type": "code",
      "execution_count": null,
      "id": "d7afd030",
      "metadata": {
        "id": "d7afd030"
      },
      "outputs": [],
      "source": [
        "#Average timespan to achieve unicorn status per country\n",
        "df_ = dataset.groupby('Country')['Timespan'].mean().reset_index()\n",
        "length = max(df_['Timespan'])\n",
        "plt.figure(figsize=(12,9))\n",
        "plt.xticks(rotation=90)\n",
        "plt.yticks(np.arange(0, length + 1, 1))\n",
        "g = sns.barplot(x = 'Country', y= 'Timespan', data = df_)\n",
        "g.set( xlabel = \"Country\", ylabel = \"Time(yrs)\", title= 'Average Timespan per Country(Unicorn status)')"
      ]
    },
    {
      "cell_type": "code",
      "execution_count": null,
      "id": "72df7d81",
      "metadata": {
        "id": "72df7d81"
      },
      "outputs": [],
      "source": [
        "#Average timespan to achieve unicorn status per continent\n",
        "df_ = dataset.groupby('Continent')['Timespan'].mean().reset_index()\n",
        "length = max(df_['Timespan'])\n",
        "plt.figure(figsize=(12,9))\n",
        "plt.xticks(rotation=90)\n",
        "plt.yticks(np.arange(0, length + 1, 1))\n",
        "g = sns.barplot(x = 'Continent', y= 'Timespan', data = df_)\n",
        "g.set( xlabel = \"Continent\", ylabel = \"Time(yrs)\", title= 'Average Timespan per Continent(Unicorn status)')"
      ]
    },
    {
      "cell_type": "code",
      "execution_count": null,
      "id": "b27e357a",
      "metadata": {
        "id": "b27e357a"
      },
      "outputs": [],
      "source": [
        "#Fastest to achieve unicorn status (company)\n",
        "#0 yrs representing within months\n",
        "df_ = dataset.groupby(['Company','Timespan']).size().reset_index()\n",
        "df_ = df_.sort_values('Timespan', ascending=True)\n",
        "\n",
        "length = max(df_['Timespan'])\n",
        "plt.figure(figsize=(12,9))\n",
        "plt.xticks(rotation=90)\n",
        "plt.yticks(np.arange(0, length + 1, 1))\n",
        "g = sns.barplot(x = 'Company', y= 'Timespan', data = df_[:50])\n",
        "g.set( xlabel = \"Company\", ylabel = \"Time(yrs)\", title= 'Unicorn status achievement(time elapsed)')"
      ]
    },
    {
      "cell_type": "code",
      "execution_count": null,
      "id": "e4be7f92",
      "metadata": {
        "id": "e4be7f92"
      },
      "outputs": [],
      "source": [
        "# Investors, Total Worth Investments Top 50\n",
        "df_ = df_Investors.groupby(\"investor\")['valuation'].sum().reset_index()\n",
        "df_ = df_.sort_values('valuation', ascending=False)\n",
        "length = max(df_['valuation'])\n",
        "\n",
        "plt.figure(figsize=(12,9))\n",
        "plt.xticks(rotation=90)\n",
        "plt.yticks(np.arange(0, length + 1, 20))\n",
        "g = sns.barplot(x = 'investor', y= 'valuation', data = df_[:50])\n",
        "g.set( xlabel = \"Investors\", ylabel = \"Amount(billion $)\", title= 'Total Worth Investments (Investors, top 50)')"
      ]
    },
    {
      "cell_type": "code",
      "execution_count": null,
      "id": "6218ac0e",
      "metadata": {
        "id": "6218ac0e"
      },
      "outputs": [],
      "source": [
        "#proactive investment firms\n",
        "df_= df_Investors.groupby(\"investor\").size().reset_index()\n",
        "df_ = df_.sort_values(0, ascending=False)\n",
        "\n",
        "length = max(df_[0])\n",
        "plt.figure(figsize=(12,9))\n",
        "plt.xticks(rotation=90)\n",
        "plt.yticks(np.arange(0, length + 1, 5))\n",
        "g = sns.barplot(x = 'investor', y= 0, data = df_[:50])\n",
        "g.set( xlabel = \"Investor\", ylabel = \"Fundings made\", title= 'Number of fundings per investor(Top 50)')"
      ]
    }
  ],
  "metadata": {
    "kernelspec": {
      "display_name": "Python 3 (ipykernel)",
      "language": "python",
      "name": "python3"
    },
    "language_info": {
      "codemirror_mode": {
        "name": "ipython",
        "version": 3
      },
      "file_extension": ".py",
      "mimetype": "text/x-python",
      "name": "python",
      "nbconvert_exporter": "python",
      "pygments_lexer": "ipython3",
      "version": "3.9.12"
    },
    "colab": {
      "provenance": [],
      "include_colab_link": true
    }
  },
  "nbformat": 4,
  "nbformat_minor": 5
}