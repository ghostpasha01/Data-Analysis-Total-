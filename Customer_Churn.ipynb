{
  "cells": [
    {
      "cell_type": "markdown",
      "metadata": {
        "id": "view-in-github",
        "colab_type": "text"
      },
      "source": [
        "<a href=\"https://colab.research.google.com/github/ghostpasha01/Data_Analysis/blob/main/Customer_Churn.ipynb\" target=\"_parent\"><img src=\"https://colab.research.google.com/assets/colab-badge.svg\" alt=\"Open In Colab\"/></a>"
      ]
    },
    {
      "cell_type": "code",
      "execution_count": null,
      "id": "1fa04f31",
      "metadata": {
        "id": "1fa04f31"
      },
      "outputs": [],
      "source": [
        "import pandas as pd\n",
        "%matplotlib inline\n",
        "import matplotlib.pyplot as plt\n",
        "import numpy as np\n",
        "import plotly.graph_objects as go \n",
        "import plotly.express as px \n",
        "import seaborn as sns\n",
        "from sklearn.model_selection import ShuffleSplit\n",
        "from sklearn.ensemble import RandomForestClassifier\n",
        "from sklearn.linear_model import LogisticRegression\n",
        "from sklearn.naive_bayes import GaussianNB\n",
        "from sklearn.linear_model import Lasso\n",
        "from sklearn.naive_bayes import MultinomialNB\n",
        "from sklearn.tree import DecisionTreeClassifier\n",
        "from sklearn.neighbors import KNeighborsClassifier\n",
        "from sklearn.metrics import classification_report\n",
        "from sklearn.linear_model import LinearRegression\n"
      ]
    },
    {
      "cell_type": "code",
      "execution_count": null,
      "id": "2429e873",
      "metadata": {
        "id": "2429e873"
      },
      "outputs": [],
      "source": [
        "df=pd.read_csv(\"C://Users//Hp//Desktop//Veri setler(Yeni Site)//CustomerChurn//telecom_customer_churn.csv\")"
      ]
    },
    {
      "cell_type": "code",
      "execution_count": null,
      "id": "7ca319b6",
      "metadata": {
        "id": "7ca319b6"
      },
      "outputs": [],
      "source": [
        "df.head()"
      ]
    },
    {
      "cell_type": "code",
      "execution_count": null,
      "id": "b97589f1",
      "metadata": {
        "id": "b97589f1"
      },
      "outputs": [],
      "source": [
        "df.columns"
      ]
    },
    {
      "cell_type": "code",
      "execution_count": null,
      "id": "1d171dc0",
      "metadata": {
        "id": "1d171dc0"
      },
      "outputs": [],
      "source": [
        "df.info()"
      ]
    },
    {
      "cell_type": "code",
      "execution_count": null,
      "id": "1e682810",
      "metadata": {
        "id": "1e682810"
      },
      "outputs": [],
      "source": [
        "df.isnull().sum()\n"
      ]
    },
    {
      "cell_type": "code",
      "execution_count": null,
      "id": "20bc37ca",
      "metadata": {
        "id": "20bc37ca"
      },
      "outputs": [],
      "source": [
        "df1=df.copy()"
      ]
    },
    {
      "cell_type": "code",
      "execution_count": null,
      "id": "2686b305",
      "metadata": {
        "id": "2686b305"
      },
      "outputs": [],
      "source": [
        "df1.head()"
      ]
    },
    {
      "cell_type": "code",
      "execution_count": null,
      "id": "1f2a9e1b",
      "metadata": {
        "id": "1f2a9e1b"
      },
      "outputs": [],
      "source": [
        "df1.drop(['Customer ID','Total Refunds','Zip Code','Latitude', 'Longitude','Churn Category', 'Churn Reason'],axis='columns',inplace=True)"
      ]
    },
    {
      "cell_type": "code",
      "execution_count": null,
      "id": "9470b822",
      "metadata": {
        "id": "9470b822"
      },
      "outputs": [],
      "source": [
        "df1.shape"
      ]
    },
    {
      "cell_type": "code",
      "execution_count": null,
      "id": "8cde4a2d",
      "metadata": {
        "id": "8cde4a2d"
      },
      "outputs": [],
      "source": [
        "df1.dtypes"
      ]
    },
    {
      "cell_type": "code",
      "execution_count": null,
      "id": "e3abf95c",
      "metadata": {
        "id": "e3abf95c"
      },
      "outputs": [],
      "source": [
        "features=df1.columns\n",
        "for feature in features:\n",
        "    print(f'{feature}--->{df[feature].nunique()}')"
      ]
    },
    {
      "cell_type": "code",
      "execution_count": null,
      "id": "af42a613",
      "metadata": {
        "id": "af42a613"
      },
      "outputs": [],
      "source": [
        "features=df1.columns\n",
        "for feature in features:\n",
        "    if features.dtype==object:\n",
        "     print(f'{feature}--->{df[feature].nunique()}')"
      ]
    },
    {
      "cell_type": "code",
      "execution_count": null,
      "id": "d45ff716",
      "metadata": {
        "id": "d45ff716"
      },
      "outputs": [],
      "source": [
        "# get percent of null values \n",
        "df1.isnull().sum() / df1.shape[0]"
      ]
    },
    {
      "cell_type": "code",
      "execution_count": null,
      "id": "9969072c",
      "metadata": {
        "id": "9969072c"
      },
      "outputs": [],
      "source": [
        "#cleaing function\n",
        "def clean_dataset(df):\n",
        "    assert isinstance(df, pd.DataFrame)\n",
        "    df.dropna(inplace=True)\n",
        "    indices_to_keep = ~df.isin([np.nan, np.inf, -np.inf]).any(1)\n",
        "    return df[indices_to_keep].astype(np.float64)"
      ]
    },
    {
      "cell_type": "code",
      "execution_count": null,
      "id": "06567cb1",
      "metadata": {
        "id": "06567cb1"
      },
      "outputs": [],
      "source": [
        "df1=df1.interpolate()"
      ]
    },
    {
      "cell_type": "code",
      "execution_count": null,
      "id": "f8e64c8c",
      "metadata": {
        "id": "f8e64c8c"
      },
      "outputs": [],
      "source": [
        "df1=df1.dropna()"
      ]
    },
    {
      "cell_type": "code",
      "execution_count": null,
      "id": "f00a8789",
      "metadata": {
        "id": "f00a8789"
      },
      "outputs": [],
      "source": [
        "df['Unlimited Data']"
      ]
    },
    {
      "cell_type": "code",
      "execution_count": null,
      "id": "ac050f09",
      "metadata": {
        "id": "ac050f09"
      },
      "outputs": [],
      "source": [
        "number_columns=['Age','Number of Dependents','Number of Referrals','Tenure in Months',\n",
        "                'Avg Monthly Long Distance Charges','Avg Monthly GB Download','Monthly Charge',\n",
        "                'Total Charges','Total Extra Data Charges',\n",
        "                'Total Long Distance Charges','Total Revenue']"
      ]
    },
    {
      "cell_type": "code",
      "execution_count": null,
      "id": "1374af6e",
      "metadata": {
        "id": "1374af6e"
      },
      "outputs": [],
      "source": [
        "def unique_values_names(df):\n",
        "    for column in df:\n",
        "        if df[column].dtype=='object':\n",
        "            print(f'{column}:{df[column].unique()}')"
      ]
    },
    {
      "cell_type": "code",
      "execution_count": null,
      "id": "ca2ea5bf",
      "metadata": {
        "id": "ca2ea5bf"
      },
      "outputs": [],
      "source": [
        "unique_values_names(df1)\n"
      ]
    },
    {
      "cell_type": "code",
      "execution_count": null,
      "id": "78ddd69b",
      "metadata": {
        "id": "78ddd69b"
      },
      "outputs": [],
      "source": [
        "fig = px.histogram(df1, x = 'Age')\n",
        "fig.show()"
      ]
    },
    {
      "cell_type": "code",
      "execution_count": null,
      "id": "8a8f4a23",
      "metadata": {
        "id": "8a8f4a23"
      },
      "outputs": [],
      "source": [
        "df1.hist(figsize=(12,12), xrot=30)\n"
      ]
    },
    {
      "cell_type": "code",
      "execution_count": null,
      "id": "1aa91a42",
      "metadata": {
        "id": "1aa91a42"
      },
      "outputs": [],
      "source": [
        "df1['Age']"
      ]
    },
    {
      "cell_type": "code",
      "execution_count": null,
      "id": "3219c7f3",
      "metadata": {
        "id": "3219c7f3"
      },
      "outputs": [],
      "source": [
        "Customer_Stayed=df1[df1['Customer Status']=='Stayed'].Age\n",
        "Customer_Churned=df1[df1['Customer Status']=='Churned'].Age\n",
        "Customer_Joined=df1[df1['Customer Status']=='Joined'].Age\n",
        "\n",
        "\n",
        "plt.xlabel('Age')\n",
        "plt.ylabel('customers numbers')\n",
        "plt.hist([Customer_Stayed,Customer_Churned,Customer_Joined], color=['black','red','blue'],label=['Stayed','Churned','Joined'])\n",
        "\n",
        "\n",
        "plt.title('customers behavior ',fontweight =\"bold\")\n",
        "plt.legend()"
      ]
    },
    {
      "cell_type": "code",
      "execution_count": null,
      "id": "3b94d268",
      "metadata": {
        "id": "3b94d268"
      },
      "outputs": [],
      "source": [
        "data  = df1.corr()\n",
        "plt.figure(figsize = (20,10))\n",
        "sns.heatmap(data, annot = True)"
      ]
    },
    {
      "cell_type": "code",
      "execution_count": null,
      "id": "3ab9e9d3",
      "metadata": {
        "id": "3ab9e9d3"
      },
      "outputs": [],
      "source": [
        "fig, ax = plt.subplots(4,3, figsize = (15,15))\n",
        "for i, subplot in zip(number_columns, ax.flatten()):\n",
        "    sns.boxplot(x = 'Customer Status', y =i , data = df1, ax = subplot)\n",
        "    "
      ]
    },
    {
      "cell_type": "code",
      "execution_count": null,
      "id": "6fda369f",
      "metadata": {
        "id": "6fda369f"
      },
      "outputs": [],
      "source": [
        "fig = px.density_heatmap(df1, x='Age', y='Total Charges')\n",
        "fig.show()"
      ]
    },
    {
      "cell_type": "code",
      "execution_count": null,
      "id": "1e77bd22",
      "metadata": {
        "id": "1e77bd22"
      },
      "outputs": [],
      "source": [
        "df1.columns"
      ]
    },
    {
      "cell_type": "code",
      "execution_count": null,
      "id": "65e51f96",
      "metadata": {
        "id": "65e51f96"
      },
      "outputs": [],
      "source": [
        "pd.crosstab(df['Customer Status'], df['Married']).plot(kind='bar')\n",
        "\n"
      ]
    },
    {
      "cell_type": "code",
      "execution_count": null,
      "id": "8f8a4a39",
      "metadata": {
        "id": "8f8a4a39"
      },
      "outputs": [],
      "source": [
        "pd.crosstab(df['Customer Status'], df['Gender']).plot(kind='bar')\n"
      ]
    },
    {
      "cell_type": "code",
      "execution_count": null,
      "id": "08baab0b",
      "metadata": {
        "id": "08baab0b"
      },
      "outputs": [],
      "source": [
        "df1['Payment Method'].unique()\n"
      ]
    },
    {
      "cell_type": "code",
      "execution_count": null,
      "id": "44c3b978",
      "metadata": {
        "id": "44c3b978"
      },
      "outputs": [],
      "source": [
        "#Create dictionary with role / data key value pairs\n",
        "Roles = {}\n",
        "for j in df1['Payment Method'].unique():\n",
        "    Roles[j] = df1[df1['Payment Method'] == j]"
      ]
    },
    {
      "cell_type": "code",
      "execution_count": null,
      "id": "73c4ef69",
      "metadata": {
        "id": "73c4ef69"
      },
      "outputs": [],
      "source": [
        "Roles.keys()"
      ]
    },
    {
      "cell_type": "code",
      "execution_count": null,
      "id": "f26917d1",
      "metadata": {
        "id": "f26917d1"
      },
      "outputs": [],
      "source": [
        "Roles['Credit Card']\n"
      ]
    },
    {
      "cell_type": "code",
      "execution_count": null,
      "id": "2135534d",
      "metadata": {
        "id": "2135534d"
      },
      "outputs": [],
      "source": [
        "len(Roles)"
      ]
    },
    {
      "cell_type": "code",
      "execution_count": null,
      "id": "5e65caa8",
      "metadata": {
        "id": "5e65caa8"
      },
      "outputs": [],
      "source": [
        "off = df1['Offer'].value_counts()\n",
        "off"
      ]
    },
    {
      "cell_type": "code",
      "execution_count": null,
      "id": "46dc4079",
      "metadata": {
        "id": "46dc4079"
      },
      "outputs": [],
      "source": [
        "fig = go.Figure([go.Bar(x=off.index, y=off.values)])\n",
        "fig.show()"
      ]
    },
    {
      "cell_type": "code",
      "execution_count": null,
      "id": "152c1c1f",
      "metadata": {
        "id": "152c1c1f"
      },
      "outputs": [],
      "source": [
        "# Now let us consider credit card  -Case as an example\n",
        "df1_off = Roles['Credit Card'].Offer.value_counts()\n",
        "df1_off"
      ]
    },
    {
      "cell_type": "code",
      "execution_count": null,
      "id": "e2b5265f",
      "metadata": {
        "id": "e2b5265f"
      },
      "outputs": [],
      "source": [
        "fig = go.Figure([go.Bar(x= df1_off.index, y=df1_off.values)])\n",
        "fig.show()"
      ]
    },
    {
      "cell_type": "code",
      "execution_count": null,
      "id": "57148aab",
      "metadata": {
        "id": "57148aab"
      },
      "outputs": [],
      "source": [
        "# Comparing offers  by type of payment\n",
        "#########################################\n",
        "fig = go.Figure(layout=go.Layout(title= go.layout.Title(text=\"Comparing offer  by type of payment\")))\n",
        "#changed from role selection to selection 1\n",
        "fig.add_trace(go.Bar(name= 'Selection 1', x= off.index, y=(off.values/ off.values.sum())))\n",
        "\n",
        "buttons = []\n",
        "\n",
        "#added button for all data comparison\n",
        "buttons.append(dict(method='restyle',\n",
        "                        label= 'All Samples',\n",
        "                        visible=True,\n",
        "                        args=[{'y':[df1.Offer.value_counts().values/df1.Offer.value_counts().values.sum()],\n",
        "                               'x':[df1.Offer.value_counts().index],\n",
        "                               'type':'bar'}, [0]], # the [0] at the end lets us know they are for the first trace\n",
        "                        )\n",
        "                  )\n",
        "\n",
        "for i in list(Roles.keys())[0:]:\n",
        "    buttons.append(dict(method='restyle',\n",
        "                        label= i,\n",
        "                        visible=True,\n",
        "                        args=[{'y':[Roles[i].Offer.value_counts().values/Roles[i].Offer.value_counts().values.sum()],\n",
        "                               'x':[Roles[i].Offer.value_counts().index],\n",
        "                               'type':'bar'}, [0]], # the [0] at the end lets us know they are for the first trace\n",
        "                        )\n",
        "                  )\n",
        "\n",
        "fig.add_trace(go.Bar(name= 'Selection 2',x= off.index, y=(off.values/ off.values.sum())))\n",
        "\n",
        "buttons2 = []\n",
        "#added button for all data comparison\n",
        "buttons2.append(dict(method='restyle',\n",
        "                        label= 'All Samples',\n",
        "                        visible=True,\n",
        "                        args=[{'y':[df1.Offer.value_counts().values/df1.Offer.value_counts().values.sum()],\n",
        "                               'x':[df1.Offer.value_counts().index],\n",
        "                               'type':'bar'}, [1]], # the [0] at the end lets us know they are for the first trace\n",
        "                        )\n",
        "                  )\n",
        "\n",
        "for i in list(Roles.keys())[0:]:\n",
        "    buttons2.append(dict(method='restyle',\n",
        "                        label= i,\n",
        "                        visible=True,\n",
        "                        args=[{'y':[Roles[i].Offer.value_counts().values/Roles[i].Offer.value_counts().values.sum()],\n",
        "                               'x':[Roles[i].Offer.value_counts().index],\n",
        "                               'type':'bar'}, [1]], # the [1] at the end lets us know they are for the first trace\n",
        "                        )                        #literally figured that out by just experimenting \n",
        "                  )\n",
        "# adjusted dropdown placement \n",
        "#found out updatemenus take a dictionary of buttons and allow you to format how the dropdowns look etc.\n",
        "# https://plotly.com/python/dropdowns/\n",
        "button_layer_1_height = 1.23\n",
        "updatemenus = list([\n",
        "    dict(buttons=buttons,\n",
        "            direction=\"down\",\n",
        "            pad={\"r\": 10, \"t\": 10},\n",
        "            showactive=True,\n",
        "            x=0.11,\n",
        "            xanchor=\"left\",\n",
        "            y=button_layer_1_height,\n",
        "            yanchor=\"top\"),\n",
        "    dict(buttons=buttons2,\n",
        "            direction=\"down\",\n",
        "            pad={\"r\": 10, \"t\": 10},\n",
        "            showactive=True,\n",
        "            x=0.71,\n",
        "            xanchor=\"left\",\n",
        "            y=button_layer_1_height,\n",
        "            yanchor=\"top\")])\n",
        "    \n",
        "fig.update_layout( updatemenus=updatemenus)\n",
        "#added annotations next to dropdowns \n",
        "fig.update_layout(\n",
        "    annotations=[\n",
        "        dict(text=\"Selection 1\", x=0, xref=\"paper\", y=1.15, yref=\"paper\",\n",
        "                             align=\"left\", showarrow=False),\n",
        "        dict(text=\"Selection 2\", x=0.65, xref=\"paper\", y=1.15,\n",
        "                             yref=\"paper\", showarrow=False)\n",
        "    ])\n",
        "fig.update_xaxes(categoryorder= 'array',categoryarray= ['None' 'Offer E' 'Offer D' 'Offer A' 'Offer B' 'Offer C'])\n"
      ]
    },
    {
      "cell_type": "code",
      "execution_count": null,
      "id": "03537a80",
      "metadata": {
        "id": "03537a80"
      },
      "outputs": [],
      "source": [
        "df1 = df1.rename(columns = {'Customer Status':'Customer_Status'})\n"
      ]
    },
    {
      "cell_type": "code",
      "execution_count": null,
      "id": "60789709",
      "metadata": {
        "id": "60789709"
      },
      "outputs": [],
      "source": [
        "Roles1 = {}\n",
        "for k in df1['Customer_Status'].unique():\n",
        "    Roles1[k] = df1[df1['Customer_Status'] == k]\n",
        "Roles1.keys()"
      ]
    },
    {
      "cell_type": "code",
      "execution_count": null,
      "id": "b01d7042",
      "metadata": {
        "id": "b01d7042"
      },
      "outputs": [],
      "source": [
        "df1_state = Roles1['Stayed'].Offer.value_counts()\n",
        "df1_state"
      ]
    },
    {
      "cell_type": "code",
      "execution_count": null,
      "id": "8ad112e6",
      "metadata": {
        "id": "8ad112e6"
      },
      "outputs": [],
      "source": [
        "# Comparing offers  by customer status\n",
        "#########################################\n",
        "fig = go.Figure(layout=go.Layout(title= go.layout.Title(text=\"Comparing offer  by customer status\")))\n",
        "#changed from role selection to selection 1\n",
        "fig.add_trace(go.Bar(name= 'Selection 1', x= off.index, y=(off.values/ off.values.sum())))\n",
        "\n",
        "buttons = []\n",
        "\n",
        "#added button for all data comparison\n",
        "buttons.append(dict(method='restyle',\n",
        "                        label= 'All Samples',\n",
        "                        visible=True,\n",
        "                        args=[{'y':[df1.Offer.value_counts().values/df1.Offer.value_counts().values.sum()],\n",
        "                               'x':[df1.Offer.value_counts().index],\n",
        "                               'type':'bar'}, [0]], # the [0] at the end lets us know they are for the first trace\n",
        "                        )\n",
        "                  )\n",
        "\n",
        "for i in list(Roles1.keys())[0:]:\n",
        "    buttons.append(dict(method='restyle',\n",
        "                        label= i,\n",
        "                        visible=True,\n",
        "                        args=[{'y':[Roles1[i].Offer.value_counts().values/Roles1[i].Offer.value_counts().values.sum()],\n",
        "                               'x':[Roles1[i].Offer.value_counts().index],\n",
        "                               'type':'bar'}, [0]], # the [0] at the end lets us know they are for the first trace\n",
        "                        )\n",
        "                  )\n",
        "\n",
        "fig.add_trace(go.Bar(name= 'Selection 2',x= off.index, y=(off.values/ off.values.sum())))\n",
        "\n",
        "buttons2 = []\n",
        "#added button for all data comparison\n",
        "buttons2.append(dict(method='restyle',\n",
        "                        label= 'All Samples',\n",
        "                        visible=True,\n",
        "                        args=[{'y':[df1.Offer.value_counts().values/df1.Offer.value_counts().values.sum()],\n",
        "                               'x':[df1.Offer.value_counts().index],\n",
        "                               'type':'bar'}, [1]], # the [0] at the end lets us know they are for the first trace\n",
        "                        )\n",
        "                  )\n",
        "\n",
        "for i in list(Roles1.keys())[0:]:\n",
        "    buttons2.append(dict(method='restyle',\n",
        "                        label= i,\n",
        "                        visible=True,\n",
        "                        args=[{'y':[Roles1[i].Offer.value_counts().values/Roles1[i].Offer.value_counts().values.sum()],\n",
        "                               'x':[Roles1[i].Offer.value_counts().index],\n",
        "                               'type':'bar'}, [1]], # the [1] at the end lets us know they are for the first trace\n",
        "                        )                        #literally figured that out by just experimenting \n",
        "                  )\n",
        "# adjusted dropdown placement \n",
        "#found out updatemenus take a dictionary of buttons and allow you to format how the dropdowns look etc.\n",
        "# https://plotly.com/python/dropdowns/\n",
        "button_layer_1_height = 1.23\n",
        "updatemenus = list([\n",
        "    dict(buttons=buttons,\n",
        "            direction=\"down\",\n",
        "            pad={\"r\": 10, \"t\": 10},\n",
        "            showactive=True,\n",
        "            x=0.11,\n",
        "            xanchor=\"left\",\n",
        "            y=button_layer_1_height,\n",
        "            yanchor=\"top\"),\n",
        "    dict(buttons=buttons2,\n",
        "            direction=\"down\",\n",
        "            pad={\"r\": 10, \"t\": 10},\n",
        "            showactive=True,\n",
        "            x=0.71,\n",
        "            xanchor=\"left\",\n",
        "            y=button_layer_1_height,\n",
        "            yanchor=\"top\")])\n",
        "    \n",
        "fig.update_layout( updatemenus=updatemenus)\n",
        "#added annotations next to dropdowns \n",
        "fig.update_layout(\n",
        "    annotations=[\n",
        "        dict(text=\"Selection 1\", x=0, xref=\"paper\", y=1.15, yref=\"paper\",\n",
        "                             align=\"left\", showarrow=False),\n",
        "        dict(text=\"Selection 2\", x=0.65, xref=\"paper\", y=1.15,\n",
        "                             yref=\"paper\", showarrow=False)\n",
        "    ])\n",
        "fig.update_xaxes(categoryorder= 'array',categoryarray= ['None' 'Offer E' 'Offer D' 'Offer A' 'Offer B' 'Offer C'])"
      ]
    },
    {
      "cell_type": "code",
      "execution_count": null,
      "id": "dd837b8a",
      "metadata": {
        "id": "dd837b8a"
      },
      "outputs": [],
      "source": [
        "df1.replace({\"Gender\":{'Female':0,'Male':1}},inplace=True)\n"
      ]
    },
    {
      "cell_type": "code",
      "execution_count": null,
      "id": "ea0703dc",
      "metadata": {
        "id": "ea0703dc"
      },
      "outputs": [],
      "source": [
        "yes_and_no=[  'Paperless Billing', 'Unlimited Data', \n",
        "       'Streaming Movies', 'Streaming Music',  'Streaming TV',\n",
        "       'Premium Tech Support', 'Device Protection Plan', 'Online Backup', 'Online Security',\n",
        "       'Multiple Lines',  'Married']\n",
        "for i in yes_and_no:\n",
        "    df1.replace({'No':0,'Yes':1},inplace=True)"
      ]
    },
    {
      "cell_type": "code",
      "execution_count": null,
      "id": "8acacbbd",
      "metadata": {
        "id": "8acacbbd"
      },
      "outputs": [],
      "source": [
        "df1.replace({\"Phone Service\":{'Yes':1}},inplace=True)\n"
      ]
    },
    {
      "cell_type": "code",
      "execution_count": null,
      "id": "e4fca612",
      "metadata": {
        "id": "e4fca612"
      },
      "outputs": [],
      "source": [
        "from sklearn.preprocessing import LabelEncoder\n",
        "le = LabelEncoder()\n",
        "df1.Customer_Status = le.fit_transform(df1.Customer_Status)"
      ]
    },
    {
      "cell_type": "code",
      "execution_count": null,
      "id": "230fc8e6",
      "metadata": {
        "id": "230fc8e6"
      },
      "outputs": [],
      "source": [
        "df1 = pd.get_dummies(data=df1, columns=['Payment Method','Contract','Internet Type','Offer','City'])\n"
      ]
    },
    {
      "cell_type": "code",
      "execution_count": null,
      "id": "694eecea",
      "metadata": {
        "id": "694eecea"
      },
      "outputs": [],
      "source": [
        "cols_to_scale = ['Age','Number of Dependents','Number of Referrals','Tenure in Months','Avg Monthly Long Distance Charges','Avg Monthly GB Download','Monthly Charge', 'Total Charges',\n",
        "       'Total Extra Data Charges', 'Total Long Distance Charges','Total Revenue']\n",
        "\n",
        "from sklearn.preprocessing import MinMaxScaler\n",
        "scaler = MinMaxScaler()\n",
        "df1[cols_to_scale] = scaler.fit_transform(df1[cols_to_scale])"
      ]
    },
    {
      "cell_type": "code",
      "execution_count": null,
      "id": "c1943fd8",
      "metadata": {
        "id": "c1943fd8"
      },
      "outputs": [],
      "source": [
        "X = df1.drop('Customer_Status',axis='columns')\n",
        "y = df1['Customer_Status']\n"
      ]
    },
    {
      "cell_type": "code",
      "execution_count": null,
      "id": "179ff3ed",
      "metadata": {
        "id": "179ff3ed"
      },
      "outputs": [],
      "source": [
        "X.head()"
      ]
    },
    {
      "cell_type": "code",
      "execution_count": null,
      "id": "c9bf21e3",
      "metadata": {
        "id": "c9bf21e3"
      },
      "outputs": [],
      "source": [
        "y.head()"
      ]
    },
    {
      "cell_type": "code",
      "execution_count": null,
      "id": "dbc1d7f0",
      "metadata": {
        "id": "dbc1d7f0"
      },
      "outputs": [],
      "source": [
        "from sklearn.model_selection import train_test_split\n",
        "X_train, X_test, y_train, y_test = train_test_split(X, y,test_size=0.2,random_state=5)"
      ]
    },
    {
      "cell_type": "code",
      "execution_count": null,
      "id": "d1fc1ae8",
      "metadata": {
        "id": "d1fc1ae8"
      },
      "outputs": [],
      "source": [
        "len(X_train)\n"
      ]
    },
    {
      "cell_type": "code",
      "execution_count": null,
      "id": "fb79de7d",
      "metadata": {
        "id": "fb79de7d"
      },
      "outputs": [],
      "source": [
        "X_train[:10]\n"
      ]
    },
    {
      "cell_type": "code",
      "execution_count": null,
      "id": "171ebedc",
      "metadata": {
        "id": "171ebedc"
      },
      "outputs": [],
      "source": [
        "import xgboost as xgb\n"
      ]
    },
    {
      "cell_type": "code",
      "execution_count": null,
      "id": "b17b1966",
      "metadata": {
        "id": "b17b1966"
      },
      "outputs": [],
      "source": [
        "from xgboost import XGBClassifier\n",
        "from sklearn import svm\n",
        "model_params = {\n",
        "     \n",
        "        'lasso': {\n",
        "            'model': Lasso(),\n",
        "            'params': {\n",
        "                'alpha': [1,2],\n",
        "                'selection': ['random', 'cyclic']\n",
        "            }\n",
        "        },\n",
        "    'svm': {\n",
        "        'model': svm.SVC(gamma='auto'),\n",
        "        'params' : {\n",
        "            'C': [1,10,20],\n",
        "            'kernel': ['rbf','linear']\n",
        "        }  \n",
        "    },\n",
        "    'random_forest': {\n",
        "        'model': RandomForestClassifier(),\n",
        "        'params' : {\n",
        "            'n_estimators': [1,5,10]\n",
        "        }\n",
        "    },\n",
        "    'logistic_regression' : {\n",
        "        'model': LogisticRegression(solver='liblinear',multi_class='auto'),\n",
        "        'params': {\n",
        "            'C': [1,5,10]\n",
        "        }\n",
        "    },\n",
        "    'naive_bayes_gaussian': {\n",
        "        'model': GaussianNB(),\n",
        "        'params': {}\n",
        "    },\n",
        "    'naive_bayes_multinomial': {\n",
        "        'model': MultinomialNB(),\n",
        "        'params': {}\n",
        "    },\n",
        "    'decision_tree': {\n",
        "        'model': DecisionTreeClassifier(),\n",
        "        'params': {\n",
        "            'criterion': ['gini','entropy'],\n",
        "        }    \n",
        "    },\n",
        "       'XGB_Classifier':{\n",
        "        'model':XGBClassifier(),\n",
        "        'params':{\n",
        "            'base_score':[0.5]\n",
        "            \n",
        "        }\n",
        "    }, \n",
        "        \n",
        "     \n",
        "      }"
      ]
    },
    {
      "cell_type": "code",
      "execution_count": null,
      "id": "5c0713b6",
      "metadata": {
        "id": "5c0713b6"
      },
      "outputs": [],
      "source": [
        "from sklearn.model_selection import GridSearchCV\n",
        "scores = []\n",
        "cv = ShuffleSplit(n_splits=5, test_size=0.2, random_state=0)\n",
        "for model_name, mp in model_params.items():\n",
        "    clf =  GridSearchCV(mp['model'], mp['params'], cv=cv, return_train_score=False)\n",
        "    clf.fit(X,y)\n",
        "    scores.append({\n",
        "        'model': model_name,\n",
        "        'best_score': clf.best_score_,\n",
        "        'best_params': clf.best_params_\n",
        "    })\n",
        "    \n",
        "df = pd.DataFrame(scores,columns=['model','best_score','best_params'])\n",
        "df"
      ]
    },
    {
      "cell_type": "code",
      "execution_count": null,
      "id": "a1467300",
      "metadata": {
        "id": "a1467300"
      },
      "outputs": [],
      "source": [
        "reg=XGBClassifier()\n",
        "reg.fit(X_train, y_train)"
      ]
    },
    {
      "cell_type": "code",
      "execution_count": null,
      "id": "dc8ae2ef",
      "metadata": {
        "id": "dc8ae2ef"
      },
      "outputs": [],
      "source": [
        "reg.score(X_test, y_test)\n"
      ]
    },
    {
      "cell_type": "code",
      "execution_count": null,
      "id": "f9f9d88d",
      "metadata": {
        "id": "f9f9d88d"
      },
      "outputs": [],
      "source": [
        "y_predicted = reg.predict(X_test)\n",
        "y_predicted[:5]"
      ]
    },
    {
      "cell_type": "code",
      "execution_count": null,
      "id": "5b0e0558",
      "metadata": {
        "id": "5b0e0558"
      },
      "outputs": [],
      "source": [
        "y_test[:5]\n",
        "\n"
      ]
    },
    {
      "cell_type": "code",
      "execution_count": null,
      "id": "62788d99",
      "metadata": {
        "id": "62788d99"
      },
      "outputs": [],
      "source": [
        "import seaborn as sn\n",
        "from sklearn.metrics import confusion_matrix\n",
        "cm = confusion_matrix(y_test, y_predicted)\n",
        "plt.figure(figsize = (10,7))\n",
        "sn.heatmap(cm, annot=True)\n",
        "plt.xlabel('Predicted')\n",
        "plt.ylabel('Truth')"
      ]
    },
    {
      "cell_type": "code",
      "execution_count": null,
      "id": "617d95d9",
      "metadata": {
        "id": "617d95d9"
      },
      "outputs": [],
      "source": [
        "import seaborn as sn\n",
        "from sklearn.metrics import confusion_matrix\n",
        "cm = confusion_matrix(y_test, y_predicted)\n",
        "plt.figure(figsize = (10,7))\n",
        "sn.heatmap(cm, annot=True)\n",
        "plt.xlabel('Predicted')\n",
        "plt.ylabel('Truth')"
      ]
    },
    {
      "cell_type": "code",
      "execution_count": null,
      "id": "94ffcca6",
      "metadata": {
        "id": "94ffcca6"
      },
      "outputs": [],
      "source": [
        "from sklearn.metrics import accuracy_score\n",
        "accuracy_score(y_test, y_predicted)\n"
      ]
    },
    {
      "cell_type": "code",
      "execution_count": null,
      "id": "5c09034a",
      "metadata": {
        "id": "5c09034a"
      },
      "outputs": [],
      "source": []
    },
    {
      "cell_type": "code",
      "execution_count": null,
      "id": "aae63dbe",
      "metadata": {
        "id": "aae63dbe"
      },
      "outputs": [],
      "source": []
    },
    {
      "cell_type": "code",
      "execution_count": null,
      "id": "18b0e840",
      "metadata": {
        "id": "18b0e840"
      },
      "outputs": [],
      "source": []
    }
  ],
  "metadata": {
    "kernelspec": {
      "display_name": "Python 3 (ipykernel)",
      "language": "python",
      "name": "python3"
    },
    "language_info": {
      "codemirror_mode": {
        "name": "ipython",
        "version": 3
      },
      "file_extension": ".py",
      "mimetype": "text/x-python",
      "name": "python",
      "nbconvert_exporter": "python",
      "pygments_lexer": "ipython3",
      "version": "3.9.12"
    },
    "colab": {
      "provenance": [],
      "include_colab_link": true
    }
  },
  "nbformat": 4,
  "nbformat_minor": 5
}