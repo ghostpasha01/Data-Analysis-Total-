{
  "cells": [
    {
      "cell_type": "markdown",
      "metadata": {
        "id": "view-in-github",
        "colab_type": "text"
      },
      "source": [
        "<a href=\"https://colab.research.google.com/github/ghostpasha01/Veri_Bilimi_projelerim/blob/main/HavaYollar%C4%B1M%C3%BCsteriAnalizi.ipynb\" target=\"_parent\"><img src=\"https://colab.research.google.com/assets/colab-badge.svg\" alt=\"Open In Colab\"/></a>"
      ]
    },
    {
      "cell_type": "code",
      "execution_count": null,
      "id": "35189b26",
      "metadata": {
        "id": "35189b26"
      },
      "outputs": [],
      "source": [
        "# kütüphanelerimizi yüklüyoruz\n",
        "import numpy as np\n",
        "import pandas as pd\n",
        "import seaborn as sns \n"
      ]
    },
    {
      "cell_type": "code",
      "execution_count": null,
      "id": "b62e5aed",
      "metadata": {
        "id": "b62e5aed"
      },
      "outputs": [],
      "source": [
        "#verilerimizi çekiyoruz\n",
        "df=pd.read_csv(\"C:/Users/Hp/Desktop/Kaggle Projelerim/HavaYollarıMüsteriAnalizi.csv\")"
      ]
    },
    {
      "cell_type": "code",
      "execution_count": null,
      "id": "08181608",
      "metadata": {
        "id": "08181608",
        "outputId": "685def5d-7147-4f5c-b828-15de53ebe616"
      },
      "outputs": [
        {
          "data": {
            "text/html": [
              "<div>\n",
              "<style scoped>\n",
              "    .dataframe tbody tr th:only-of-type {\n",
              "        vertical-align: middle;\n",
              "    }\n",
              "\n",
              "    .dataframe tbody tr th {\n",
              "        vertical-align: top;\n",
              "    }\n",
              "\n",
              "    .dataframe thead th {\n",
              "        text-align: right;\n",
              "    }\n",
              "</style>\n",
              "<table border=\"1\" class=\"dataframe\">\n",
              "  <thead>\n",
              "    <tr style=\"text-align: right;\">\n",
              "      <th></th>\n",
              "      <th>satisfaction</th>\n",
              "      <th>Gender</th>\n",
              "      <th>Customer Type</th>\n",
              "      <th>Age</th>\n",
              "      <th>Type of Travel</th>\n",
              "      <th>Class</th>\n",
              "      <th>Flight Distance</th>\n",
              "      <th>Seat comfort</th>\n",
              "      <th>Departure/Arrival time convenient</th>\n",
              "      <th>Food and drink</th>\n",
              "      <th>...</th>\n",
              "      <th>Online support</th>\n",
              "      <th>Ease of Online booking</th>\n",
              "      <th>On-board service</th>\n",
              "      <th>Leg room service</th>\n",
              "      <th>Baggage handling</th>\n",
              "      <th>Checkin service</th>\n",
              "      <th>Cleanliness</th>\n",
              "      <th>Online boarding</th>\n",
              "      <th>Departure Delay in Minutes</th>\n",
              "      <th>Arrival Delay in Minutes</th>\n",
              "    </tr>\n",
              "  </thead>\n",
              "  <tbody>\n",
              "    <tr>\n",
              "      <th>0</th>\n",
              "      <td>satisfied</td>\n",
              "      <td>Female</td>\n",
              "      <td>Loyal Customer</td>\n",
              "      <td>65</td>\n",
              "      <td>Personal Travel</td>\n",
              "      <td>Eco</td>\n",
              "      <td>265</td>\n",
              "      <td>0</td>\n",
              "      <td>0</td>\n",
              "      <td>0</td>\n",
              "      <td>...</td>\n",
              "      <td>2</td>\n",
              "      <td>3</td>\n",
              "      <td>3</td>\n",
              "      <td>0</td>\n",
              "      <td>3</td>\n",
              "      <td>5</td>\n",
              "      <td>3</td>\n",
              "      <td>2</td>\n",
              "      <td>0</td>\n",
              "      <td>0.0</td>\n",
              "    </tr>\n",
              "    <tr>\n",
              "      <th>1</th>\n",
              "      <td>satisfied</td>\n",
              "      <td>Male</td>\n",
              "      <td>Loyal Customer</td>\n",
              "      <td>47</td>\n",
              "      <td>Personal Travel</td>\n",
              "      <td>Business</td>\n",
              "      <td>2464</td>\n",
              "      <td>0</td>\n",
              "      <td>0</td>\n",
              "      <td>0</td>\n",
              "      <td>...</td>\n",
              "      <td>2</td>\n",
              "      <td>3</td>\n",
              "      <td>4</td>\n",
              "      <td>4</td>\n",
              "      <td>4</td>\n",
              "      <td>2</td>\n",
              "      <td>3</td>\n",
              "      <td>2</td>\n",
              "      <td>310</td>\n",
              "      <td>305.0</td>\n",
              "    </tr>\n",
              "    <tr>\n",
              "      <th>2</th>\n",
              "      <td>satisfied</td>\n",
              "      <td>Female</td>\n",
              "      <td>Loyal Customer</td>\n",
              "      <td>15</td>\n",
              "      <td>Personal Travel</td>\n",
              "      <td>Eco</td>\n",
              "      <td>2138</td>\n",
              "      <td>0</td>\n",
              "      <td>0</td>\n",
              "      <td>0</td>\n",
              "      <td>...</td>\n",
              "      <td>2</td>\n",
              "      <td>2</td>\n",
              "      <td>3</td>\n",
              "      <td>3</td>\n",
              "      <td>4</td>\n",
              "      <td>4</td>\n",
              "      <td>4</td>\n",
              "      <td>2</td>\n",
              "      <td>0</td>\n",
              "      <td>0.0</td>\n",
              "    </tr>\n",
              "    <tr>\n",
              "      <th>3</th>\n",
              "      <td>satisfied</td>\n",
              "      <td>Female</td>\n",
              "      <td>Loyal Customer</td>\n",
              "      <td>60</td>\n",
              "      <td>Personal Travel</td>\n",
              "      <td>Eco</td>\n",
              "      <td>623</td>\n",
              "      <td>0</td>\n",
              "      <td>0</td>\n",
              "      <td>0</td>\n",
              "      <td>...</td>\n",
              "      <td>3</td>\n",
              "      <td>1</td>\n",
              "      <td>1</td>\n",
              "      <td>0</td>\n",
              "      <td>1</td>\n",
              "      <td>4</td>\n",
              "      <td>1</td>\n",
              "      <td>3</td>\n",
              "      <td>0</td>\n",
              "      <td>0.0</td>\n",
              "    </tr>\n",
              "    <tr>\n",
              "      <th>4</th>\n",
              "      <td>satisfied</td>\n",
              "      <td>Female</td>\n",
              "      <td>Loyal Customer</td>\n",
              "      <td>70</td>\n",
              "      <td>Personal Travel</td>\n",
              "      <td>Eco</td>\n",
              "      <td>354</td>\n",
              "      <td>0</td>\n",
              "      <td>0</td>\n",
              "      <td>0</td>\n",
              "      <td>...</td>\n",
              "      <td>4</td>\n",
              "      <td>2</td>\n",
              "      <td>2</td>\n",
              "      <td>0</td>\n",
              "      <td>2</td>\n",
              "      <td>4</td>\n",
              "      <td>2</td>\n",
              "      <td>5</td>\n",
              "      <td>0</td>\n",
              "      <td>0.0</td>\n",
              "    </tr>\n",
              "  </tbody>\n",
              "</table>\n",
              "<p>5 rows × 23 columns</p>\n",
              "</div>"
            ],
            "text/plain": [
              "  satisfaction  Gender   Customer Type  Age   Type of Travel     Class  \\\n",
              "0    satisfied  Female  Loyal Customer   65  Personal Travel       Eco   \n",
              "1    satisfied    Male  Loyal Customer   47  Personal Travel  Business   \n",
              "2    satisfied  Female  Loyal Customer   15  Personal Travel       Eco   \n",
              "3    satisfied  Female  Loyal Customer   60  Personal Travel       Eco   \n",
              "4    satisfied  Female  Loyal Customer   70  Personal Travel       Eco   \n",
              "\n",
              "   Flight Distance  Seat comfort  Departure/Arrival time convenient  \\\n",
              "0              265             0                                  0   \n",
              "1             2464             0                                  0   \n",
              "2             2138             0                                  0   \n",
              "3              623             0                                  0   \n",
              "4              354             0                                  0   \n",
              "\n",
              "   Food and drink  ...  Online support  Ease of Online booking  \\\n",
              "0               0  ...               2                       3   \n",
              "1               0  ...               2                       3   \n",
              "2               0  ...               2                       2   \n",
              "3               0  ...               3                       1   \n",
              "4               0  ...               4                       2   \n",
              "\n",
              "   On-board service  Leg room service  Baggage handling  Checkin service  \\\n",
              "0                 3                 0                 3                5   \n",
              "1                 4                 4                 4                2   \n",
              "2                 3                 3                 4                4   \n",
              "3                 1                 0                 1                4   \n",
              "4                 2                 0                 2                4   \n",
              "\n",
              "   Cleanliness  Online boarding  Departure Delay in Minutes  \\\n",
              "0            3                2                           0   \n",
              "1            3                2                         310   \n",
              "2            4                2                           0   \n",
              "3            1                3                           0   \n",
              "4            2                5                           0   \n",
              "\n",
              "   Arrival Delay in Minutes  \n",
              "0                       0.0  \n",
              "1                     305.0  \n",
              "2                       0.0  \n",
              "3                       0.0  \n",
              "4                       0.0  \n",
              "\n",
              "[5 rows x 23 columns]"
            ]
          },
          "execution_count": 4,
          "metadata": {},
          "output_type": "execute_result"
        }
      ],
      "source": [
        "df.head()"
      ]
    },
    {
      "cell_type": "code",
      "execution_count": null,
      "id": "7fcbe31a",
      "metadata": {
        "id": "7fcbe31a"
      },
      "outputs": [],
      "source": [
        "from sklearn.preprocessing import LabelEncoder #Kazananı tahmin etmek için kategorik \n",
        "#'memnuniyet' sütununu dönüştürüyoruz.\n",
        "LE=LabelEncoder()\n",
        "df[\"satisfaction_cat\"]=LE.fit_transform(df[\"satisfaction\"])\n",
        "df.drop([\"satisfaction\"],axis=1,inplace=True)\n",
        "df.rename(columns={\"satisfaction_cat\":\"satisfaction\"},inplace=True)\n"
      ]
    },
    {
      "cell_type": "markdown",
      "id": "e2de928a",
      "metadata": {
        "id": "e2de928a"
      },
      "source": [
        "#DATA ANALYSİS\n"
      ]
    },
    {
      "cell_type": "code",
      "execution_count": null,
      "id": "4b7633de",
      "metadata": {
        "id": "4b7633de",
        "outputId": "fd792d9b-a4d0-44e0-81d0-4ef4a19cdf63"
      },
      "outputs": [
        {
          "data": {
            "text/html": [
              "<div>\n",
              "<style scoped>\n",
              "    .dataframe tbody tr th:only-of-type {\n",
              "        vertical-align: middle;\n",
              "    }\n",
              "\n",
              "    .dataframe tbody tr th {\n",
              "        vertical-align: top;\n",
              "    }\n",
              "\n",
              "    .dataframe thead th {\n",
              "        text-align: right;\n",
              "    }\n",
              "</style>\n",
              "<table border=\"1\" class=\"dataframe\">\n",
              "  <thead>\n",
              "    <tr style=\"text-align: right;\">\n",
              "      <th></th>\n",
              "      <th>Gender</th>\n",
              "      <th>Customer Type</th>\n",
              "      <th>Age</th>\n",
              "      <th>Type of Travel</th>\n",
              "      <th>Class</th>\n",
              "      <th>Flight Distance</th>\n",
              "      <th>Seat comfort</th>\n",
              "      <th>Departure/Arrival time convenient</th>\n",
              "      <th>Food and drink</th>\n",
              "      <th>Gate location</th>\n",
              "      <th>...</th>\n",
              "      <th>Ease of Online booking</th>\n",
              "      <th>On-board service</th>\n",
              "      <th>Leg room service</th>\n",
              "      <th>Baggage handling</th>\n",
              "      <th>Checkin service</th>\n",
              "      <th>Cleanliness</th>\n",
              "      <th>Online boarding</th>\n",
              "      <th>Departure Delay in Minutes</th>\n",
              "      <th>Arrival Delay in Minutes</th>\n",
              "      <th>satisfaction</th>\n",
              "    </tr>\n",
              "  </thead>\n",
              "  <tbody>\n",
              "    <tr>\n",
              "      <th>0</th>\n",
              "      <td>Female</td>\n",
              "      <td>Loyal Customer</td>\n",
              "      <td>65</td>\n",
              "      <td>Personal Travel</td>\n",
              "      <td>Eco</td>\n",
              "      <td>265</td>\n",
              "      <td>0</td>\n",
              "      <td>0</td>\n",
              "      <td>0</td>\n",
              "      <td>2</td>\n",
              "      <td>...</td>\n",
              "      <td>3</td>\n",
              "      <td>3</td>\n",
              "      <td>0</td>\n",
              "      <td>3</td>\n",
              "      <td>5</td>\n",
              "      <td>3</td>\n",
              "      <td>2</td>\n",
              "      <td>0</td>\n",
              "      <td>0.0</td>\n",
              "      <td>1</td>\n",
              "    </tr>\n",
              "    <tr>\n",
              "      <th>1</th>\n",
              "      <td>Male</td>\n",
              "      <td>Loyal Customer</td>\n",
              "      <td>47</td>\n",
              "      <td>Personal Travel</td>\n",
              "      <td>Business</td>\n",
              "      <td>2464</td>\n",
              "      <td>0</td>\n",
              "      <td>0</td>\n",
              "      <td>0</td>\n",
              "      <td>3</td>\n",
              "      <td>...</td>\n",
              "      <td>3</td>\n",
              "      <td>4</td>\n",
              "      <td>4</td>\n",
              "      <td>4</td>\n",
              "      <td>2</td>\n",
              "      <td>3</td>\n",
              "      <td>2</td>\n",
              "      <td>310</td>\n",
              "      <td>305.0</td>\n",
              "      <td>1</td>\n",
              "    </tr>\n",
              "    <tr>\n",
              "      <th>2</th>\n",
              "      <td>Female</td>\n",
              "      <td>Loyal Customer</td>\n",
              "      <td>15</td>\n",
              "      <td>Personal Travel</td>\n",
              "      <td>Eco</td>\n",
              "      <td>2138</td>\n",
              "      <td>0</td>\n",
              "      <td>0</td>\n",
              "      <td>0</td>\n",
              "      <td>3</td>\n",
              "      <td>...</td>\n",
              "      <td>2</td>\n",
              "      <td>3</td>\n",
              "      <td>3</td>\n",
              "      <td>4</td>\n",
              "      <td>4</td>\n",
              "      <td>4</td>\n",
              "      <td>2</td>\n",
              "      <td>0</td>\n",
              "      <td>0.0</td>\n",
              "      <td>1</td>\n",
              "    </tr>\n",
              "    <tr>\n",
              "      <th>3</th>\n",
              "      <td>Female</td>\n",
              "      <td>Loyal Customer</td>\n",
              "      <td>60</td>\n",
              "      <td>Personal Travel</td>\n",
              "      <td>Eco</td>\n",
              "      <td>623</td>\n",
              "      <td>0</td>\n",
              "      <td>0</td>\n",
              "      <td>0</td>\n",
              "      <td>3</td>\n",
              "      <td>...</td>\n",
              "      <td>1</td>\n",
              "      <td>1</td>\n",
              "      <td>0</td>\n",
              "      <td>1</td>\n",
              "      <td>4</td>\n",
              "      <td>1</td>\n",
              "      <td>3</td>\n",
              "      <td>0</td>\n",
              "      <td>0.0</td>\n",
              "      <td>1</td>\n",
              "    </tr>\n",
              "    <tr>\n",
              "      <th>4</th>\n",
              "      <td>Female</td>\n",
              "      <td>Loyal Customer</td>\n",
              "      <td>70</td>\n",
              "      <td>Personal Travel</td>\n",
              "      <td>Eco</td>\n",
              "      <td>354</td>\n",
              "      <td>0</td>\n",
              "      <td>0</td>\n",
              "      <td>0</td>\n",
              "      <td>3</td>\n",
              "      <td>...</td>\n",
              "      <td>2</td>\n",
              "      <td>2</td>\n",
              "      <td>0</td>\n",
              "      <td>2</td>\n",
              "      <td>4</td>\n",
              "      <td>2</td>\n",
              "      <td>5</td>\n",
              "      <td>0</td>\n",
              "      <td>0.0</td>\n",
              "      <td>1</td>\n",
              "    </tr>\n",
              "  </tbody>\n",
              "</table>\n",
              "<p>5 rows × 23 columns</p>\n",
              "</div>"
            ],
            "text/plain": [
              "   Gender   Customer Type  Age   Type of Travel     Class  Flight Distance  \\\n",
              "0  Female  Loyal Customer   65  Personal Travel       Eco              265   \n",
              "1    Male  Loyal Customer   47  Personal Travel  Business             2464   \n",
              "2  Female  Loyal Customer   15  Personal Travel       Eco             2138   \n",
              "3  Female  Loyal Customer   60  Personal Travel       Eco              623   \n",
              "4  Female  Loyal Customer   70  Personal Travel       Eco              354   \n",
              "\n",
              "   Seat comfort  Departure/Arrival time convenient  Food and drink  \\\n",
              "0             0                                  0               0   \n",
              "1             0                                  0               0   \n",
              "2             0                                  0               0   \n",
              "3             0                                  0               0   \n",
              "4             0                                  0               0   \n",
              "\n",
              "   Gate location  ...  Ease of Online booking  On-board service  \\\n",
              "0              2  ...                       3                 3   \n",
              "1              3  ...                       3                 4   \n",
              "2              3  ...                       2                 3   \n",
              "3              3  ...                       1                 1   \n",
              "4              3  ...                       2                 2   \n",
              "\n",
              "   Leg room service  Baggage handling  Checkin service  Cleanliness  \\\n",
              "0                 0                 3                5            3   \n",
              "1                 4                 4                2            3   \n",
              "2                 3                 4                4            4   \n",
              "3                 0                 1                4            1   \n",
              "4                 0                 2                4            2   \n",
              "\n",
              "   Online boarding  Departure Delay in Minutes  Arrival Delay in Minutes  \\\n",
              "0                2                           0                       0.0   \n",
              "1                2                         310                     305.0   \n",
              "2                2                           0                       0.0   \n",
              "3                3                           0                       0.0   \n",
              "4                5                           0                       0.0   \n",
              "\n",
              "   satisfaction  \n",
              "0             1  \n",
              "1             1  \n",
              "2             1  \n",
              "3             1  \n",
              "4             1  \n",
              "\n",
              "[5 rows x 23 columns]"
            ]
          },
          "execution_count": 7,
          "metadata": {},
          "output_type": "execute_result"
        }
      ],
      "source": [
        "df.head()"
      ]
    },
    {
      "cell_type": "code",
      "execution_count": null,
      "id": "04e37660",
      "metadata": {
        "id": "04e37660",
        "outputId": "13471fb0-fc53-4d18-8b50-ceb84aa70df0"
      },
      "outputs": [
        {
          "data": {
            "text/plain": [
              "Gender                                object\n",
              "Customer Type                         object\n",
              "Age                                    int64\n",
              "Type of Travel                        object\n",
              "Class                                 object\n",
              "Flight Distance                        int64\n",
              "Seat comfort                           int64\n",
              "Departure/Arrival time convenient      int64\n",
              "Food and drink                         int64\n",
              "Gate location                          int64\n",
              "Inflight wifi service                  int64\n",
              "Inflight entertainment                 int64\n",
              "Online support                         int64\n",
              "Ease of Online booking                 int64\n",
              "On-board service                       int64\n",
              "Leg room service                       int64\n",
              "Baggage handling                       int64\n",
              "Checkin service                        int64\n",
              "Cleanliness                            int64\n",
              "Online boarding                        int64\n",
              "Departure Delay in Minutes             int64\n",
              "Arrival Delay in Minutes             float64\n",
              "satisfaction                           int32\n",
              "dtype: object"
            ]
          },
          "execution_count": 8,
          "metadata": {},
          "output_type": "execute_result"
        }
      ],
      "source": [
        "df.dtypes"
      ]
    },
    {
      "cell_type": "code",
      "execution_count": null,
      "id": "6f093600",
      "metadata": {
        "id": "6f093600",
        "outputId": "e40033ae-4f55-447a-8621-bf6bdfcfe39c"
      },
      "outputs": [
        {
          "data": {
            "text/plain": [
              "(129880, 23)"
            ]
          },
          "execution_count": 9,
          "metadata": {},
          "output_type": "execute_result"
        }
      ],
      "source": [
        "df.shape #satır ve sütün adedini gösterir"
      ]
    },
    {
      "cell_type": "code",
      "execution_count": null,
      "id": "aac635b9",
      "metadata": {
        "id": "aac635b9"
      },
      "outputs": [],
      "source": [
        "##Sınıflandırma için kullanılmayacak öznitelikleri veri kümesinden kaldırma\n",
        "df=df.drop([\"Departure/Arrival time convenient\"],axis=1)"
      ]
    },
    {
      "cell_type": "code",
      "execution_count": null,
      "id": "2b74b5bc",
      "metadata": {
        "id": "2b74b5bc",
        "outputId": "65fe4d31-8e9a-4e6a-d8e6-1b4bf8280a6b"
      },
      "outputs": [
        {
          "data": {
            "text/html": [
              "<div>\n",
              "<style scoped>\n",
              "    .dataframe tbody tr th:only-of-type {\n",
              "        vertical-align: middle;\n",
              "    }\n",
              "\n",
              "    .dataframe tbody tr th {\n",
              "        vertical-align: top;\n",
              "    }\n",
              "\n",
              "    .dataframe thead th {\n",
              "        text-align: right;\n",
              "    }\n",
              "</style>\n",
              "<table border=\"1\" class=\"dataframe\">\n",
              "  <thead>\n",
              "    <tr style=\"text-align: right;\">\n",
              "      <th></th>\n",
              "      <th>Age</th>\n",
              "      <th>Flight Distance</th>\n",
              "      <th>Seat comfort</th>\n",
              "      <th>Food and drink</th>\n",
              "      <th>Gate location</th>\n",
              "      <th>Inflight wifi service</th>\n",
              "      <th>Inflight entertainment</th>\n",
              "      <th>Online support</th>\n",
              "      <th>Ease of Online booking</th>\n",
              "      <th>On-board service</th>\n",
              "      <th>Leg room service</th>\n",
              "      <th>Baggage handling</th>\n",
              "      <th>Checkin service</th>\n",
              "      <th>Cleanliness</th>\n",
              "      <th>Online boarding</th>\n",
              "      <th>Departure Delay in Minutes</th>\n",
              "      <th>Arrival Delay in Minutes</th>\n",
              "      <th>satisfaction</th>\n",
              "    </tr>\n",
              "  </thead>\n",
              "  <tbody>\n",
              "    <tr>\n",
              "      <th>count</th>\n",
              "      <td>129880.000000</td>\n",
              "      <td>129880.000000</td>\n",
              "      <td>129880.000000</td>\n",
              "      <td>129880.000000</td>\n",
              "      <td>129880.000000</td>\n",
              "      <td>129880.000000</td>\n",
              "      <td>129880.000000</td>\n",
              "      <td>129880.000000</td>\n",
              "      <td>129880.000000</td>\n",
              "      <td>129880.000000</td>\n",
              "      <td>129880.000000</td>\n",
              "      <td>129880.000000</td>\n",
              "      <td>129880.000000</td>\n",
              "      <td>129880.000000</td>\n",
              "      <td>129880.000000</td>\n",
              "      <td>129880.000000</td>\n",
              "      <td>129487.000000</td>\n",
              "      <td>129880.000000</td>\n",
              "    </tr>\n",
              "    <tr>\n",
              "      <th>mean</th>\n",
              "      <td>39.427957</td>\n",
              "      <td>1981.409055</td>\n",
              "      <td>2.838597</td>\n",
              "      <td>2.851994</td>\n",
              "      <td>2.990422</td>\n",
              "      <td>3.249130</td>\n",
              "      <td>3.383477</td>\n",
              "      <td>3.519703</td>\n",
              "      <td>3.472105</td>\n",
              "      <td>3.465075</td>\n",
              "      <td>3.485902</td>\n",
              "      <td>3.695673</td>\n",
              "      <td>3.340807</td>\n",
              "      <td>3.705759</td>\n",
              "      <td>3.352587</td>\n",
              "      <td>14.713713</td>\n",
              "      <td>15.091129</td>\n",
              "      <td>0.547328</td>\n",
              "    </tr>\n",
              "    <tr>\n",
              "      <th>std</th>\n",
              "      <td>15.119360</td>\n",
              "      <td>1027.115606</td>\n",
              "      <td>1.392983</td>\n",
              "      <td>1.443729</td>\n",
              "      <td>1.305970</td>\n",
              "      <td>1.318818</td>\n",
              "      <td>1.346059</td>\n",
              "      <td>1.306511</td>\n",
              "      <td>1.305560</td>\n",
              "      <td>1.270836</td>\n",
              "      <td>1.292226</td>\n",
              "      <td>1.156483</td>\n",
              "      <td>1.260582</td>\n",
              "      <td>1.151774</td>\n",
              "      <td>1.298715</td>\n",
              "      <td>38.071126</td>\n",
              "      <td>38.465650</td>\n",
              "      <td>0.497757</td>\n",
              "    </tr>\n",
              "    <tr>\n",
              "      <th>min</th>\n",
              "      <td>7.000000</td>\n",
              "      <td>50.000000</td>\n",
              "      <td>0.000000</td>\n",
              "      <td>0.000000</td>\n",
              "      <td>0.000000</td>\n",
              "      <td>0.000000</td>\n",
              "      <td>0.000000</td>\n",
              "      <td>0.000000</td>\n",
              "      <td>0.000000</td>\n",
              "      <td>0.000000</td>\n",
              "      <td>0.000000</td>\n",
              "      <td>1.000000</td>\n",
              "      <td>0.000000</td>\n",
              "      <td>0.000000</td>\n",
              "      <td>0.000000</td>\n",
              "      <td>0.000000</td>\n",
              "      <td>0.000000</td>\n",
              "      <td>0.000000</td>\n",
              "    </tr>\n",
              "    <tr>\n",
              "      <th>25%</th>\n",
              "      <td>27.000000</td>\n",
              "      <td>1359.000000</td>\n",
              "      <td>2.000000</td>\n",
              "      <td>2.000000</td>\n",
              "      <td>2.000000</td>\n",
              "      <td>2.000000</td>\n",
              "      <td>2.000000</td>\n",
              "      <td>3.000000</td>\n",
              "      <td>2.000000</td>\n",
              "      <td>3.000000</td>\n",
              "      <td>2.000000</td>\n",
              "      <td>3.000000</td>\n",
              "      <td>3.000000</td>\n",
              "      <td>3.000000</td>\n",
              "      <td>2.000000</td>\n",
              "      <td>0.000000</td>\n",
              "      <td>0.000000</td>\n",
              "      <td>0.000000</td>\n",
              "    </tr>\n",
              "    <tr>\n",
              "      <th>50%</th>\n",
              "      <td>40.000000</td>\n",
              "      <td>1925.000000</td>\n",
              "      <td>3.000000</td>\n",
              "      <td>3.000000</td>\n",
              "      <td>3.000000</td>\n",
              "      <td>3.000000</td>\n",
              "      <td>4.000000</td>\n",
              "      <td>4.000000</td>\n",
              "      <td>4.000000</td>\n",
              "      <td>4.000000</td>\n",
              "      <td>4.000000</td>\n",
              "      <td>4.000000</td>\n",
              "      <td>3.000000</td>\n",
              "      <td>4.000000</td>\n",
              "      <td>4.000000</td>\n",
              "      <td>0.000000</td>\n",
              "      <td>0.000000</td>\n",
              "      <td>1.000000</td>\n",
              "    </tr>\n",
              "    <tr>\n",
              "      <th>75%</th>\n",
              "      <td>51.000000</td>\n",
              "      <td>2544.000000</td>\n",
              "      <td>4.000000</td>\n",
              "      <td>4.000000</td>\n",
              "      <td>4.000000</td>\n",
              "      <td>4.000000</td>\n",
              "      <td>4.000000</td>\n",
              "      <td>5.000000</td>\n",
              "      <td>5.000000</td>\n",
              "      <td>4.000000</td>\n",
              "      <td>5.000000</td>\n",
              "      <td>5.000000</td>\n",
              "      <td>4.000000</td>\n",
              "      <td>5.000000</td>\n",
              "      <td>4.000000</td>\n",
              "      <td>12.000000</td>\n",
              "      <td>13.000000</td>\n",
              "      <td>1.000000</td>\n",
              "    </tr>\n",
              "    <tr>\n",
              "      <th>max</th>\n",
              "      <td>85.000000</td>\n",
              "      <td>6951.000000</td>\n",
              "      <td>5.000000</td>\n",
              "      <td>5.000000</td>\n",
              "      <td>5.000000</td>\n",
              "      <td>5.000000</td>\n",
              "      <td>5.000000</td>\n",
              "      <td>5.000000</td>\n",
              "      <td>5.000000</td>\n",
              "      <td>5.000000</td>\n",
              "      <td>5.000000</td>\n",
              "      <td>5.000000</td>\n",
              "      <td>5.000000</td>\n",
              "      <td>5.000000</td>\n",
              "      <td>5.000000</td>\n",
              "      <td>1592.000000</td>\n",
              "      <td>1584.000000</td>\n",
              "      <td>1.000000</td>\n",
              "    </tr>\n",
              "  </tbody>\n",
              "</table>\n",
              "</div>"
            ],
            "text/plain": [
              "                 Age  Flight Distance   Seat comfort  Food and drink  \\\n",
              "count  129880.000000    129880.000000  129880.000000   129880.000000   \n",
              "mean       39.427957      1981.409055       2.838597        2.851994   \n",
              "std        15.119360      1027.115606       1.392983        1.443729   \n",
              "min         7.000000        50.000000       0.000000        0.000000   \n",
              "25%        27.000000      1359.000000       2.000000        2.000000   \n",
              "50%        40.000000      1925.000000       3.000000        3.000000   \n",
              "75%        51.000000      2544.000000       4.000000        4.000000   \n",
              "max        85.000000      6951.000000       5.000000        5.000000   \n",
              "\n",
              "       Gate location  Inflight wifi service  Inflight entertainment  \\\n",
              "count  129880.000000          129880.000000           129880.000000   \n",
              "mean        2.990422               3.249130                3.383477   \n",
              "std         1.305970               1.318818                1.346059   \n",
              "min         0.000000               0.000000                0.000000   \n",
              "25%         2.000000               2.000000                2.000000   \n",
              "50%         3.000000               3.000000                4.000000   \n",
              "75%         4.000000               4.000000                4.000000   \n",
              "max         5.000000               5.000000                5.000000   \n",
              "\n",
              "       Online support  Ease of Online booking  On-board service  \\\n",
              "count   129880.000000           129880.000000     129880.000000   \n",
              "mean         3.519703                3.472105          3.465075   \n",
              "std          1.306511                1.305560          1.270836   \n",
              "min          0.000000                0.000000          0.000000   \n",
              "25%          3.000000                2.000000          3.000000   \n",
              "50%          4.000000                4.000000          4.000000   \n",
              "75%          5.000000                5.000000          4.000000   \n",
              "max          5.000000                5.000000          5.000000   \n",
              "\n",
              "       Leg room service  Baggage handling  Checkin service    Cleanliness  \\\n",
              "count     129880.000000     129880.000000    129880.000000  129880.000000   \n",
              "mean           3.485902          3.695673         3.340807       3.705759   \n",
              "std            1.292226          1.156483         1.260582       1.151774   \n",
              "min            0.000000          1.000000         0.000000       0.000000   \n",
              "25%            2.000000          3.000000         3.000000       3.000000   \n",
              "50%            4.000000          4.000000         3.000000       4.000000   \n",
              "75%            5.000000          5.000000         4.000000       5.000000   \n",
              "max            5.000000          5.000000         5.000000       5.000000   \n",
              "\n",
              "       Online boarding  Departure Delay in Minutes  Arrival Delay in Minutes  \\\n",
              "count    129880.000000               129880.000000             129487.000000   \n",
              "mean          3.352587                   14.713713                 15.091129   \n",
              "std           1.298715                   38.071126                 38.465650   \n",
              "min           0.000000                    0.000000                  0.000000   \n",
              "25%           2.000000                    0.000000                  0.000000   \n",
              "50%           4.000000                    0.000000                  0.000000   \n",
              "75%           4.000000                   12.000000                 13.000000   \n",
              "max           5.000000                 1592.000000               1584.000000   \n",
              "\n",
              "        satisfaction  \n",
              "count  129880.000000  \n",
              "mean        0.547328  \n",
              "std         0.497757  \n",
              "min         0.000000  \n",
              "25%         0.000000  \n",
              "50%         1.000000  \n",
              "75%         1.000000  \n",
              "max         1.000000  "
            ]
          },
          "execution_count": 11,
          "metadata": {},
          "output_type": "execute_result"
        }
      ],
      "source": [
        "df.describe() #ortalama,standart sapma.. bilgileri getirme"
      ]
    },
    {
      "cell_type": "code",
      "execution_count": null,
      "id": "108296d1",
      "metadata": {
        "id": "108296d1",
        "outputId": "8ab6e1db-3512-4282-b8fd-3bdc03cb7328"
      },
      "outputs": [
        {
          "data": {
            "image/png": "[encoded data removed]",
            "text/plain": [
              "<Figure size 432x288 with 1 Axes>"
            ]
          },
          "metadata": {
            "needs_background": "light"
          },
          "output_type": "display_data"
        }
      ],
      "source": [
        "sns.barplot(x=\"Class\",y=\"satisfaction\",hue=\"Gender\",data=df).set_title(\"Hava yolları Müşteri verisi\");"
      ]
    },
    {
      "cell_type": "code",
      "execution_count": null,
      "id": "42dd0aa8",
      "metadata": {
        "id": "42dd0aa8",
        "outputId": "dd0f5321-9e9f-4c93-a27c-7da43c3037e8"
      },
      "outputs": [
        {
          "data": {
            "text/plain": [
              "<seaborn.axisgrid.FacetGrid at 0x25ad6336be0>"
            ]
          },
          "execution_count": 13,
          "metadata": {},
          "output_type": "execute_result"
        },
        {
          "data": {
            "image/png": "[encoded data removed]",
            "text/plain": [
              "<Figure size 425.75x360 with 1 Axes>"
            ]
          },
          "metadata": {
            "needs_background": "light"
          },
          "output_type": "display_data"
        }
      ],
      "source": [
        "sns.catplot(data=df,kind=\"violin\",x=\"Customer Type\",y=\"Age\",hue=\"satisfaction\",split=True)"
      ]
    },
    {
      "cell_type": "markdown",
      "id": "41a50102",
      "metadata": {
        "id": "41a50102"
      },
      "source": [
        "#Data Preprocessing\n"
      ]
    },
    {
      "cell_type": "code",
      "execution_count": null,
      "id": "3d84e258",
      "metadata": {
        "scrolled": true,
        "id": "3d84e258",
        "outputId": "994ad793-c160-400c-e7d9-bee2e1e2e462"
      },
      "outputs": [
        {
          "data": {
            "text/plain": [
              "Gender                          0\n",
              "Customer Type                   0\n",
              "Age                             0\n",
              "Type of Travel                  0\n",
              "Class                           0\n",
              "Flight Distance                 0\n",
              "Seat comfort                    0\n",
              "Food and drink                  0\n",
              "Gate location                   0\n",
              "Inflight wifi service           0\n",
              "Inflight entertainment          0\n",
              "Online support                  0\n",
              "Ease of Online booking          0\n",
              "On-board service                0\n",
              "Leg room service                0\n",
              "Baggage handling                0\n",
              "Checkin service                 0\n",
              "Cleanliness                     0\n",
              "Online boarding                 0\n",
              "Departure Delay in Minutes      0\n",
              "Arrival Delay in Minutes      393\n",
              "satisfaction                    0\n",
              "dtype: int64"
            ]
          },
          "execution_count": 15,
          "metadata": {},
          "output_type": "execute_result"
        }
      ],
      "source": [
        "df.isnull().sum() #eksik verileri kontrol etme"
      ]
    },
    {
      "cell_type": "code",
      "execution_count": null,
      "id": "b47e2f5d",
      "metadata": {
        "id": "b47e2f5d",
        "outputId": "7e32a054-a402-4945-d3bc-22e4f580a00e"
      },
      "outputs": [
        {
          "data": {
            "text/plain": [
              "0.0       72753\n",
              "1.0        2747\n",
              "2.0        2587\n",
              "3.0        2442\n",
              "4.0        2373\n",
              "          ...  \n",
              "391.0         1\n",
              "1584.0        1\n",
              "422.0         1\n",
              "333.0         1\n",
              "500.0         1\n",
              "Name: Arrival Delay in Minutes, Length: 472, dtype: int64"
            ]
          },
          "execution_count": 16,
          "metadata": {},
          "output_type": "execute_result"
        }
      ],
      "source": [
        "df[\"Arrival Delay in Minutes\"].value_counts()"
      ]
    },
    {
      "cell_type": "code",
      "execution_count": null,
      "id": "af9af396",
      "metadata": {
        "id": "af9af396"
      },
      "outputs": [],
      "source": [
        "from sklearn.preprocessing import LabelEncoder\n",
        "LE=LabelEncoder()\n",
        "df[\"Gender_cat\"]=LE.fit_transform(df[\"Gender\"])\n",
        "df[\"Customer Type_cat\"]=LE.fit_transform(df[\"Customer Type\"])\n",
        "df[\"Type of Travel_cat\"]=LE.fit_transform(df[\"Type of Travel\"])\n",
        "df[\"Class_cat\"]=LE.fit_transform(df[\"Class\"])"
      ]
    },
    {
      "cell_type": "code",
      "execution_count": null,
      "id": "e44c57bf",
      "metadata": {
        "id": "e44c57bf"
      },
      "outputs": [],
      "source": [
        "df.drop([\"Gender\",\"Customer Type\",\"Type of Travel\",\"Class\"],axis=1, inplace=True)"
      ]
    },
    {
      "cell_type": "code",
      "execution_count": null,
      "id": "257a0a4c",
      "metadata": {
        "id": "257a0a4c"
      },
      "outputs": [],
      "source": [
        "from sklearn.impute import SimpleImputer\n",
        "imputer=SimpleImputer(missing_values=np.nan,strategy=\"most_frequent\")\n",
        "imputer.fit(df)\n",
        "df[:]=imputer.transform(df)"
      ]
    },
    {
      "cell_type": "code",
      "execution_count": null,
      "id": "ea6b8df1",
      "metadata": {
        "id": "ea6b8df1",
        "outputId": "076d812b-0f0c-4edf-af79-4d9012a322a1"
      },
      "outputs": [
        {
          "name": "stderr",
          "output_type": "stream",
          "text": [
            "D:\\anaconda\\lib\\site-packages\\sklearn\\preprocessing\\_discretization.py:230: UserWarning: Bins whose width are too small (i.e., <= 1e-8) in feature 0 are removed. Consider decreasing the number of bins.\n",
            "  warnings.warn(\n"
          ]
        }
      ],
      "source": [
        "\n",
        "Xbin = KBinsDiscretizer(n_bins=5, encode=\"ordinal\", strategy=\"quantile\")       \n",
        "df[\"Age\"] = Xbin.fit_transform(df[[\"Age\"]])"
      ]
    },
    {
      "cell_type": "code",
      "execution_count": null,
      "id": "3875e46a",
      "metadata": {
        "id": "3875e46a"
      },
      "outputs": [],
      "source": [
        "Xbin=KBinsDiscretizer(n_bins=5,encode=\"ordinal\",strategy=\"uniform\")\n",
        "df[\"Flight Distance\"]=Xbin.fit_transform(df[[\"Flight Distance\"]])"
      ]
    },
    {
      "cell_type": "code",
      "execution_count": null,
      "id": "c3419711",
      "metadata": {
        "id": "c3419711"
      },
      "outputs": [],
      "source": [
        "Xbin=KBinsDiscretizer(n_bins=5,encode=\"ordinal\",strategy=\"uniform\")\n",
        "df[\"Departure Delay in Minutes\"]=Xbin.fit_transform(df[[\"Departure Delay in Minutes\"]])"
      ]
    },
    {
      "cell_type": "code",
      "execution_count": null,
      "id": "4c94800d",
      "metadata": {
        "id": "4c94800d"
      },
      "outputs": [],
      "source": [
        "Xbin=KBinsDiscretizer(n_bins=5,encode=\"ordinal\",strategy=\"uniform\")\n",
        "df[\"Arrival Delay in Minutes \"]=Xbin.fit_transform(df[[\"Arrival Delay in Minutes\"]])"
      ]
    },
    {
      "cell_type": "code",
      "execution_count": null,
      "id": "5d1d8cc1",
      "metadata": {
        "id": "5d1d8cc1",
        "outputId": "d59e4d4e-a95c-43a3-e764-e29d7171f3da"
      },
      "outputs": [
        {
          "data": {
            "text/html": [
              "<div>\n",
              "<style scoped>\n",
              "    .dataframe tbody tr th:only-of-type {\n",
              "        vertical-align: middle;\n",
              "    }\n",
              "\n",
              "    .dataframe tbody tr th {\n",
              "        vertical-align: top;\n",
              "    }\n",
              "\n",
              "    .dataframe thead th {\n",
              "        text-align: right;\n",
              "    }\n",
              "</style>\n",
              "<table border=\"1\" class=\"dataframe\">\n",
              "  <thead>\n",
              "    <tr style=\"text-align: right;\">\n",
              "      <th></th>\n",
              "      <th>Age</th>\n",
              "      <th>Flight Distance</th>\n",
              "      <th>Seat comfort</th>\n",
              "      <th>Food and drink</th>\n",
              "      <th>Gate location</th>\n",
              "      <th>Inflight wifi service</th>\n",
              "      <th>Inflight entertainment</th>\n",
              "      <th>Online support</th>\n",
              "      <th>Ease of Online booking</th>\n",
              "      <th>On-board service</th>\n",
              "      <th>...</th>\n",
              "      <th>Cleanliness</th>\n",
              "      <th>Online boarding</th>\n",
              "      <th>Departure Delay in Minutes</th>\n",
              "      <th>Arrival Delay in Minutes</th>\n",
              "      <th>satisfaction</th>\n",
              "      <th>Gender_cat</th>\n",
              "      <th>Customer Type_cat</th>\n",
              "      <th>Type of Travel_cat</th>\n",
              "      <th>Class_cat</th>\n",
              "      <th>Arrival Delay in Minutes</th>\n",
              "    </tr>\n",
              "  </thead>\n",
              "  <tbody>\n",
              "    <tr>\n",
              "      <th>0</th>\n",
              "      <td>1.0</td>\n",
              "      <td>0.0</td>\n",
              "      <td>0.0</td>\n",
              "      <td>0.0</td>\n",
              "      <td>2.0</td>\n",
              "      <td>2.0</td>\n",
              "      <td>4.0</td>\n",
              "      <td>2.0</td>\n",
              "      <td>3.0</td>\n",
              "      <td>3.0</td>\n",
              "      <td>...</td>\n",
              "      <td>3.0</td>\n",
              "      <td>2.0</td>\n",
              "      <td>0.0</td>\n",
              "      <td>0.0</td>\n",
              "      <td>1.0</td>\n",
              "      <td>0.0</td>\n",
              "      <td>0.0</td>\n",
              "      <td>1.0</td>\n",
              "      <td>1.0</td>\n",
              "      <td>0.0</td>\n",
              "    </tr>\n",
              "    <tr>\n",
              "      <th>1</th>\n",
              "      <td>1.0</td>\n",
              "      <td>1.0</td>\n",
              "      <td>0.0</td>\n",
              "      <td>0.0</td>\n",
              "      <td>3.0</td>\n",
              "      <td>0.0</td>\n",
              "      <td>2.0</td>\n",
              "      <td>2.0</td>\n",
              "      <td>3.0</td>\n",
              "      <td>4.0</td>\n",
              "      <td>...</td>\n",
              "      <td>3.0</td>\n",
              "      <td>2.0</td>\n",
              "      <td>0.0</td>\n",
              "      <td>305.0</td>\n",
              "      <td>1.0</td>\n",
              "      <td>1.0</td>\n",
              "      <td>0.0</td>\n",
              "      <td>1.0</td>\n",
              "      <td>0.0</td>\n",
              "      <td>0.0</td>\n",
              "    </tr>\n",
              "    <tr>\n",
              "      <th>2</th>\n",
              "      <td>0.0</td>\n",
              "      <td>1.0</td>\n",
              "      <td>0.0</td>\n",
              "      <td>0.0</td>\n",
              "      <td>3.0</td>\n",
              "      <td>2.0</td>\n",
              "      <td>0.0</td>\n",
              "      <td>2.0</td>\n",
              "      <td>2.0</td>\n",
              "      <td>3.0</td>\n",
              "      <td>...</td>\n",
              "      <td>4.0</td>\n",
              "      <td>2.0</td>\n",
              "      <td>0.0</td>\n",
              "      <td>0.0</td>\n",
              "      <td>1.0</td>\n",
              "      <td>0.0</td>\n",
              "      <td>0.0</td>\n",
              "      <td>1.0</td>\n",
              "      <td>1.0</td>\n",
              "      <td>0.0</td>\n",
              "    </tr>\n",
              "    <tr>\n",
              "      <th>3</th>\n",
              "      <td>1.0</td>\n",
              "      <td>0.0</td>\n",
              "      <td>0.0</td>\n",
              "      <td>0.0</td>\n",
              "      <td>3.0</td>\n",
              "      <td>3.0</td>\n",
              "      <td>4.0</td>\n",
              "      <td>3.0</td>\n",
              "      <td>1.0</td>\n",
              "      <td>1.0</td>\n",
              "      <td>...</td>\n",
              "      <td>1.0</td>\n",
              "      <td>3.0</td>\n",
              "      <td>0.0</td>\n",
              "      <td>0.0</td>\n",
              "      <td>1.0</td>\n",
              "      <td>0.0</td>\n",
              "      <td>0.0</td>\n",
              "      <td>1.0</td>\n",
              "      <td>1.0</td>\n",
              "      <td>0.0</td>\n",
              "    </tr>\n",
              "    <tr>\n",
              "      <th>4</th>\n",
              "      <td>1.0</td>\n",
              "      <td>0.0</td>\n",
              "      <td>0.0</td>\n",
              "      <td>0.0</td>\n",
              "      <td>3.0</td>\n",
              "      <td>4.0</td>\n",
              "      <td>3.0</td>\n",
              "      <td>4.0</td>\n",
              "      <td>2.0</td>\n",
              "      <td>2.0</td>\n",
              "      <td>...</td>\n",
              "      <td>2.0</td>\n",
              "      <td>5.0</td>\n",
              "      <td>0.0</td>\n",
              "      <td>0.0</td>\n",
              "      <td>1.0</td>\n",
              "      <td>0.0</td>\n",
              "      <td>0.0</td>\n",
              "      <td>1.0</td>\n",
              "      <td>1.0</td>\n",
              "      <td>0.0</td>\n",
              "    </tr>\n",
              "  </tbody>\n",
              "</table>\n",
              "<p>5 rows × 23 columns</p>\n",
              "</div>"
            ],
            "text/plain": [
              "   Age  Flight Distance  Seat comfort  Food and drink  Gate location  \\\n",
              "0  1.0              0.0           0.0             0.0            2.0   \n",
              "1  1.0              1.0           0.0             0.0            3.0   \n",
              "2  0.0              1.0           0.0             0.0            3.0   \n",
              "3  1.0              0.0           0.0             0.0            3.0   \n",
              "4  1.0              0.0           0.0             0.0            3.0   \n",
              "\n",
              "   Inflight wifi service  Inflight entertainment  Online support  \\\n",
              "0                    2.0                     4.0             2.0   \n",
              "1                    0.0                     2.0             2.0   \n",
              "2                    2.0                     0.0             2.0   \n",
              "3                    3.0                     4.0             3.0   \n",
              "4                    4.0                     3.0             4.0   \n",
              "\n",
              "   Ease of Online booking  On-board service  ...  Cleanliness  \\\n",
              "0                     3.0               3.0  ...          3.0   \n",
              "1                     3.0               4.0  ...          3.0   \n",
              "2                     2.0               3.0  ...          4.0   \n",
              "3                     1.0               1.0  ...          1.0   \n",
              "4                     2.0               2.0  ...          2.0   \n",
              "\n",
              "   Online boarding  Departure Delay in Minutes  Arrival Delay in Minutes  \\\n",
              "0              2.0                         0.0                       0.0   \n",
              "1              2.0                         0.0                     305.0   \n",
              "2              2.0                         0.0                       0.0   \n",
              "3              3.0                         0.0                       0.0   \n",
              "4              5.0                         0.0                       0.0   \n",
              "\n",
              "   satisfaction  Gender_cat  Customer Type_cat  Type of Travel_cat  Class_cat  \\\n",
              "0           1.0         0.0                0.0                 1.0        1.0   \n",
              "1           1.0         1.0                0.0                 1.0        0.0   \n",
              "2           1.0         0.0                0.0                 1.0        1.0   \n",
              "3           1.0         0.0                0.0                 1.0        1.0   \n",
              "4           1.0         0.0                0.0                 1.0        1.0   \n",
              "\n",
              "   Arrival Delay in Minutes   \n",
              "0                        0.0  \n",
              "1                        0.0  \n",
              "2                        0.0  \n",
              "3                        0.0  \n",
              "4                        0.0  \n",
              "\n",
              "[5 rows x 23 columns]"
            ]
          },
          "execution_count": 29,
          "metadata": {},
          "output_type": "execute_result"
        }
      ],
      "source": [
        "df.head()"
      ]
    },
    {
      "cell_type": "code",
      "execution_count": null,
      "id": "a3003af4",
      "metadata": {
        "id": "a3003af4"
      },
      "outputs": [],
      "source": [
        "# MACHİNE LEARNİNG ALGORİTMA ALANINA GİRDİK\n",
        "#Preparing the Training and Test Set"
      ]
    },
    {
      "cell_type": "code",
      "execution_count": null,
      "id": "ea2a4060",
      "metadata": {
        "id": "ea2a4060"
      },
      "outputs": [],
      "source": [
        "X=df.loc[:,:]\n",
        "y=df.loc[:,\"satisfaction\"]"
      ]
    },
    {
      "cell_type": "code",
      "execution_count": null,
      "id": "9a930087",
      "metadata": {
        "id": "9a930087"
      },
      "outputs": [],
      "source": [
        "X.drop([\"satisfaction\"],axis=1,inplace=True)"
      ]
    },
    {
      "cell_type": "code",
      "execution_count": null,
      "id": "4c54b7f7",
      "metadata": {
        "id": "4c54b7f7"
      },
      "outputs": [],
      "source": [
        "from sklearn.model_selection import train_test_split\n",
        "X_train ,X_test,y_train,y_test=train_test_split(X,y,test_size=0.30,random_state=42)"
      ]
    },
    {
      "cell_type": "code",
      "execution_count": null,
      "id": "ff565db3",
      "metadata": {
        "id": "ff565db3",
        "outputId": "39e54ab6-c068-4946-b841-a572e6bc47f3"
      },
      "outputs": [
        {
          "data": {
            "text/plain": [
              "DecisionTreeClassifier()"
            ]
          },
          "execution_count": 33,
          "metadata": {},
          "output_type": "execute_result"
        }
      ],
      "source": [
        "#karar ağaçları\n",
        "from sklearn.tree import DecisionTreeClassifier\n",
        "dt_model=DecisionTreeClassifier()\n",
        "dt_model.fit(X_train,y_train)"
      ]
    },
    {
      "cell_type": "code",
      "execution_count": null,
      "id": "e869104f",
      "metadata": {
        "id": "e869104f"
      },
      "outputs": [],
      "source": [
        "y_test_dt=dt_model.predict(X_test)"
      ]
    },
    {
      "cell_type": "code",
      "execution_count": null,
      "id": "e7796403",
      "metadata": {
        "id": "e7796403",
        "outputId": "12478754-2625-443e-cdb7-eea70f2aa0d3"
      },
      "outputs": [
        {
          "data": {
            "text/plain": [
              "0.9374807514628888"
            ]
          },
          "execution_count": 35,
          "metadata": {},
          "output_type": "execute_result"
        }
      ],
      "source": [
        "from sklearn.metrics import accuracy_score\n",
        "acc_dt=accuracy_score(y_test,y_test_dt)\n",
        "acc_dt\n"
      ]
    },
    {
      "cell_type": "code",
      "execution_count": null,
      "id": "8ab06770",
      "metadata": {
        "id": "8ab06770",
        "outputId": "e31a37b0-81f2-483f-c47a-6b10b78b492f"
      },
      "outputs": [
        {
          "data": {
            "text/plain": [
              "KNeighborsClassifier()"
            ]
          },
          "execution_count": 37,
          "metadata": {},
          "output_type": "execute_result"
        }
      ],
      "source": [
        "#KNN ALGORİTMASI\n",
        "from sklearn.neighbors import KNeighborsClassifier\n",
        "knn_model = KNeighborsClassifier(n_neighbors=5, metric=\"minkowski\", p=2)\n",
        "knn_model.fit(X_train, y_train)"
      ]
    },
    {
      "cell_type": "code",
      "execution_count": null,
      "id": "7ffa55a5",
      "metadata": {
        "id": "7ffa55a5"
      },
      "outputs": [],
      "source": [
        "y_test_knn=knn_model.predict(X_test)"
      ]
    },
    {
      "cell_type": "code",
      "execution_count": null,
      "id": "884366ec",
      "metadata": {
        "id": "884366ec",
        "outputId": "7571953d-c7e5-4903-a92a-6a4976ab143f"
      },
      "outputs": [
        {
          "data": {
            "text/plain": [
              "0.9039369674571399"
            ]
          },
          "execution_count": 39,
          "metadata": {},
          "output_type": "execute_result"
        }
      ],
      "source": [
        "from sklearn.metrics import accuracy_score\n",
        "acc_knn=accuracy_score(y_test,y_test_knn)\n",
        "acc_knn"
      ]
    },
    {
      "cell_type": "code",
      "execution_count": null,
      "id": "ab140058",
      "metadata": {
        "id": "ab140058",
        "outputId": "e593c709-b744-4b04-8ebf-dbc1f26b434c"
      },
      "outputs": [
        {
          "data": {
            "text/plain": [
              "GaussianNB()"
            ]
          },
          "execution_count": 40,
          "metadata": {},
          "output_type": "execute_result"
        }
      ],
      "source": [
        "from sklearn.naive_bayes import GaussianNB\n",
        "nb_model=GaussianNB()\n",
        "nb_model.fit(X_train,y_train)"
      ]
    },
    {
      "cell_type": "code",
      "execution_count": null,
      "id": "4280bbb0",
      "metadata": {
        "id": "4280bbb0"
      },
      "outputs": [],
      "source": [
        "y_test_nb=nb_model.predict(X_test)"
      ]
    },
    {
      "cell_type": "code",
      "execution_count": null,
      "id": "22249ea0",
      "metadata": {
        "id": "22249ea0",
        "outputId": "12bf4783-b5f1-4e91-c6b4-d32015cc97a4"
      },
      "outputs": [
        {
          "data": {
            "text/plain": [
              "0.8123652602402217"
            ]
          },
          "execution_count": 42,
          "metadata": {},
          "output_type": "execute_result"
        }
      ],
      "source": [
        "from sklearn.metrics import accuracy_score\n",
        "acc_nb=accuracy_score(y_test,y_test_nb)\n",
        "acc_nb"
      ]
    },
    {
      "cell_type": "code",
      "execution_count": null,
      "id": "786a7ba9",
      "metadata": {
        "id": "786a7ba9"
      },
      "outputs": [],
      "source": [
        "#DECİSİON TREE\n",
        "import pickle\n",
        "with open(\"dtmodel.pkl\",\"wb\")as f:\n",
        "    pickle.dump(dt_model,f)"
      ]
    },
    {
      "cell_type": "code",
      "execution_count": null,
      "id": "beb6b76f",
      "metadata": {
        "id": "beb6b76f"
      },
      "outputs": [],
      "source": [
        "#KNN\n",
        "import pickle\n",
        "with open(\"knnmodel.pkl\",\"wb\")as f:\n",
        "    pickle.dump(knn_model,f)"
      ]
    },
    {
      "cell_type": "code",
      "execution_count": null,
      "id": "5a33575f",
      "metadata": {
        "id": "5a33575f"
      },
      "outputs": [],
      "source": [
        "#NAİVE BAYES\n",
        "import pickle \n",
        "with open(\"nbmodel.pkl\",\"wb\")as f:\n",
        "    pickle.dump(nb_model,f)"
      ]
    },
    {
      "cell_type": "code",
      "execution_count": null,
      "id": "880562db",
      "metadata": {
        "id": "880562db",
        "outputId": "4d6019a7-140d-4391-80ae-9fb10e18a4e2"
      },
      "outputs": [
        {
          "data": {
            "text/plain": [
              "0.9374807514628888"
            ]
          },
          "execution_count": 46,
          "metadata": {},
          "output_type": "execute_result"
        }
      ],
      "source": [
        "# decision tree modelin tahmini\n",
        "dt_model_2=pickle.load(open(\"dtmodel.pkl\",\"rb\"))\n",
        "y_test_dt_2=dt_model_2.predict(X_test)\n",
        "acc_dt_2=accuracy_score(y_test,y_test_dt_2)\n",
        "acc_dt_2"
      ]
    },
    {
      "cell_type": "code",
      "execution_count": null,
      "id": "9655f6cb",
      "metadata": {
        "id": "9655f6cb",
        "outputId": "48d4a5d5-f01a-4417-afd6-00b014ef2b13"
      },
      "outputs": [
        {
          "data": {
            "text/plain": [
              "0.9039369674571399"
            ]
          },
          "execution_count": 47,
          "metadata": {},
          "output_type": "execute_result"
        }
      ],
      "source": [
        "# knn modelin tahmini\n",
        "knn_model_2=pickle.load(open(\"knnmodel.pkl\",\"rb\"))\n",
        "y_test_knn_2=knn_model_2.predict(X_test)\n",
        "acc_knn_2=accuracy_score(y_test,y_test_knn_2)\n",
        "acc_knn_2"
      ]
    },
    {
      "cell_type": "code",
      "execution_count": null,
      "id": "c1b9a707",
      "metadata": {
        "id": "c1b9a707",
        "outputId": "9d205d96-5472-47b5-d3f7-adc3ded0cc7f"
      },
      "outputs": [
        {
          "data": {
            "text/plain": [
              "0.8123652602402217"
            ]
          },
          "execution_count": 48,
          "metadata": {},
          "output_type": "execute_result"
        }
      ],
      "source": [
        "# navie bayes modelin tahmini\n",
        "nb_model_2=pickle.load(open(\"nbmodel.pkl\",\"rb\"))\n",
        "y_test_nb_2=nb_model_2.predict(X_test)\n",
        "acc_nb_2=accuracy_score(y_test,y_test_nb_2)\n",
        "acc_nb_2"
      ]
    },
    {
      "cell_type": "code",
      "execution_count": null,
      "id": "c8efa9a5",
      "metadata": {
        "id": "c8efa9a5",
        "outputId": "9cf05bc0-677d-409f-b6f0-921211aff207"
      },
      "outputs": [
        {
          "data": {
            "text/plain": [
              "array([[16272,  1282],\n",
              "       [ 1154, 20256]], dtype=int64)"
            ]
          },
          "execution_count": 49,
          "metadata": {},
          "output_type": "execute_result"
        }
      ],
      "source": [
        "# MATRİX SONUCLARI\n",
        "#Decision tree\n",
        "from sklearn.metrics import confusion_matrix\n",
        "confusion_matrix(y_test, y_test_dt_2, labels=[0,1])"
      ]
    },
    {
      "cell_type": "code",
      "execution_count": null,
      "id": "8f8ee17e",
      "metadata": {
        "id": "8f8ee17e",
        "outputId": "40ad624a-010f-4d5c-9c01-df1383390bc7"
      },
      "outputs": [
        {
          "data": {
            "text/plain": [
              "array([[16106,  1448],\n",
              "       [ 2295, 19115]], dtype=int64)"
            ]
          },
          "execution_count": 50,
          "metadata": {},
          "output_type": "execute_result"
        }
      ],
      "source": [
        "#KNN\n",
        "from sklearn.metrics import confusion_matrix\n",
        "confusion_matrix(y_test, y_test_knn_2, labels=[0,1])"
      ]
    },
    {
      "cell_type": "code",
      "execution_count": null,
      "id": "67b10e21",
      "metadata": {
        "id": "67b10e21",
        "outputId": "126ea55a-a7ee-4e0b-da81-d83987ba01d9"
      },
      "outputs": [
        {
          "data": {
            "text/plain": [
              "array([[13187,  4367],\n",
              "       [ 2944, 18466]], dtype=int64)"
            ]
          },
          "execution_count": 51,
          "metadata": {},
          "output_type": "execute_result"
        }
      ],
      "source": [
        "#Naive Bayes\n",
        "from sklearn.metrics import confusion_matrix\n",
        "confusion_matrix(y_test, y_test_nb_2, labels=[0,1])"
      ]
    }
  ],
  "metadata": {
    "kernelspec": {
      "display_name": "Python 3 (ipykernel)",
      "language": "python",
      "name": "python3"
    },
    "language_info": {
      "codemirror_mode": {
        "name": "ipython",
        "version": 3
      },
      "file_extension": ".py",
      "mimetype": "text/x-python",
      "name": "python",
      "nbconvert_exporter": "python",
      "pygments_lexer": "ipython3",
      "version": "3.9.12"
    },
    "colab": {
      "provenance": [],
      "include_colab_link": true
    }
  },
  "nbformat": 4,
  "nbformat_minor": 5
}