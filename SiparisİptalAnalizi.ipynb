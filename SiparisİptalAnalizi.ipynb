{
  "cells": [
    {
      "cell_type": "markdown",
      "metadata": {
        "id": "view-in-github",
        "colab_type": "text"
      },
      "source": [
        "<a href=\"https://colab.research.google.com/github/ghostpasha01/Veri_Bilimi_projelerim/blob/main/Siparis%C4%B0ptalAnalizi.ipynb\" target=\"_parent\"><img src=\"https://colab.research.google.com/assets/colab-badge.svg\" alt=\"Open In Colab\"/></a>"
      ]
    },
    {
      "cell_type": "code",
      "execution_count": null,
      "id": "1ed71fd0",
      "metadata": {
        "id": "1ed71fd0"
      },
      "outputs": [],
      "source": [
        "import pandas as pd\n"
      ]
    },
    {
      "cell_type": "code",
      "execution_count": null,
      "id": "7b37ef07",
      "metadata": {
        "id": "7b37ef07"
      },
      "outputs": [],
      "source": [
        "orders=pd.read_csv(filepath_or_buffer=\"C://Users//Hp//Desktop//datasets//data_orders.csv\")"
      ]
    },
    {
      "cell_type": "code",
      "execution_count": null,
      "id": "13a3e3d3",
      "metadata": {
        "id": "13a3e3d3",
        "outputId": "1170a655-3af2-4e7b-b76f-d5db703f2329"
      },
      "outputs": [
        {
          "data": {
            "text/plain": [
              "(10716, 8)"
            ]
          },
          "execution_count": 3,
          "metadata": {},
          "output_type": "execute_result"
        }
      ],
      "source": [
        "orders.shape "
      ]
    },
    {
      "cell_type": "code",
      "execution_count": null,
      "id": "226a5d8f",
      "metadata": {
        "scrolled": true,
        "id": "226a5d8f",
        "outputId": "d739ef42-a174-42ff-9248-30029757a4ae"
      },
      "outputs": [
        {
          "data": {
            "text/html": [
              "<div>\n",
              "<style scoped>\n",
              "    .dataframe tbody tr th:only-of-type {\n",
              "        vertical-align: middle;\n",
              "    }\n",
              "\n",
              "    .dataframe tbody tr th {\n",
              "        vertical-align: top;\n",
              "    }\n",
              "\n",
              "    .dataframe thead th {\n",
              "        text-align: right;\n",
              "    }\n",
              "</style>\n",
              "<table border=\"1\" class=\"dataframe\">\n",
              "  <thead>\n",
              "    <tr style=\"text-align: right;\">\n",
              "      <th></th>\n",
              "      <th>order_datetime</th>\n",
              "      <th>origin_longitude</th>\n",
              "      <th>origin_latitude</th>\n",
              "      <th>m_order_eta</th>\n",
              "      <th>order_gk</th>\n",
              "      <th>order_status_key</th>\n",
              "      <th>is_driver_assigned_key</th>\n",
              "      <th>cancellations_time_in_seconds</th>\n",
              "    </tr>\n",
              "  </thead>\n",
              "  <tbody>\n",
              "    <tr>\n",
              "      <th>10309</th>\n",
              "      <td>00:29:14</td>\n",
              "      <td>-0.966062</td>\n",
              "      <td>51.454821</td>\n",
              "      <td>NaN</td>\n",
              "      <td>3000555146103</td>\n",
              "      <td>4</td>\n",
              "      <td>0</td>\n",
              "      <td>44.0</td>\n",
              "    </tr>\n",
              "    <tr>\n",
              "      <th>6705</th>\n",
              "      <td>01:28:45</td>\n",
              "      <td>-0.970472</td>\n",
              "      <td>51.456725</td>\n",
              "      <td>NaN</td>\n",
              "      <td>3000595870644</td>\n",
              "      <td>4</td>\n",
              "      <td>0</td>\n",
              "      <td>121.0</td>\n",
              "    </tr>\n",
              "    <tr>\n",
              "      <th>304</th>\n",
              "      <td>08:22:36</td>\n",
              "      <td>-0.916708</td>\n",
              "      <td>51.439852</td>\n",
              "      <td>NaN</td>\n",
              "      <td>3000627783633</td>\n",
              "      <td>9</td>\n",
              "      <td>0</td>\n",
              "      <td>NaN</td>\n",
              "    </tr>\n",
              "    <tr>\n",
              "      <th>9143</th>\n",
              "      <td>07:32:27</td>\n",
              "      <td>-0.955580</td>\n",
              "      <td>51.453493</td>\n",
              "      <td>1078.0</td>\n",
              "      <td>3000622140805</td>\n",
              "      <td>4</td>\n",
              "      <td>1</td>\n",
              "      <td>1017.0</td>\n",
              "    </tr>\n",
              "    <tr>\n",
              "      <th>10593</th>\n",
              "      <td>04:39:55</td>\n",
              "      <td>-0.946358</td>\n",
              "      <td>51.439779</td>\n",
              "      <td>NaN</td>\n",
              "      <td>3000554645524</td>\n",
              "      <td>4</td>\n",
              "      <td>0</td>\n",
              "      <td>121.0</td>\n",
              "    </tr>\n",
              "    <tr>\n",
              "      <th>8654</th>\n",
              "      <td>08:05:02</td>\n",
              "      <td>-0.967327</td>\n",
              "      <td>51.449395</td>\n",
              "      <td>598.0</td>\n",
              "      <td>3000592772077</td>\n",
              "      <td>4</td>\n",
              "      <td>1</td>\n",
              "      <td>48.0</td>\n",
              "    </tr>\n",
              "    <tr>\n",
              "      <th>3919</th>\n",
              "      <td>00:21:47</td>\n",
              "      <td>-0.971597</td>\n",
              "      <td>51.457574</td>\n",
              "      <td>NaN</td>\n",
              "      <td>3000624492441</td>\n",
              "      <td>4</td>\n",
              "      <td>0</td>\n",
              "      <td>180.0</td>\n",
              "    </tr>\n",
              "    <tr>\n",
              "      <th>4337</th>\n",
              "      <td>20:26:40</td>\n",
              "      <td>-0.971296</td>\n",
              "      <td>51.458115</td>\n",
              "      <td>NaN</td>\n",
              "      <td>3000628755869</td>\n",
              "      <td>4</td>\n",
              "      <td>0</td>\n",
              "      <td>104.0</td>\n",
              "    </tr>\n",
              "    <tr>\n",
              "      <th>6931</th>\n",
              "      <td>07:25:39</td>\n",
              "      <td>-0.942301</td>\n",
              "      <td>51.474812</td>\n",
              "      <td>NaN</td>\n",
              "      <td>3000628430595</td>\n",
              "      <td>4</td>\n",
              "      <td>0</td>\n",
              "      <td>44.0</td>\n",
              "    </tr>\n",
              "    <tr>\n",
              "      <th>967</th>\n",
              "      <td>13:41:31</td>\n",
              "      <td>-0.952194</td>\n",
              "      <td>51.444067</td>\n",
              "      <td>NaN</td>\n",
              "      <td>3000623591189</td>\n",
              "      <td>9</td>\n",
              "      <td>0</td>\n",
              "      <td>NaN</td>\n",
              "    </tr>\n",
              "  </tbody>\n",
              "</table>\n",
              "</div>"
            ],
            "text/plain": [
              "      order_datetime  origin_longitude  origin_latitude  m_order_eta  \\\n",
              "10309       00:29:14         -0.966062        51.454821          NaN   \n",
              "6705        01:28:45         -0.970472        51.456725          NaN   \n",
              "304         08:22:36         -0.916708        51.439852          NaN   \n",
              "9143        07:32:27         -0.955580        51.453493       1078.0   \n",
              "10593       04:39:55         -0.946358        51.439779          NaN   \n",
              "8654        08:05:02         -0.967327        51.449395        598.0   \n",
              "3919        00:21:47         -0.971597        51.457574          NaN   \n",
              "4337        20:26:40         -0.971296        51.458115          NaN   \n",
              "6931        07:25:39         -0.942301        51.474812          NaN   \n",
              "967         13:41:31         -0.952194        51.444067          NaN   \n",
              "\n",
              "            order_gk  order_status_key  is_driver_assigned_key  \\\n",
              "10309  3000555146103                 4                       0   \n",
              "6705   3000595870644                 4                       0   \n",
              "304    3000627783633                 9                       0   \n",
              "9143   3000622140805                 4                       1   \n",
              "10593  3000554645524                 4                       0   \n",
              "8654   3000592772077                 4                       1   \n",
              "3919   3000624492441                 4                       0   \n",
              "4337   3000628755869                 4                       0   \n",
              "6931   3000628430595                 4                       0   \n",
              "967    3000623591189                 9                       0   \n",
              "\n",
              "       cancellations_time_in_seconds  \n",
              "10309                           44.0  \n",
              "6705                           121.0  \n",
              "304                              NaN  \n",
              "9143                          1017.0  \n",
              "10593                          121.0  \n",
              "8654                            48.0  \n",
              "3919                           180.0  \n",
              "4337                           104.0  \n",
              "6931                            44.0  \n",
              "967                              NaN  "
            ]
          },
          "execution_count": 4,
          "metadata": {},
          "output_type": "execute_result"
        }
      ],
      "source": [
        "# random_state argümanı aynı örneği almamızı sağlar\n",
        "# her seferinde aynı argümanlarla tüm yöntemi\n",
        "orders.sample(n=10,random_state=42)"
      ]
    },
    {
      "cell_type": "code",
      "execution_count": null,
      "id": "514f4c86",
      "metadata": {
        "id": "514f4c86"
      },
      "outputs": [],
      "source": [
        "offers=pd.read_csv(filepath_or_buffer=\"C://Users//Hp//Desktop//datasets//data_offers.csv\")"
      ]
    },
    {
      "cell_type": "code",
      "execution_count": null,
      "id": "9aea209a",
      "metadata": {
        "id": "9aea209a",
        "outputId": "8808a0b9-c287-4c05-9dc4-7cc8069b9aa3"
      },
      "outputs": [
        {
          "data": {
            "text/plain": [
              "(334363, 2)"
            ]
          },
          "execution_count": 6,
          "metadata": {},
          "output_type": "execute_result"
        }
      ],
      "source": [
        "offers.shape"
      ]
    },
    {
      "cell_type": "code",
      "execution_count": null,
      "id": "236d36ab",
      "metadata": {
        "id": "236d36ab",
        "outputId": "c9dc5824-46f6-4736-bf0f-11be0f4bedf4"
      },
      "outputs": [
        {
          "data": {
            "text/html": [
              "<div>\n",
              "<style scoped>\n",
              "    .dataframe tbody tr th:only-of-type {\n",
              "        vertical-align: middle;\n",
              "    }\n",
              "\n",
              "    .dataframe tbody tr th {\n",
              "        vertical-align: top;\n",
              "    }\n",
              "\n",
              "    .dataframe thead th {\n",
              "        text-align: right;\n",
              "    }\n",
              "</style>\n",
              "<table border=\"1\" class=\"dataframe\">\n",
              "  <thead>\n",
              "    <tr style=\"text-align: right;\">\n",
              "      <th></th>\n",
              "      <th>order_gk</th>\n",
              "      <th>offer_id</th>\n",
              "    </tr>\n",
              "  </thead>\n",
              "  <tbody>\n",
              "    <tr>\n",
              "      <th>244971</th>\n",
              "      <td>3000627481054</td>\n",
              "      <td>300052086404</td>\n",
              "    </tr>\n",
              "    <tr>\n",
              "      <th>236783</th>\n",
              "      <td>3000631282042</td>\n",
              "      <td>300052342376</td>\n",
              "    </tr>\n",
              "    <tr>\n",
              "      <th>22714</th>\n",
              "      <td>3000624367715</td>\n",
              "      <td>300051909011</td>\n",
              "    </tr>\n",
              "    <tr>\n",
              "      <th>306983</th>\n",
              "      <td>3000557436646</td>\n",
              "      <td>300050769980</td>\n",
              "    </tr>\n",
              "    <tr>\n",
              "      <th>170256</th>\n",
              "      <td>3000588131807</td>\n",
              "      <td>300051201442</td>\n",
              "    </tr>\n",
              "    <tr>\n",
              "      <th>316173</th>\n",
              "      <td>3000629756224</td>\n",
              "      <td>300052250019</td>\n",
              "    </tr>\n",
              "    <tr>\n",
              "      <th>234398</th>\n",
              "      <td>3000625018320</td>\n",
              "      <td>300051967737</td>\n",
              "    </tr>\n",
              "    <tr>\n",
              "      <th>122107</th>\n",
              "      <td>3000629082264</td>\n",
              "      <td>300052196687</td>\n",
              "    </tr>\n",
              "    <tr>\n",
              "      <th>60909</th>\n",
              "      <td>3000588606991</td>\n",
              "      <td>300051225443</td>\n",
              "    </tr>\n",
              "    <tr>\n",
              "      <th>52998</th>\n",
              "      <td>3000629981908</td>\n",
              "      <td>300052274857</td>\n",
              "    </tr>\n",
              "  </tbody>\n",
              "</table>\n",
              "</div>"
            ],
            "text/plain": [
              "             order_gk      offer_id\n",
              "244971  3000627481054  300052086404\n",
              "236783  3000631282042  300052342376\n",
              "22714   3000624367715  300051909011\n",
              "306983  3000557436646  300050769980\n",
              "170256  3000588131807  300051201442\n",
              "316173  3000629756224  300052250019\n",
              "234398  3000625018320  300051967737\n",
              "122107  3000629082264  300052196687\n",
              "60909   3000588606991  300051225443\n",
              "52998   3000629981908  300052274857"
            ]
          },
          "execution_count": 7,
          "metadata": {},
          "output_type": "execute_result"
        }
      ],
      "source": [
        "offers.sample(n=10,random_state=42)"
      ]
    },
    {
      "cell_type": "markdown",
      "id": "07fc8679",
      "metadata": {
        "id": "07fc8679"
      },
      "source": [
        "# açıklama\n",
        "Daha sonra, daha kolay manipülasyon için iki DataFramei bir araya getirmek istiyoruz.\n",
        "Pandalar, tam olarak bunu yapmak için merge() yöntemine sahiptir. SQLde tabloları birleştirmeye benzer. \n",
        "Birleştirmenin nasıl (iç) yapılmasını istediğimizi ve hangi sütunda gerçekleşmesi gerektiğini (order_gk) belirtiyoruz.\n",
        "Ardından, birleştirilmiş DataFramein bir örneğini yazdırırız."
      ]
    },
    {
      "cell_type": "code",
      "execution_count": null,
      "id": "92b9e65f",
      "metadata": {
        "id": "92b9e65f"
      },
      "outputs": [],
      "source": [
        "df=orders.merge(right=offers,how=\"inner\",on=\"order_gk\")"
      ]
    },
    {
      "cell_type": "code",
      "execution_count": null,
      "id": "30fb6362",
      "metadata": {
        "id": "30fb6362",
        "outputId": "d573d7ed-e2e8-4021-bc3e-17f26fdddb80"
      },
      "outputs": [
        {
          "data": {
            "text/html": [
              "<div>\n",
              "<style scoped>\n",
              "    .dataframe tbody tr th:only-of-type {\n",
              "        vertical-align: middle;\n",
              "    }\n",
              "\n",
              "    .dataframe tbody tr th {\n",
              "        vertical-align: top;\n",
              "    }\n",
              "\n",
              "    .dataframe thead th {\n",
              "        text-align: right;\n",
              "    }\n",
              "</style>\n",
              "<table border=\"1\" class=\"dataframe\">\n",
              "  <thead>\n",
              "    <tr style=\"text-align: right;\">\n",
              "      <th></th>\n",
              "      <th>order_datetime</th>\n",
              "      <th>origin_longitude</th>\n",
              "      <th>origin_latitude</th>\n",
              "      <th>m_order_eta</th>\n",
              "      <th>order_gk</th>\n",
              "      <th>order_status_key</th>\n",
              "      <th>is_driver_assigned_key</th>\n",
              "      <th>cancellations_time_in_seconds</th>\n",
              "      <th>offer_id</th>\n",
              "    </tr>\n",
              "  </thead>\n",
              "  <tbody>\n",
              "    <tr>\n",
              "      <th>30194</th>\n",
              "      <td>21:15:35</td>\n",
              "      <td>-0.969588</td>\n",
              "      <td>51.455780</td>\n",
              "      <td>299.0</td>\n",
              "      <td>3000555697076</td>\n",
              "      <td>4</td>\n",
              "      <td>1</td>\n",
              "      <td>223.0</td>\n",
              "      <td>300050725946</td>\n",
              "    </tr>\n",
              "    <tr>\n",
              "      <th>14748</th>\n",
              "      <td>10:13:35</td>\n",
              "      <td>-0.955958</td>\n",
              "      <td>51.430362</td>\n",
              "      <td>NaN</td>\n",
              "      <td>3000626091676</td>\n",
              "      <td>4</td>\n",
              "      <td>0</td>\n",
              "      <td>91.0</td>\n",
              "      <td>300052014519</td>\n",
              "    </tr>\n",
              "    <tr>\n",
              "      <th>29083</th>\n",
              "      <td>09:16:38</td>\n",
              "      <td>-1.033560</td>\n",
              "      <td>51.441967</td>\n",
              "      <td>NaN</td>\n",
              "      <td>3000594099225</td>\n",
              "      <td>4</td>\n",
              "      <td>0</td>\n",
              "      <td>68.0</td>\n",
              "      <td>300051458740</td>\n",
              "    </tr>\n",
              "    <tr>\n",
              "      <th>16926</th>\n",
              "      <td>02:08:09</td>\n",
              "      <td>-0.967676</td>\n",
              "      <td>51.444489</td>\n",
              "      <td>NaN</td>\n",
              "      <td>3000626980467</td>\n",
              "      <td>4</td>\n",
              "      <td>0</td>\n",
              "      <td>125.0</td>\n",
              "      <td>300052031394</td>\n",
              "    </tr>\n",
              "    <tr>\n",
              "      <th>21530</th>\n",
              "      <td>21:44:21</td>\n",
              "      <td>-0.972683</td>\n",
              "      <td>51.456762</td>\n",
              "      <td>NaN</td>\n",
              "      <td>3000554421440</td>\n",
              "      <td>4</td>\n",
              "      <td>0</td>\n",
              "      <td>11.0</td>\n",
              "      <td>300050671163</td>\n",
              "    </tr>\n",
              "    <tr>\n",
              "      <th>13008</th>\n",
              "      <td>03:03:45</td>\n",
              "      <td>-0.966745</td>\n",
              "      <td>51.453236</td>\n",
              "      <td>NaN</td>\n",
              "      <td>3000593295623</td>\n",
              "      <td>9</td>\n",
              "      <td>0</td>\n",
              "      <td>NaN</td>\n",
              "      <td>300051413313</td>\n",
              "    </tr>\n",
              "    <tr>\n",
              "      <th>2034</th>\n",
              "      <td>14:41:22</td>\n",
              "      <td>-0.948642</td>\n",
              "      <td>51.449587</td>\n",
              "      <td>NaN</td>\n",
              "      <td>3000584916226</td>\n",
              "      <td>4</td>\n",
              "      <td>0</td>\n",
              "      <td>6.0</td>\n",
              "      <td>300051090742</td>\n",
              "    </tr>\n",
              "    <tr>\n",
              "      <th>2229</th>\n",
              "      <td>20:54:03</td>\n",
              "      <td>-0.991382</td>\n",
              "      <td>51.476339</td>\n",
              "      <td>NaN</td>\n",
              "      <td>3000585716553</td>\n",
              "      <td>9</td>\n",
              "      <td>0</td>\n",
              "      <td>NaN</td>\n",
              "      <td>300051125957</td>\n",
              "    </tr>\n",
              "    <tr>\n",
              "      <th>16632</th>\n",
              "      <td>18:06:17</td>\n",
              "      <td>-0.948907</td>\n",
              "      <td>51.444643</td>\n",
              "      <td>NaN</td>\n",
              "      <td>3000627382471</td>\n",
              "      <td>4</td>\n",
              "      <td>0</td>\n",
              "      <td>113.0</td>\n",
              "      <td>300052078801</td>\n",
              "    </tr>\n",
              "    <tr>\n",
              "      <th>18189</th>\n",
              "      <td>07:52:29</td>\n",
              "      <td>-0.973793</td>\n",
              "      <td>51.458665</td>\n",
              "      <td>479.0</td>\n",
              "      <td>3000587781360</td>\n",
              "      <td>4</td>\n",
              "      <td>1</td>\n",
              "      <td>47.0</td>\n",
              "      <td>300051178628</td>\n",
              "    </tr>\n",
              "  </tbody>\n",
              "</table>\n",
              "</div>"
            ],
            "text/plain": [
              "      order_datetime  origin_longitude  origin_latitude  m_order_eta  \\\n",
              "30194       21:15:35         -0.969588        51.455780        299.0   \n",
              "14748       10:13:35         -0.955958        51.430362          NaN   \n",
              "29083       09:16:38         -1.033560        51.441967          NaN   \n",
              "16926       02:08:09         -0.967676        51.444489          NaN   \n",
              "21530       21:44:21         -0.972683        51.456762          NaN   \n",
              "13008       03:03:45         -0.966745        51.453236          NaN   \n",
              "2034        14:41:22         -0.948642        51.449587          NaN   \n",
              "2229        20:54:03         -0.991382        51.476339          NaN   \n",
              "16632       18:06:17         -0.948907        51.444643          NaN   \n",
              "18189       07:52:29         -0.973793        51.458665        479.0   \n",
              "\n",
              "            order_gk  order_status_key  is_driver_assigned_key  \\\n",
              "30194  3000555697076                 4                       1   \n",
              "14748  3000626091676                 4                       0   \n",
              "29083  3000594099225                 4                       0   \n",
              "16926  3000626980467                 4                       0   \n",
              "21530  3000554421440                 4                       0   \n",
              "13008  3000593295623                 9                       0   \n",
              "2034   3000584916226                 4                       0   \n",
              "2229   3000585716553                 9                       0   \n",
              "16632  3000627382471                 4                       0   \n",
              "18189  3000587781360                 4                       1   \n",
              "\n",
              "       cancellations_time_in_seconds      offer_id  \n",
              "30194                          223.0  300050725946  \n",
              "14748                           91.0  300052014519  \n",
              "29083                           68.0  300051458740  \n",
              "16926                          125.0  300052031394  \n",
              "21530                           11.0  300050671163  \n",
              "13008                            NaN  300051413313  \n",
              "2034                             6.0  300051090742  \n",
              "2229                             NaN  300051125957  \n",
              "16632                          113.0  300052078801  \n",
              "18189                           47.0  300051178628  "
            ]
          },
          "execution_count": 9,
          "metadata": {},
          "output_type": "execute_result"
        }
      ],
      "source": [
        "df.sample(n=10,random_state=42)"
      ]
    },
    {
      "cell_type": "markdown",
      "id": "eb460535",
      "metadata": {
        "id": "eb460535"
      },
      "source": [
        "# açıklama\n",
        "Veri kalitesini biraz iyileştirmek için bir şeyler yapabiliriz. Örneğin, içindeki order_status_key ve içindeki değerler\n",
        "is_driver_assigned_key içerik hakkında bilgi vermez, daha çok bazı dahili açıklamalara işaret eden anahtarlardır. \n",
        "Değerlerini daha bilgilendirici bilgilerle değiştirebiliriz, örneğin 1syi is_driver_assigned_keystring Yes ve 0syi string\n",
        "ile değiştirmek gibi No. order_status_key Aynı şey sütun için de yapılabilir . Ayrıca, sütunların adları biraz teknik gelebilir,\n",
        "ancak bunları değiştirebiliriz."
      ]
    },
    {
      "cell_type": "code",
      "execution_count": null,
      "id": "712a928c",
      "metadata": {
        "id": "712a928c"
      },
      "outputs": [],
      "source": [
        "import numpy as np\n",
        "\n",
        "df[\"is_driver_assigned\"]=np.where(df[\"is_driver_assigned_key\"]==1,\"Yes\",\"No\")\n",
        "df[\"order_status\"]=np.where(df[\"order_status_key\"]==4,\"Client Cancelled\",\"System Reject\")\n",
        "df.drop(columns=[\"is_driver_assigned_key\",\"order_status_key\"],inplace=True)"
      ]
    },
    {
      "cell_type": "code",
      "execution_count": null,
      "id": "c43cb984",
      "metadata": {
        "id": "c43cb984"
      },
      "outputs": [],
      "source": [
        "df=df.rename(columns={\n",
        "    \"order_datetime\":\"order_time\"\n",
        "})"
      ]
    },
    {
      "cell_type": "code",
      "execution_count": null,
      "id": "0ee16f4e",
      "metadata": {
        "id": "0ee16f4e",
        "outputId": "1d438772-a526-4e99-9d09-906667918930"
      },
      "outputs": [
        {
          "data": {
            "text/html": [
              "<div>\n",
              "<style scoped>\n",
              "    .dataframe tbody tr th:only-of-type {\n",
              "        vertical-align: middle;\n",
              "    }\n",
              "\n",
              "    .dataframe tbody tr th {\n",
              "        vertical-align: top;\n",
              "    }\n",
              "\n",
              "    .dataframe thead th {\n",
              "        text-align: right;\n",
              "    }\n",
              "</style>\n",
              "<table border=\"1\" class=\"dataframe\">\n",
              "  <thead>\n",
              "    <tr style=\"text-align: right;\">\n",
              "      <th></th>\n",
              "      <th>order_time</th>\n",
              "      <th>origin_longitude</th>\n",
              "      <th>origin_latitude</th>\n",
              "      <th>m_order_eta</th>\n",
              "      <th>order_gk</th>\n",
              "      <th>cancellations_time_in_seconds</th>\n",
              "      <th>offer_id</th>\n",
              "      <th>is_driver_assigned</th>\n",
              "      <th>order_status</th>\n",
              "    </tr>\n",
              "  </thead>\n",
              "  <tbody>\n",
              "    <tr>\n",
              "      <th>30194</th>\n",
              "      <td>21:15:35</td>\n",
              "      <td>-0.969588</td>\n",
              "      <td>51.455780</td>\n",
              "      <td>299.0</td>\n",
              "      <td>3000555697076</td>\n",
              "      <td>223.0</td>\n",
              "      <td>300050725946</td>\n",
              "      <td>Yes</td>\n",
              "      <td>Client Cancelled</td>\n",
              "    </tr>\n",
              "    <tr>\n",
              "      <th>14748</th>\n",
              "      <td>10:13:35</td>\n",
              "      <td>-0.955958</td>\n",
              "      <td>51.430362</td>\n",
              "      <td>NaN</td>\n",
              "      <td>3000626091676</td>\n",
              "      <td>91.0</td>\n",
              "      <td>300052014519</td>\n",
              "      <td>No</td>\n",
              "      <td>Client Cancelled</td>\n",
              "    </tr>\n",
              "    <tr>\n",
              "      <th>29083</th>\n",
              "      <td>09:16:38</td>\n",
              "      <td>-1.033560</td>\n",
              "      <td>51.441967</td>\n",
              "      <td>NaN</td>\n",
              "      <td>3000594099225</td>\n",
              "      <td>68.0</td>\n",
              "      <td>300051458740</td>\n",
              "      <td>No</td>\n",
              "      <td>Client Cancelled</td>\n",
              "    </tr>\n",
              "    <tr>\n",
              "      <th>16926</th>\n",
              "      <td>02:08:09</td>\n",
              "      <td>-0.967676</td>\n",
              "      <td>51.444489</td>\n",
              "      <td>NaN</td>\n",
              "      <td>3000626980467</td>\n",
              "      <td>125.0</td>\n",
              "      <td>300052031394</td>\n",
              "      <td>No</td>\n",
              "      <td>Client Cancelled</td>\n",
              "    </tr>\n",
              "    <tr>\n",
              "      <th>21530</th>\n",
              "      <td>21:44:21</td>\n",
              "      <td>-0.972683</td>\n",
              "      <td>51.456762</td>\n",
              "      <td>NaN</td>\n",
              "      <td>3000554421440</td>\n",
              "      <td>11.0</td>\n",
              "      <td>300050671163</td>\n",
              "      <td>No</td>\n",
              "      <td>Client Cancelled</td>\n",
              "    </tr>\n",
              "    <tr>\n",
              "      <th>13008</th>\n",
              "      <td>03:03:45</td>\n",
              "      <td>-0.966745</td>\n",
              "      <td>51.453236</td>\n",
              "      <td>NaN</td>\n",
              "      <td>3000593295623</td>\n",
              "      <td>NaN</td>\n",
              "      <td>300051413313</td>\n",
              "      <td>No</td>\n",
              "      <td>System Reject</td>\n",
              "    </tr>\n",
              "    <tr>\n",
              "      <th>2034</th>\n",
              "      <td>14:41:22</td>\n",
              "      <td>-0.948642</td>\n",
              "      <td>51.449587</td>\n",
              "      <td>NaN</td>\n",
              "      <td>3000584916226</td>\n",
              "      <td>6.0</td>\n",
              "      <td>300051090742</td>\n",
              "      <td>No</td>\n",
              "      <td>Client Cancelled</td>\n",
              "    </tr>\n",
              "    <tr>\n",
              "      <th>2229</th>\n",
              "      <td>20:54:03</td>\n",
              "      <td>-0.991382</td>\n",
              "      <td>51.476339</td>\n",
              "      <td>NaN</td>\n",
              "      <td>3000585716553</td>\n",
              "      <td>NaN</td>\n",
              "      <td>300051125957</td>\n",
              "      <td>No</td>\n",
              "      <td>System Reject</td>\n",
              "    </tr>\n",
              "    <tr>\n",
              "      <th>16632</th>\n",
              "      <td>18:06:17</td>\n",
              "      <td>-0.948907</td>\n",
              "      <td>51.444643</td>\n",
              "      <td>NaN</td>\n",
              "      <td>3000627382471</td>\n",
              "      <td>113.0</td>\n",
              "      <td>300052078801</td>\n",
              "      <td>No</td>\n",
              "      <td>Client Cancelled</td>\n",
              "    </tr>\n",
              "    <tr>\n",
              "      <th>18189</th>\n",
              "      <td>07:52:29</td>\n",
              "      <td>-0.973793</td>\n",
              "      <td>51.458665</td>\n",
              "      <td>479.0</td>\n",
              "      <td>3000587781360</td>\n",
              "      <td>47.0</td>\n",
              "      <td>300051178628</td>\n",
              "      <td>Yes</td>\n",
              "      <td>Client Cancelled</td>\n",
              "    </tr>\n",
              "  </tbody>\n",
              "</table>\n",
              "</div>"
            ],
            "text/plain": [
              "      order_time  origin_longitude  origin_latitude  m_order_eta  \\\n",
              "30194   21:15:35         -0.969588        51.455780        299.0   \n",
              "14748   10:13:35         -0.955958        51.430362          NaN   \n",
              "29083   09:16:38         -1.033560        51.441967          NaN   \n",
              "16926   02:08:09         -0.967676        51.444489          NaN   \n",
              "21530   21:44:21         -0.972683        51.456762          NaN   \n",
              "13008   03:03:45         -0.966745        51.453236          NaN   \n",
              "2034    14:41:22         -0.948642        51.449587          NaN   \n",
              "2229    20:54:03         -0.991382        51.476339          NaN   \n",
              "16632   18:06:17         -0.948907        51.444643          NaN   \n",
              "18189   07:52:29         -0.973793        51.458665        479.0   \n",
              "\n",
              "            order_gk  cancellations_time_in_seconds      offer_id  \\\n",
              "30194  3000555697076                          223.0  300050725946   \n",
              "14748  3000626091676                           91.0  300052014519   \n",
              "29083  3000594099225                           68.0  300051458740   \n",
              "16926  3000626980467                          125.0  300052031394   \n",
              "21530  3000554421440                           11.0  300050671163   \n",
              "13008  3000593295623                            NaN  300051413313   \n",
              "2034   3000584916226                            6.0  300051090742   \n",
              "2229   3000585716553                            NaN  300051125957   \n",
              "16632  3000627382471                          113.0  300052078801   \n",
              "18189  3000587781360                           47.0  300051178628   \n",
              "\n",
              "      is_driver_assigned      order_status  \n",
              "30194                Yes  Client Cancelled  \n",
              "14748                 No  Client Cancelled  \n",
              "29083                 No  Client Cancelled  \n",
              "16926                 No  Client Cancelled  \n",
              "21530                 No  Client Cancelled  \n",
              "13008                 No     System Reject  \n",
              "2034                  No  Client Cancelled  \n",
              "2229                  No     System Reject  \n",
              "16632                 No  Client Cancelled  \n",
              "18189                Yes  Client Cancelled  "
            ]
          },
          "execution_count": 12,
          "metadata": {},
          "output_type": "execute_result"
        }
      ],
      "source": [
        "df.sample(n=10, random_state=42)"
      ]
    },
    {
      "cell_type": "markdown",
      "id": "c021fb8e",
      "metadata": {
        "id": "c021fb8e"
      },
      "source": [
        "# Soru 1\n",
        "Başarısızlık nedenlerine göre bir sipariş dağılımı oluşturun: sürücü atamasından önceki ve sonraki iptaller ve sipariş reddi\n",
        "nedenleri. Ortaya çıkan grafiği analiz edin. En çok sipariş hangi kategoride?"
      ]
    },
    {
      "cell_type": "markdown",
      "id": "3bff6717",
      "metadata": {
        "id": "3bff6717"
      },
      "source": [
        "# AÇIKLAMA\n",
        "Bu soruyu çözmek için basit bir çözüm, DataFramei ve sütunlarına göre gruplandırmak için groupby yöntemini kullanmakve ardından\n",
        "her gruptaki satırları, yani gruplandırma sütunları için her bir değer kombinasyonunu saymaktır.is_driver_assignedorder_status \n",
        "Her ikisi de ikili değişkenler olduğundan (yalnızca iki olası değere sahip olduğundan), dört olası kombinasyon vardır.\n",
        "Aşağıdaki hücre, önerilen yaklaşımın çıktısını yazdırır.Şoför atanmadan önce çok sayıda siparişin iptal edildiğini görüyoruz, \n",
        "bu da müşterilerin ulaşım ihtiyaçları için çok uzun süre beklediklerini ve bir alternatife karar verdiklerini gösteriyor.\n",
        "13435 Müşteri tarafından iptal edilen 9469 ve sistem tarafından reddedilen siparişlerimiz var . 8360 Bir sürücü atandıktan sonra\n",
        "müşteri iptalleri vardır ve bunlardan yalnızca dördü bir nedenden dolayı sistem tarafından reddedilmiştir."
      ]
    },
    {
      "cell_type": "code",
      "execution_count": null,
      "id": "0d9e724e",
      "metadata": {
        "id": "0d9e724e",
        "outputId": "cf8e2ecc-7cb2-463c-bfcc-95855cb70ae9"
      },
      "outputs": [
        {
          "data": {
            "text/plain": [
              "is_driver_assigned  order_status    \n",
              "No                  Client Cancelled    13435\n",
              "                    System Reject        9469\n",
              "Yes                 Client Cancelled     8360\n",
              "                    System Reject           4\n",
              "Name: order_gk, dtype: int64"
            ]
          },
          "execution_count": 14,
          "metadata": {},
          "output_type": "execute_result"
        }
      ],
      "source": [
        "df.groupby(by=[\"is_driver_assigned\",\"order_status\"])[\"order_gk\"].count()"
      ]
    },
    {
      "cell_type": "markdown",
      "id": "226e79f5",
      "metadata": {
        "id": "226e79f5"
      },
      "source": [
        "# Bu soruya bir başka ilginç yaklaşım da pivot tabloları kullanmaktır"
      ]
    },
    {
      "cell_type": "code",
      "execution_count": null,
      "id": "300c7ad3",
      "metadata": {
        "id": "300c7ad3",
        "outputId": "39fcd272-9247-4a07-c663-fb7ab3f89707"
      },
      "outputs": [
        {
          "data": {
            "image/png": "[encoded data removed]",
            "text/plain": [
              "<Figure size 504x504 with 1 Axes>"
            ]
          },
          "metadata": {
            "needs_background": "light"
          },
          "output_type": "display_data"
        }
      ],
      "source": [
        "df_q1=df.pivot_table(columns=[\"is_driver_assigned\",\"order_status\"],values=\"order_gk\",aggfunc=\"count\")\n",
        "_=df_q1.plot(kind=\"bar\",subplots=False,figsize=(7,7),legend=True,rot=0)"
      ]
    },
    {
      "cell_type": "code",
      "execution_count": null,
      "id": "7d1cda98",
      "metadata": {
        "id": "7d1cda98",
        "outputId": "588ab66d-ac95-46fa-f4d4-a766544f9cb7"
      },
      "outputs": [
        {
          "data": {
            "text/html": [
              "<div>\n",
              "<style scoped>\n",
              "    .dataframe tbody tr th:only-of-type {\n",
              "        vertical-align: middle;\n",
              "    }\n",
              "\n",
              "    .dataframe tbody tr th {\n",
              "        vertical-align: top;\n",
              "    }\n",
              "\n",
              "    .dataframe thead tr th {\n",
              "        text-align: left;\n",
              "    }\n",
              "</style>\n",
              "<table border=\"1\" class=\"dataframe\">\n",
              "  <thead>\n",
              "    <tr>\n",
              "      <th>is_driver_assigned</th>\n",
              "      <th colspan=\"2\" halign=\"left\">No</th>\n",
              "      <th colspan=\"2\" halign=\"left\">Yes</th>\n",
              "    </tr>\n",
              "    <tr>\n",
              "      <th>order_status</th>\n",
              "      <th>Client Cancelled</th>\n",
              "      <th>System Reject</th>\n",
              "      <th>Client Cancelled</th>\n",
              "      <th>System Reject</th>\n",
              "    </tr>\n",
              "  </thead>\n",
              "  <tbody>\n",
              "    <tr>\n",
              "      <th>order_gk</th>\n",
              "      <td>13435</td>\n",
              "      <td>9469</td>\n",
              "      <td>8360</td>\n",
              "      <td>4</td>\n",
              "    </tr>\n",
              "  </tbody>\n",
              "</table>\n",
              "</div>"
            ],
            "text/plain": [
              "is_driver_assigned               No                            Yes  \\\n",
              "order_status       Client Cancelled System Reject Client Cancelled   \n",
              "order_gk                      13435          9469             8360   \n",
              "\n",
              "is_driver_assigned                \n",
              "order_status       System Reject  \n",
              "order_gk                       4  "
            ]
          },
          "execution_count": 16,
          "metadata": {},
          "output_type": "execute_result"
        }
      ],
      "source": [
        "# pivot tablonun yapısı, gruplandırma veri çerçevesine çok benzer \n",
        "df_q1"
      ]
    },
    {
      "cell_type": "markdown",
      "id": "7d9490ef",
      "metadata": {
        "id": "7d9490ef"
      },
      "source": [
        "# soru 2\n",
        "Başarısız siparişlerin dağılımını saatlere göre çizin. Belirli saatlerin bir kategoride anormal derecede yüksek bir orana sahip\n",
        "olduğu yönünde bir eğilim var mı? En büyük başarısızlıklar hangi saatler? Bu nasıl açıklanabilir?"
      ]
    },
    {
      "cell_type": "markdown",
      "id": "d92dc851",
      "metadata": {
        "id": "d92dc851"
      },
      "source": [
        "# açıklama\n",
        "Bu soru, başarısız siparişlerin analizine daha derinlemesine girerek bir öncekinin üzerine insa edilmiştir. Başarısızlıkların\n",
        "kategoriye göre dağılımını (iptal nedeni ve sürücü ataması) çizmek yerine, bu başarısızlıkların ne zaman meydana geldiğini\n",
        "ve gün içinde bir kategorinin diğerlerine üstün geldiği belirli bir dönem olup olmadığını bilmek istiyoruz.\n",
        "\n"
      ]
    },
    {
      "cell_type": "code",
      "execution_count": null,
      "id": "46bc5d4b",
      "metadata": {
        "id": "46bc5d4b"
      },
      "outputs": [],
      "source": [
        "#saat sütunundan saati çıkar\n",
        "df[\"order_hour\"]=df[\"order_time\"].str.split(\":\").apply(lambda split: split[0])"
      ]
    },
    {
      "cell_type": "code",
      "execution_count": null,
      "id": "b65fa64d",
      "metadata": {
        "id": "b65fa64d",
        "outputId": "fff5904b-60c0-49ed-fc49-f7b0ee148fde"
      },
      "outputs": [
        {
          "data": {
            "text/html": [
              "<div>\n",
              "<style scoped>\n",
              "    .dataframe tbody tr th:only-of-type {\n",
              "        vertical-align: middle;\n",
              "    }\n",
              "\n",
              "    .dataframe tbody tr th {\n",
              "        vertical-align: top;\n",
              "    }\n",
              "\n",
              "    .dataframe thead th {\n",
              "        text-align: right;\n",
              "    }\n",
              "</style>\n",
              "<table border=\"1\" class=\"dataframe\">\n",
              "  <thead>\n",
              "    <tr style=\"text-align: right;\">\n",
              "      <th></th>\n",
              "      <th>order_time</th>\n",
              "      <th>origin_longitude</th>\n",
              "      <th>origin_latitude</th>\n",
              "      <th>m_order_eta</th>\n",
              "      <th>order_gk</th>\n",
              "      <th>cancellations_time_in_seconds</th>\n",
              "      <th>offer_id</th>\n",
              "      <th>is_driver_assigned</th>\n",
              "      <th>order_status</th>\n",
              "      <th>order_hour</th>\n",
              "    </tr>\n",
              "  </thead>\n",
              "  <tbody>\n",
              "    <tr>\n",
              "      <th>30194</th>\n",
              "      <td>21:15:35</td>\n",
              "      <td>-0.969588</td>\n",
              "      <td>51.455780</td>\n",
              "      <td>299.0</td>\n",
              "      <td>3000555697076</td>\n",
              "      <td>223.0</td>\n",
              "      <td>300050725946</td>\n",
              "      <td>Yes</td>\n",
              "      <td>Client Cancelled</td>\n",
              "      <td>21</td>\n",
              "    </tr>\n",
              "    <tr>\n",
              "      <th>14748</th>\n",
              "      <td>10:13:35</td>\n",
              "      <td>-0.955958</td>\n",
              "      <td>51.430362</td>\n",
              "      <td>NaN</td>\n",
              "      <td>3000626091676</td>\n",
              "      <td>91.0</td>\n",
              "      <td>300052014519</td>\n",
              "      <td>No</td>\n",
              "      <td>Client Cancelled</td>\n",
              "      <td>10</td>\n",
              "    </tr>\n",
              "    <tr>\n",
              "      <th>29083</th>\n",
              "      <td>09:16:38</td>\n",
              "      <td>-1.033560</td>\n",
              "      <td>51.441967</td>\n",
              "      <td>NaN</td>\n",
              "      <td>3000594099225</td>\n",
              "      <td>68.0</td>\n",
              "      <td>300051458740</td>\n",
              "      <td>No</td>\n",
              "      <td>Client Cancelled</td>\n",
              "      <td>09</td>\n",
              "    </tr>\n",
              "    <tr>\n",
              "      <th>16926</th>\n",
              "      <td>02:08:09</td>\n",
              "      <td>-0.967676</td>\n",
              "      <td>51.444489</td>\n",
              "      <td>NaN</td>\n",
              "      <td>3000626980467</td>\n",
              "      <td>125.0</td>\n",
              "      <td>300052031394</td>\n",
              "      <td>No</td>\n",
              "      <td>Client Cancelled</td>\n",
              "      <td>02</td>\n",
              "    </tr>\n",
              "    <tr>\n",
              "      <th>21530</th>\n",
              "      <td>21:44:21</td>\n",
              "      <td>-0.972683</td>\n",
              "      <td>51.456762</td>\n",
              "      <td>NaN</td>\n",
              "      <td>3000554421440</td>\n",
              "      <td>11.0</td>\n",
              "      <td>300050671163</td>\n",
              "      <td>No</td>\n",
              "      <td>Client Cancelled</td>\n",
              "      <td>21</td>\n",
              "    </tr>\n",
              "  </tbody>\n",
              "</table>\n",
              "</div>"
            ],
            "text/plain": [
              "      order_time  origin_longitude  origin_latitude  m_order_eta  \\\n",
              "30194   21:15:35         -0.969588        51.455780        299.0   \n",
              "14748   10:13:35         -0.955958        51.430362          NaN   \n",
              "29083   09:16:38         -1.033560        51.441967          NaN   \n",
              "16926   02:08:09         -0.967676        51.444489          NaN   \n",
              "21530   21:44:21         -0.972683        51.456762          NaN   \n",
              "\n",
              "            order_gk  cancellations_time_in_seconds      offer_id  \\\n",
              "30194  3000555697076                          223.0  300050725946   \n",
              "14748  3000626091676                           91.0  300052014519   \n",
              "29083  3000594099225                           68.0  300051458740   \n",
              "16926  3000626980467                          125.0  300052031394   \n",
              "21530  3000554421440                           11.0  300050671163   \n",
              "\n",
              "      is_driver_assigned      order_status order_hour  \n",
              "30194                Yes  Client Cancelled         21  \n",
              "14748                 No  Client Cancelled         10  \n",
              "29083                 No  Client Cancelled         09  \n",
              "16926                 No  Client Cancelled         02  \n",
              "21530                 No  Client Cancelled         21  "
            ]
          },
          "execution_count": 18,
          "metadata": {},
          "output_type": "execute_result"
        }
      ],
      "source": [
        "#dönüşümün doğru olduğundan emin olmak için küçük bir örnek yazdırıyoruz.\n",
        "df.sample(n=5,random_state=42)"
      ]
    },
    {
      "cell_type": "code",
      "execution_count": null,
      "id": "79c85b0d",
      "metadata": {
        "id": "79c85b0d",
        "outputId": "87f154fb-4155-4a3c-f816-f14cefcfd56d"
      },
      "outputs": [
        {
          "data": {
            "image/png": "[encoded data removed]",
            "text/plain": [
              "<Figure size 720x504 with 1 Axes>"
            ]
          },
          "metadata": {
            "needs_background": "light"
          },
          "output_type": "display_data"
        }
      ],
      "source": [
        "_=df.groupby(by=\"order_hour\")[\"order_gk\"].count().plot(figsize=(10,7),\n",
        "                                                      legend=True,\n",
        "                                                      xticks=range(0,24),\n",
        "                                                      title=\"Günün Saatine Göre Başarısız Sipariş Sayısı\")"
      ]
    },
    {
      "cell_type": "markdown",
      "id": "9d29a743",
      "metadata": {
        "id": "9d29a743"
      },
      "source": [
        "# açıklama\n",
        "Bu tür toplu bilgileri içeren bir DataFrame doğru ilk adım olarak, sipariş saatine, sürücü tarafından atanan bayrağa ve \n",
        "sipariş durumuna göre gruplandırıyoruz ve ardından sayısını sayıyoruz order_gk."
      ]
    },
    {
      "cell_type": "code",
      "execution_count": null,
      "id": "c00bc465",
      "metadata": {
        "id": "c00bc465",
        "outputId": "9bf63ad2-3e9b-43d2-81e2-554d083cdab5"
      },
      "outputs": [
        {
          "data": {
            "text/plain": [
              "order_hour  is_driver_assigned  order_status    \n",
              "00          No                  Client Cancelled     957\n",
              "                                System Reject        706\n",
              "            Yes                 Client Cancelled     326\n",
              "                                System Reject          4\n",
              "01          No                  Client Cancelled     633\n",
              "                                                    ... \n",
              "22          No                  System Reject        660\n",
              "            Yes                 Client Cancelled     415\n",
              "23          No                  Client Cancelled    1144\n",
              "                                System Reject        883\n",
              "            Yes                 Client Cancelled     444\n",
              "Name: order_gk, Length: 73, dtype: int64"
            ]
          },
          "execution_count": 21,
          "metadata": {},
          "output_type": "execute_result"
        }
      ],
      "source": [
        "grouped_q2=df.groupby(by=[\"order_hour\",\"is_driver_assigned\",\"order_status\"])[\"order_gk\"].count()\n",
        "grouped_q2"
      ]
    },
    {
      "cell_type": "code",
      "execution_count": null,
      "id": "e238c1d1",
      "metadata": {
        "id": "e238c1d1",
        "outputId": "a425c0b1-0cc4-461b-ad15-6bc65882ba60"
      },
      "outputs": [
        {
          "data": {
            "image/png": "[encoded data removed]",
            "text/plain": [
              "<Figure size 936x504 with 1 Axes>"
            ]
          },
          "metadata": {
            "needs_background": "light"
          },
          "output_type": "display_data"
        }
      ],
      "source": [
        "_ = grouped_q2.reset_index().pivot(index=\"order_hour\",\n",
        "                                   columns=[\"is_driver_assigned\", \"order_status\"],\n",
        "                                   values=\"order_gk\").plot(xticks=range(0, 24),\n",
        "                                                           figsize=(13, 7),\n",
        "                                                           title=\"Saat ve Kategori Başına Başarısız Sipariş Sayısı\")\n"
      ]
    },
    {
      "cell_type": "markdown",
      "id": "12b7c1b4",
      "metadata": {
        "id": "12b7c1b4"
      },
      "source": [
        "# açıklama\n",
        "Dört sistem reddi, atanan sürücü ile gece yarısı civarında meydana geldi (gruplandırılmış DataFramein çıktısına bakın).\n",
        "Kategorilerin geri kalanı, gece saatlerinde önemli ölçüde daha düşük bir sayıya sahip atanan sürücü ile müşteri iptalleri\n",
        "ile benzer bir dağılım izler.\n",
        "\n"
      ]
    },
    {
      "cell_type": "markdown",
      "id": "bb114f28",
      "metadata": {
        "id": "bb114f28"
      },
      "source": [
        "# Soru 3\n",
        "Sürücülü ve sürücüsüz iptal için ortalama süreyi saat bazında çizin. Bu kurgudan herhangi bir sonuç çıkarabilir miyiz?"
      ]
    },
    {
      "cell_type": "markdown",
      "id": "fb59e77e",
      "metadata": {
        "id": "fb59e77e"
      },
      "source": [
        "# açıklama\n",
        "Bu soruyu çözmek için önceki soruyla aynı yaklaşımı izleyeceğiz.\n",
        "İlk olarak, DataFramei sipariş saatine ve sürücü atama bayrağına göre toplayacağız. Ardından,\n",
        "sütunu ortalama cancellations_time_in_seconds işleviyle toplayacağız . Bu bize gerekli, toplu bilgileri verecektir."
      ]
    },
    {
      "cell_type": "code",
      "execution_count": null,
      "id": "73a4a705",
      "metadata": {
        "id": "73a4a705",
        "outputId": "6cb41163-94f0-4e56-977d-5d41c7372839"
      },
      "outputs": [
        {
          "data": {
            "text/plain": [
              "order_hour  is_driver_assigned\n",
              "00          No                    115.126437\n",
              "            Yes                   276.082822\n",
              "01          No                    100.593997\n",
              "            Yes                   296.312081\n",
              "02          No                    121.305461\n",
              "            Yes                   301.466667\n",
              "03          No                    129.182301\n",
              "            Yes                   368.682051\n",
              "04          No                    100.733333\n",
              "            Yes                   245.250000\n",
              "05          No                    102.838710\n",
              "            Yes                   156.617021\n",
              "06          No                    202.952663\n",
              "            Yes                   225.508772\n",
              "07          No                    141.177820\n",
              "            Yes                   177.640232\n",
              "08          No                    132.625432\n",
              "            Yes                   172.896296\n",
              "09          No                    138.014894\n",
              "            Yes                   230.821862\n",
              "10          No                     93.795082\n",
              "            Yes                   206.447368\n",
              "11          No                     93.090323\n",
              "            Yes                   276.793103\n",
              "12          No                    128.224299\n",
              "            Yes                   243.000000\n",
              "13          No                    103.577982\n",
              "            Yes                   248.301170\n",
              "14          No                    112.752412\n",
              "            Yes                   241.367003\n",
              "15          No                    140.970492\n",
              "            Yes                   188.380762\n",
              "16          No                    123.181102\n",
              "            Yes                   217.126844\n",
              "17          No                    106.842593\n",
              "            Yes                   280.782796\n",
              "18          No                     85.845638\n",
              "            Yes                   270.277333\n",
              "19          No                    103.231405\n",
              "            Yes                   151.039088\n",
              "20          No                    117.518072\n",
              "            Yes                   214.517341\n",
              "21          No                    130.828290\n",
              "            Yes                   224.443077\n",
              "22          No                    103.662474\n",
              "            Yes                   230.720482\n",
              "23          No                    117.294580\n",
              "            Yes                   320.189189\n",
              "Name: cancellations_time_in_seconds, dtype: float64"
            ]
          },
          "execution_count": 29,
          "metadata": {},
          "output_type": "execute_result"
        }
      ],
      "source": [
        "group_q3=df.groupby(by=[\"order_hour\",\"is_driver_assigned\"])[\"cancellations_time_in_seconds\"].mean()\n",
        "group_q3"
      ]
    },
    {
      "cell_type": "code",
      "execution_count": null,
      "id": "92e523ab",
      "metadata": {
        "id": "92e523ab",
        "outputId": "0b95ee45-3869-407d-9395-fd7f30490df5"
      },
      "outputs": [
        {
          "data": {
            "image/png": "[encoded data removed]",
            "text/plain": [
              "<Figure size 936x504 with 1 Axes>"
            ]
          },
          "metadata": {
            "needs_background": "light"
          },
          "output_type": "display_data"
        }
      ],
      "source": [
        "_ = group_q3.reset_index().pivot(index=\"order_hour\",\n",
        "                                   columns=\"is_driver_assigned\",\n",
        "                                   values=\"cancellations_time_in_seconds\").plot(xticks=range(0, 24),\n",
        "                                                                                figsize=(13, 7),\n",
        "                                                                                title=\"Saat ve Sürücü Ataması Başına Ortalama İptal Süresi\")"
      ]
    },
    {
      "cell_type": "markdown",
      "id": "a3492449",
      "metadata": {
        "id": "a3492449"
      },
      "source": [
        "# açıklama\n",
        "Atanmış bir sürücüye sahip siparişlerde, istisnasız her saat için ortalama iptal süresi, sürücüsüz siparişlere göre daha yüksektir. Zirve saat 3te gerçekleşir. Şu anda çok sayıda müşteri iptali var, \n",
        "bu nedenle mantıklı bir açıklama, müşterilerin sürücü için çok uzun süre beklemesi olabilir."
      ]
    },
    {
      "cell_type": "markdown",
      "id": "dab06f86",
      "metadata": {
        "id": "dab06f86"
      },
      "source": [
        "# 4. soru\n",
        "Ortalama ETA'nın dağılımını saatlere göre çizin. Bu arsa nasıl açıklanabilir?"
      ]
    },
    {
      "cell_type": "markdown",
      "id": "d7203a7f",
      "metadata": {
        "id": "d7203a7f"
      },
      "source": [
        "# açıklama\n",
        "Bu sorunun çözümü oldukça basittir. Sipariş saatinde DataFrame göre gruplandırıyoruz ve m_order_etasütunu ortalama bir\n",
        "fonksiyonla topluyoruz. Ardından, elde edilen DataFramei çiziyoruz. Sonuç hemen aşağıdaki hücrededir. Satır, saat başına\n",
        "başarısız siparişlerin sayısıyla çok yakından eşleşir; bu , müşterinin ortalama bekleme süresi arttıkça başarısız siparişlerin \n",
        "sayısının arttığını gösterir ."
      ]
    },
    {
      "cell_type": "code",
      "execution_count": null,
      "id": "c3fb6726",
      "metadata": {
        "id": "c3fb6726",
        "outputId": "1e3548f0-268f-4bac-d36e-5c757582dff2"
      },
      "outputs": [
        {
          "data": {
            "image/png": "[encoded data removed]",
            "text/plain": [
              "<Figure size 1008x504 with 1 Axes>"
            ]
          },
          "metadata": {
            "needs_background": "light"
          },
          "output_type": "display_data"
        }
      ],
      "source": [
        "_ = df.groupby(by=\"order_hour\")[\"m_order_eta\"].mean().plot(figsize=(14, 7),\n",
        "                                                           xticks=range(0, 24),\n",
        "                                                           title=\"Saat başına ortalama ETA\")"
      ]
    },
    {
      "cell_type": "markdown",
      "id": "aeea164f",
      "metadata": {
        "id": "aeea164f"
      },
      "source": [
        "# BONUS: Soru 5\n",
        "h3 ve folium paketlerini kullanarak , orijinal veri kümelerinden tüm siparişlerin %80ini içeren kaç tane boyut 8 hexi hesaplayın\n",
        "ve hexleri haritadaki başarısızlık sayısına göre renklendirerek görselleştirin."
      ]
    },
    {
      "cell_type": "code",
      "execution_count": null,
      "id": "3545a7e2",
      "metadata": {
        "id": "3545a7e2"
      },
      "outputs": [],
      "source": [
        "import h3\n",
        "import folium"
      ]
    },
    {
      "cell_type": "code",
      "execution_count": null,
      "id": "e1056b31",
      "metadata": {
        "id": "e1056b31"
      },
      "outputs": [],
      "source": [
        "df[\"hex_id\"] = df.apply(\n",
        "    func=lambda row: h3.geo_to_h3(lat=row[\"origin_latitude\"], lng=row[\"origin_longitude\"], resolution=8), axis=1)"
      ]
    },
    {
      "cell_type": "code",
      "execution_count": null,
      "id": "eafd1832",
      "metadata": {
        "id": "eafd1832"
      },
      "outputs": [],
      "source": [
        "grouped_q5 = df.groupby(by=\"hex_id\")[\"order_gk\"].count()\n",
        "grouped_q5.shape"
      ]
    },
    {
      "cell_type": "code",
      "execution_count": null,
      "id": "361c898b",
      "metadata": {
        "id": "361c898b"
      },
      "outputs": [],
      "source": [
        "grouped_q5 = grouped_q5.reset_index()\n",
        "grouped_q5.sample(n=5, random_state=42)"
      ]
    },
    {
      "cell_type": "markdown",
      "id": "27b734fd",
      "metadata": {
        "id": "27b734fd"
      },
      "source": [
        "# açıklama\n",
        "Siparişlerin %80ini içeren hex sayısını bulmak için DataFramedeki order_gk sayım sütunu üzerinde kümülatif bir yüzde işlemi\n",
        "uygulayacağız. grouped_q5 Bu, aşağıdaki adımlardan oluşur:\n",
        "\n",
        "1-DataFramei sayıya göre sıralayın.\n",
        "2-Başarısız siparişlerin toplam sayısını (toplamını) bulun.\n",
        "3-Sipariş sayısı sütununun kümülatif toplamını bulmak için cumsum yöntemini uygulayın .\n",
        "4-Yüzdeleri oluşturmak için toplam toplama bölün.\n",
        "5-%80e en yakın satırı bulmak için filtreleyin."
      ]
    },
    {
      "cell_type": "code",
      "execution_count": null,
      "id": "f068af89",
      "metadata": {
        "id": "f068af89"
      },
      "outputs": [],
      "source": [
        "grouped_q5 = grouped_q5.sort_values(by=\"order_gk\")  # 1\n",
        "total_orders = grouped_q5[\"order_gk\"].sum()  # 2\n",
        "grouped_q5[\"cum_sum\"] = grouped_q5[\"order_gk\"].cumsum()  # 3\n",
        "grouped_q5[\"cum_perc\"] = 100 * grouped_q5[\"cum_sum\"] / total_orders  # 4\n",
        "grouped_q5[grouped_q5[\"cum_perc\"] <= 80]  # 5"
      ]
    },
    {
      "cell_type": "markdown",
      "id": "b8001e10",
      "metadata": {
        "id": "b8001e10"
      },
      "source": [
        "# açıklama\n",
        "Nihai çıktıda 137 satır ve orijinal gruplandırılmış DataFramede 139 satır vardır, yani 137 altıgen verinin yaklaşık\n",
        "%80ini içerir ve yalnızca 2 altıgen diğer %20yi içerir!"
      ]
    },
    {
      "cell_type": "code",
      "execution_count": null,
      "id": "70597d7f",
      "metadata": {
        "id": "70597d7f"
      },
      "outputs": [],
      "source": [
        "map = folium.Map(location=[df[\"origin_latitude\"].mean(), df[\"origin_longitude\"].mean()],\n",
        "                 zoom_start=8.5,  # after a bit of experimentation, we thought this presents the map best\n",
        "                 tiles=\"cartodbpositron\")"
      ]
    },
    {
      "cell_type": "code",
      "execution_count": null,
      "id": "c7428956",
      "metadata": {
        "id": "c7428956"
      },
      "outputs": [],
      "source": [
        "import json\n",
        "import geojson\n",
        "\n",
        "\n",
        "def to_geojson(row):\n",
        "    \"\"\"Transform hex_id into a geojson object.\"\"\"\n",
        "    geometry = {\n",
        "        \"type\": \"Polygon\",\n",
        "        \"coordinates\": [h3.h3_to_geo_boundary(h=row[\"hex_id\"], geo_json=True)]\n",
        "    }\n",
        "    return geojson.Feature(id=row[\"hex_id\"], geometry=geometry, properties={\"order_gk\": row[\"order_gk\"]})\n",
        "\n",
        "\n",
        "geojsons = grouped_q5.apply(func=to_geojson, axis=1).values.tolist()\n",
        "geojson_str: str = json.dumps(geojson.FeatureCollection(geojsons))"
      ]
    },
    {
      "cell_type": "code",
      "execution_count": null,
      "id": "2d1fd5a2",
      "metadata": {
        "id": "2d1fd5a2"
      },
      "outputs": [],
      "source": [
        "import matplotlib\n",
        "\n",
        "# instantiate a colormap object for better visualisation\n",
        "colormap = matplotlib.cm.get_cmap(name=\"plasma\")\n",
        "max_order_gk = grouped_q5[\"order_gk\"].max()\n",
        "min_order_gk = grouped_q5[\"order_gk\"].min()"
      ]
    },
    {
      "cell_type": "code",
      "execution_count": null,
      "id": "c21fb574",
      "metadata": {
        "id": "c21fb574"
      },
      "outputs": [],
      "source": [
        "_ = folium.GeoJson(data=geojson_str, style_function=lambda f: {\n",
        "    \"fillColor\": matplotlib.colors.to_hex(\n",
        "        colormap((f[\"properties\"][\"order_gk\"] - min_order_gk) / (max_order_gk - min_order_gk))),\n",
        "    \"color\": \"black\",\n",
        "    \"weight\": 1,\n",
        "    \"fillOpacity\": 0.7\n",
        "}).add_to(map)"
      ]
    },
    {
      "cell_type": "code",
      "execution_count": null,
      "id": "2425438a",
      "metadata": {
        "id": "2425438a"
      },
      "outputs": [],
      "source": [
        "map\n"
      ]
    }
  ],
  "metadata": {
    "kernelspec": {
      "display_name": "Python 3 (ipykernel)",
      "language": "python",
      "name": "python3"
    },
    "language_info": {
      "codemirror_mode": {
        "name": "ipython",
        "version": 3
      },
      "file_extension": ".py",
      "mimetype": "text/x-python",
      "name": "python",
      "nbconvert_exporter": "python",
      "pygments_lexer": "ipython3",
      "version": "3.9.12"
    },
    "colab": {
      "provenance": [],
      "include_colab_link": true
    }
  },
  "nbformat": 4,
  "nbformat_minor": 5
}